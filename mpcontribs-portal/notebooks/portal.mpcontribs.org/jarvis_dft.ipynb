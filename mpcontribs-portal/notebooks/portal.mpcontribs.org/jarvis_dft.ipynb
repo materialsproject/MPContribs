{
 "cells": [
  {
   "cell_type": "code",
   "execution_count": null,
   "metadata": {},
   "outputs": [],
   "source": [
    "import os, json, tarfile\n",
    "from mpcontribs.client import Client\n",
    "from urllib.request import urlretrieve\n",
    "from monty.json import MontyDecoder\n",
    "from unflatten import unflatten\n",
    "from tqdm.notebook import tqdm"
   ]
  },
  {
   "cell_type": "code",
   "execution_count": null,
   "metadata": {},
   "outputs": [],
   "source": [
    "name = 'jarvis_dft'\n",
    "client = Client()"
   ]
  },
  {
   "cell_type": "markdown",
   "metadata": {},
   "source": [
    "**Retrieve and update project info**"
   ]
  },
  {
   "cell_type": "code",
   "execution_count": null,
   "metadata": {},
   "outputs": [],
   "source": [
    "# client.projects.update_entry(pk=name, project={\n",
    "#     'long_title': '2D & 3D DFT Calculations by NIST',\n",
    "#     'unique_identifiers': False\n",
    "# }).result()\n",
    "client.get_project(name).pretty()"
   ]
  },
  {
   "cell_type": "markdown",
   "metadata": {},
   "source": [
    "**Create contributions**"
   ]
  },
  {
   "cell_type": "code",
   "execution_count": null,
   "metadata": {},
   "outputs": [],
   "source": [
    "dimensions = ['2d', '3d']\n",
    "tgz = \"jdft_{}.json.tgz\"\n",
    "config = {\n",
    "    \"file\": f\"https://www.ctcms.nist.gov/~knc6/{tgz}\",\n",
    "    \"details\": \"https://www.ctcms.nist.gov/~knc6/jsmol/{}.html\",\n",
    "    'columns': {  # 'mpid'\n",
    "        'jid': {'name': 'details'},\n",
    "        'fin_en': {'name': 'E', 'unit': 'meV'},\n",
    "        'exfoliation_en': {'name': 'Eₓ', 'unit': 'eV'},\n",
    "        'form_enp': {'name': 'ΔH', 'unit': 'eV'},\n",
    "        'op_gap': {'name': 'ΔEⱽᴰᵂ', 'unit': 'meV'},\n",
    "        'mbj_gap': {'name': 'ΔEᴹᴮᴶ', 'unit': 'meV'},\n",
    "        'kv': {'name': 'Kᵥ', 'unit': 'GPa'},\n",
    "        'gv': {'name': 'Gᵥ', 'unit': 'GPa'},\n",
    "        'magmom': {'name': 'µ', 'unit': 'µᵇ'}\n",
    "    }\n",
    "}"
   ]
  },
  {
   "cell_type": "code",
   "execution_count": null,
   "metadata": {},
   "outputs": [],
   "source": [
    "dbdir = \"/Users/patrick/gitrepos/mp/MPContribs/mpcontribs-data\"\n",
    "raw_data = {}  # as read from raw files\n",
    "\n",
    "for dim in dimensions:\n",
    "    url = config[\"file\"].format(dim)\n",
    "    dbfile = url.rsplit('/')[-1]\n",
    "    dbpath = os.path.join(dbdir, dbfile)\n",
    "    \n",
    "    if not os.path.exists(dbpath):\n",
    "        print('downloading', dbpath, '...')\n",
    "        urlretrieve(url, dbpath)\n",
    "\n",
    "    with tarfile.open(dbpath, \"r:gz\") as tar:\n",
    "        member = tar.getmembers()[0]\n",
    "        raw_data[dim] = json.load(tar.extractfile(member), cls=MontyDecoder)\n",
    "        \n",
    "    print(dim, len(raw_data[dim]))"
   ]
  },
  {
   "cell_type": "markdown",
   "metadata": {},
   "source": [
    "**Create contributions**"
   ]
  },
  {
   "cell_type": "code",
   "execution_count": null,
   "metadata": {},
   "outputs": [],
   "source": [
    "contributions = []\n",
    "ncontribs = sum(len(raw_data[dim]) for dim in dimensions)\n",
    "\n",
    "with tqdm(total=ncontribs) as pbar:\n",
    "    for dim in dimensions:\n",
    "        for rd in raw_data[dim]:\n",
    "            contrib = {\n",
    "                'project': name, 'is_public': True,\n",
    "                'identifier': rd[\"mpid\"],\n",
    "                'data': {'type': dim.upper()}\n",
    "            }\n",
    "\n",
    "            dct = {}\n",
    "            for k, col in config['columns'].items():\n",
    "                hdr, unit = col['name'], col.get('unit')\n",
    "                if k == 'jid':\n",
    "                    dct[hdr] = config[hdr].format(rd[k])\n",
    "                elif k in rd:\n",
    "                    if unit and rd[k]:\n",
    "                        try:\n",
    "                            float(rd[k])\n",
    "                        except ValueError:\n",
    "                            continue\n",
    "                    dct[hdr] = f'{rd[k]} {unit}' if unit else rd[k]\n",
    "\n",
    "                contrib[\"data\"].update(unflatten(dct))\n",
    "\n",
    "            contrib[\"structures\"] = [rd['final_str']]\n",
    "            contributions.append(contrib)\n",
    "            pbar.update(1)\n",
    "\n",
    "# make sure that contributions with all columns come first\n",
    "contributions = [d for d in sorted(\n",
    "    contributions, key=lambda x: len(x[\"data\"]), reverse=True\n",
    ")]"
   ]
  },
  {
   "cell_type": "markdown",
   "metadata": {},
   "source": [
    "**Submit contributions**"
   ]
  },
  {
   "cell_type": "code",
   "execution_count": null,
   "metadata": {},
   "outputs": [],
   "source": [
    "# need to delete contributions first due to unique_identifiers=False\n",
    "client.delete_contributions(name)\n",
    "client.submit_contributions(contributions, per_page=100)"
   ]
  },
  {
   "cell_type": "markdown",
   "metadata": {},
   "source": [
    "**Query contributions**"
   ]
  },
  {
   "cell_type": "code",
   "execution_count": null,
   "metadata": {},
   "outputs": [],
   "source": [
    "query = {\n",
    "    \"project\": name,\n",
    "    \"formula__contains\": \"Co\",\n",
    "    \"data__type__contains\": \"3D\",\n",
    "    \"data__Kᵥ__value__gte\": 0,\n",
    "    \"_order_by\": \"data__ΔEⱽᴰᵂ__value\",\n",
    "    \"order\": \"desc\",\n",
    "    \"_fields\": [\n",
    "        \"id\", \"identifier\", \"formula\",\n",
    "        \"data.type\", \"data.ΔEⱽᴰᵂ.value\",\n",
    "        \"data.ΔEᴹᴮᴶ.value\", \"data.Kᵥ.value\",\n",
    "        \"structures\"\n",
    "    ],\n",
    "    \"_limit\": 10\n",
    "}    \n",
    "resp = client.contributions.get_entries(**query).result()"
   ]
  },
  {
   "cell_type": "code",
   "execution_count": null,
   "metadata": {},
   "outputs": [],
   "source": [
    "sid = resp[\"data\"][0][\"structures\"][0][\"id\"]\n",
    "client.get_structure(sid)"
   ]
  }
 ],
 "metadata": {
  "kernelspec": {
   "display_name": "Python 3",
   "language": "python",
   "name": "python3"
  },
  "language_info": {
   "codemirror_mode": {
    "name": "ipython",
    "version": 3
   },
   "file_extension": ".py",
   "mimetype": "text/x-python",
   "name": "python",
   "nbconvert_exporter": "python",
   "pygments_lexer": "ipython3",
   "version": "3.8.3"
  }
 },
 "nbformat": 4,
 "nbformat_minor": 4
}
