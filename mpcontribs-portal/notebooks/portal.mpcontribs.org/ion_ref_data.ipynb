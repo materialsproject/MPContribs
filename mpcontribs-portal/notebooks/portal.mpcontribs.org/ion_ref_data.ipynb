{
 "cells": [
  {
   "cell_type": "markdown",
   "metadata": {},
   "source": [
    "# Move Ion Reference data into an MPContribs Project"
   ]
  },
  {
   "cell_type": "markdown",
   "metadata": {},
   "source": [
    "---\n",
    "## Header"
   ]
  },
  {
   "cell_type": "markdown",
   "metadata": {},
   "source": [
    "#### Imports"
   ]
  },
  {
   "cell_type": "code",
   "execution_count": 25,
   "metadata": {},
   "outputs": [],
   "source": [
    "from pprint import pprint\n",
    "from monty.serialization import loadfn, dumpfn\n",
    "from pymatgen.core.ion import Ion"
   ]
  },
  {
   "cell_type": "markdown",
   "metadata": {},
   "source": [
    "---\n",
    "## Main Code"
   ]
  },
  {
   "cell_type": "markdown",
   "metadata": {},
   "source": [
    "### Load the ion reference data from the .json file and examine its format\n",
    "\n",
    "`aqeuous_ions.json` can be downloaded from https://github.com/materialsproject/pymatpro/blob/master/pymatpro/pourbaix_tools/aqueous_ions.json"
   ]
  },
  {
   "cell_type": "code",
   "execution_count": 24,
   "metadata": {},
   "outputs": [],
   "source": [
    "ion_ref_data = loadfn(\"aqueous_ions.json\")"
   ]
  },
  {
   "cell_type": "code",
   "execution_count": 13,
   "metadata": {},
   "outputs": [
    {
     "data": {
      "text/plain": [
       "{'Major_Elements': ['Li'],\n",
       " 'Source': 'H. E. Barner and R. V. Scheuerman, Handbook of thermochemical data for compounds and aqueous species, Wiley, New York (1978)',\n",
       " 'Reference Solid': 'Li2O',\n",
       " 'Reference solid energy': -5.8167501960259,\n",
       " 'Energy': -3.0441,\n",
       " 'Name': 'Li[+]'}"
      ]
     },
     "execution_count": 13,
     "metadata": {},
     "output_type": "execute_result"
    }
   ],
   "source": [
    "# NOTE: all energy units are eV/formula unit\n",
    "ion_ref_data[0]"
   ]
  },
  {
   "cell_type": "markdown",
   "metadata": {},
   "source": [
    "### Path one entry according to `patch_aqueous_ions.json` on pymatpro\n",
    "https://github.com/materialsproject/pymatpro/blob/master/pymatpro/pourbaix_tools/patch_aqueous_ions.json\n"
   ]
  },
  {
   "cell_type": "code",
   "execution_count": 14,
   "metadata": {},
   "outputs": [
    {
     "name": "stdout",
     "output_type": "stream",
     "text": [
      "Replaced entry at index 121\n"
     ]
    }
   ],
   "source": [
    "for i, e in enumerate(ion_ref_data):\n",
    "    if e[\"Name\"] == \"HGaO2[2-]\":\n",
    "        ion_ref_data[i] = {\n",
    "            \"Energy\": -7.1099,\n",
    "            \"Major_Elements\": [\n",
    "                \"Ga\"\n",
    "            ],\n",
    "            \"Name\": \"HGaO3[2-]\",\n",
    "            \"Reference Solid\": \"Ga2O3\",\n",
    "            \"Reference solid energy\": -10.347724703224722,\n",
    "            \"Source\": \"D. D. Wagman et al., Selected values for inorganic and C1 and C2 Organic substances in SI units, The NBS table of chemical thermodynamic properties, Washington (1982)\"\n",
    "        }\n",
    "        print(\"Replaced entry at index {}\".format(i))"
   ]
  },
  {
   "cell_type": "code",
   "execution_count": 15,
   "metadata": {},
   "outputs": [
    {
     "data": {
      "text/plain": [
       "{'Energy': -7.1099,\n",
       " 'Major_Elements': ['Ga'],\n",
       " 'Name': 'HGaO3[2-]',\n",
       " 'Reference Solid': 'Ga2O3',\n",
       " 'Reference solid energy': -10.347724703224722,\n",
       " 'Source': 'D. D. Wagman et al., Selected values for inorganic and C1 and C2 Organic substances in SI units, The NBS table of chemical thermodynamic properties, Washington (1982)'}"
      ]
     },
     "execution_count": 15,
     "metadata": {},
     "output_type": "execute_result"
    }
   ],
   "source": [
    "ion_ref_data[121]"
   ]
  },
  {
   "cell_type": "markdown",
   "metadata": {},
   "source": [
    "### Initialize the MPContribs client"
   ]
  },
  {
   "cell_type": "code",
   "execution_count": 16,
   "metadata": {},
   "outputs": [],
   "source": [
    "from mpcontribs.client import Client\n",
    "name = 'ion_ref_data' # this should be your project, see from the project URL\n",
    "client = Client()"
   ]
  },
  {
   "cell_type": "markdown",
   "metadata": {},
   "source": [
    "### Reshape the data"
   ]
  },
  {
   "cell_type": "code",
   "execution_count": 17,
   "metadata": {},
   "outputs": [],
   "source": [
    "ion_contribs =[]\n",
    "\n",
    "for d in ion_ref_data:\n",
    "    ret = {}\n",
    "    ret[\"project\"] = name\n",
    "    ret[\"is_public\"] = True\n",
    "    ret[\"identifier\"] = d[\"Name\"]\n",
    "    ret[\"data\"] = {}\n",
    "    ret[\"data\"][\"charge\"] = Ion.from_formula(d[\"Name\"]).charge\n",
    "    ret[\"data\"][\"ΔGᶠ\"] = \"{:.5g} kJ/mol\".format(d[\"Energy\"]*96.485) # convert from eV/f.u. to kJ/mol\n",
    "    ret[\"data\"][\"MajElements\"] = d[\"Major_Elements\"][0]\n",
    "    ret[\"data\"][\"RefSolid\"] = d[\"Reference Solid\"]\n",
    "    ret[\"data\"][\"ΔGᶠRefSolid\"] = \"{:.4g} kJ/mol\".format(d[\"Reference solid energy\"]*96.485)# convert from eV/f.u. to kJ/mol\n",
    "    ret[\"data\"][\"reference\"] = d[\"Source\"]\n",
    "    \n",
    "    ion_contribs.append(ret)"
   ]
  },
  {
   "cell_type": "code",
   "execution_count": 18,
   "metadata": {},
   "outputs": [
    {
     "data": {
      "text/plain": [
       "0"
      ]
     },
     "execution_count": 18,
     "metadata": {},
     "output_type": "execute_result"
    }
   ],
   "source": [
    "# did we miss any data?\n",
    "len(ion_ref_data) - len(ion_contribs)"
   ]
  },
  {
   "cell_type": "code",
   "execution_count": 26,
   "metadata": {},
   "outputs": [
    {
     "name": "stdout",
     "output_type": "stream",
     "text": [
      "{'data': {'MajElements': 'Na',\n",
      "          'RefSolid': 'Na2O',\n",
      "          'charge': 1.0,\n",
      "          'reference': 'H. E. Barner and R. V. Scheuerman, Handbook of '\n",
      "                       'thermochemical data for compounds and aqueous species, '\n",
      "                       'Wiley, New York (1978)',\n",
      "          'ΔGᶠ': '-261.86 kJ/mol',\n",
      "          'ΔGᶠRefSolid': '-376.3 kJ/mol'},\n",
      " 'identifier': 'Na[+]',\n",
      " 'is_public': True,\n",
      " 'project': 'ion_ref_data'}\n"
     ]
    }
   ],
   "source": [
    "pprint(ion_contribs[30])"
   ]
  },
  {
   "cell_type": "markdown",
   "metadata": {},
   "source": [
    "### Update project references, column descriptions, etc."
   ]
  },
  {
   "cell_type": "code",
   "execution_count": 17,
   "metadata": {},
   "outputs": [
    {
     "data": {
      "text/plain": [
       "{'description': 'This project contains experimental ion dissolution energies that are used by pymatgen when constructing Pourbaix diagrams. See the Persson2012 reference for a detailed description of the thermodynamic framework used.',\n",
       " 'other': {'formula': 'Chemical formula of the aqueous species',\n",
       "  'charge': 'Charge on the aqueous species',\n",
       "  'ΔGᶠ': 'Gibbs free energy of formation of the aqueous species from the elements',\n",
       "  'MajElements': 'Elements contained in the aqueous species',\n",
       "  'RefSolid': 'Solid compound to which the aqueous species energy is referenced',\n",
       "  'ΔGᶠRefSolid': 'Gibbs free energy of formation of the reference solid compound'}}"
      ]
     },
     "execution_count": 17,
     "metadata": {},
     "output_type": "execute_result"
    }
   ],
   "source": [
    "client.projects.update_entry(\n",
    "    pk=\"ion_ref_data\", project={\"other\": \n",
    "                                         {\"formula\": \"Chemical formula of the aqueous species\",\n",
    "                                          \"charge\": \"Charge on the aqueous species\",\n",
    "                                          \"ΔGᶠ\": \"Gibbs free energy of formation of the aqueous species from the elements\",\n",
    "                                          \"MajElementsᶠ\": None,\n",
    "                                          \"MajElements\": \"Elements contained in the aqueous species\",\n",
    "                                         \"RefSolid\": \"Solid compound to which the aqueous species energy is referenced\",\n",
    "                                          \"ΔGᶠRefSolid\": \"Gibbs free energy of formation of the reference solid compound\",\n",
    "                                          \"Ion\": None\n",
    "                                         },\n",
    "                                \"description\": \"This project contains experimental ion dissolution energies that are used by pymatgen when constructing Pourbaix diagrams. See the Persson2012 reference for a detailed description of the thermodynamic framework used.\"\n",
    "                                        }\n",
    ").result()"
   ]
  },
  {
   "cell_type": "code",
   "execution_count": 19,
   "metadata": {},
   "outputs": [
    {
     "data": {
      "text/plain": [
       "{'authors': 'Various authors (see references). Data compiled by the Materials Project team.'}"
      ]
     },
     "execution_count": 19,
     "metadata": {},
     "output_type": "execute_result"
    }
   ],
   "source": [
    "client.projects.update_entry(\n",
    "    pk=\"ion_ref_data\", project={\"authors\": \"Various authors (see references). Data compiled by the Materials Project team.\"\n",
    "                                        }\n",
    ").result()"
   ]
  },
  {
   "cell_type": "code",
   "execution_count": 20,
   "metadata": {},
   "outputs": [
    {
     "data": {
      "text/plain": [
       "{'title': 'Aqueous Ion Reference Data'}"
      ]
     },
     "execution_count": 20,
     "metadata": {},
     "output_type": "execute_result"
    }
   ],
   "source": [
    "client.projects.update_entry(\n",
    "    pk=\"ion_ref_data\", project={\"title\": \"Aqueous Ion Reference Data\"\n",
    "                                        }\n",
    ").result()"
   ]
  },
  {
   "cell_type": "code",
   "execution_count": 21,
   "metadata": {},
   "outputs": [
    {
     "data": {
      "text/plain": [
       "{'references': [{'label': 'Persson2012',\n",
       "   'url': 'https://doi.org/10.1103/PhysRevB.85.235438'},\n",
       "  {'label': 'NBS1',\n",
       "   'url': 'https://nvlpubs.nist.gov/nistpubs/Legacy/TN/nbstechnicalnote270-1.pdf'},\n",
       "  {'label': 'NBS2',\n",
       "   'url': 'https://nvlpubs.nist.gov/nistpubs/Legacy/TN/nbstechnicalnote270-2.pdf'},\n",
       "  {'label': 'NBS3',\n",
       "   'url': 'https://nvlpubs.nist.gov/nistpubs/Legacy/TN/nbstechnicalnote270-3.pdf'},\n",
       "  {'label': 'NBS4',\n",
       "   'url': 'https://nvlpubs.nist.gov/nistpubs/Legacy/TN/nbstechnicalnote270-4.pdf'},\n",
       "  {'label': 'NBS5',\n",
       "   'url': 'https://nvlpubs.nist.gov/nistpubs/Legacy/TN/nbstechnicalnote270-5.pdf'},\n",
       "  {'label': 'NBS6',\n",
       "   'url': 'https://nvlpubs.nist.gov/nistpubs/Legacy/TN/nbstechnicalnote270-6.pdf'},\n",
       "  {'label': 'NBS7',\n",
       "   'url': 'https://nvlpubs.nist.gov/nistpubs/Legacy/TN/nbstechnicalnote270-7.pdf'},\n",
       "  {'label': 'NBS8',\n",
       "   'url': 'https://nvlpubs.nist.gov/nistpubs/Legacy/TN/nbstechnicalnote270-8.pdf'},\n",
       "  {'label': 'Pourbaix',\n",
       "   'url': 'https://www.worldcat.org/title/atlas-of-electrochemical-equilibria-in-aqueous-solutions/oclc/563921897'}]}"
      ]
     },
     "execution_count": 21,
     "metadata": {},
     "output_type": "execute_result"
    }
   ],
   "source": [
    "client.projects.update_entry(\n",
    "    pk=\"ion_ref_data\", project={\"references\": [\n",
    "        {\"label\":\"Persson2012\", 'url':\"https://doi.org/10.1103/PhysRevB.85.235438\"},\n",
    "        {'label': 'NBS1', 'url': 'https://nvlpubs.nist.gov/nistpubs/Legacy/TN/nbstechnicalnote270-1.pdf'},\n",
    "    {'label': 'NBS2', 'url': 'https://nvlpubs.nist.gov/nistpubs/Legacy/TN/nbstechnicalnote270-2.pdf'},\n",
    "    {'label': 'NBS3', 'url': 'https://nvlpubs.nist.gov/nistpubs/Legacy/TN/nbstechnicalnote270-3.pdf'},\n",
    "    {'label': 'NBS4', 'url': 'https://nvlpubs.nist.gov/nistpubs/Legacy/TN/nbstechnicalnote270-4.pdf'},\n",
    "    {'label': 'NBS5', 'url': 'https://nvlpubs.nist.gov/nistpubs/Legacy/TN/nbstechnicalnote270-5.pdf'},\n",
    "    {'label': 'NBS6', 'url': 'https://nvlpubs.nist.gov/nistpubs/Legacy/TN/nbstechnicalnote270-6.pdf'},\n",
    "    {'label': 'NBS7', 'url': 'https://nvlpubs.nist.gov/nistpubs/Legacy/TN/nbstechnicalnote270-7.pdf'},\n",
    "    {'label': 'NBS8', 'url': 'https://nvlpubs.nist.gov/nistpubs/Legacy/TN/nbstechnicalnote270-8.pdf'},\n",
    "    {\"label\":\"Pourbaix\", 'url':\"https://www.worldcat.org/title/atlas-of-electrochemical-equilibria-in-aqueous-solutions/oclc/563921897\"}]\n",
    "                                        }\n",
    ").result()"
   ]
  },
  {
   "cell_type": "markdown",
   "metadata": {},
   "source": [
    "### Check the project"
   ]
  },
  {
   "cell_type": "code",
   "execution_count": 3,
   "metadata": {},
   "outputs": [
    {
     "data": {
      "text/plain": [
       "{'name': 'ion_ref_data',\n",
       " 'is_public': True,\n",
       " 'title': 'Aqueous Ion Reference Data',\n",
       " 'owner': 'RKingsbury@lbl.gov',\n",
       " 'is_approved': True,\n",
       " 'unique_identifiers': True,\n",
       " 'long_title': 'Aqueous Ion Reference Data',\n",
       " 'authors': 'Various authors (see references). Data compiled by the Materials Project team.',\n",
       " 'description': 'This project contains experimental ion dissolution energies that are used by pymatgen when constructing Pourbaix diagrams. See the Persson2012 reference for a detailed description of the thermodynamic framework used.',\n",
       " 'references': [{'label': 'Persson2012',\n",
       "   'url': 'https://doi.org/10.1103/PhysRevB.85.235438'},\n",
       "  {'label': 'NBS1',\n",
       "   'url': 'https://nvlpubs.nist.gov/nistpubs/Legacy/TN/nbstechnicalnote270-1.pdf'},\n",
       "  {'label': 'NBS2',\n",
       "   'url': 'https://nvlpubs.nist.gov/nistpubs/Legacy/TN/nbstechnicalnote270-2.pdf'},\n",
       "  {'label': 'NBS3',\n",
       "   'url': 'https://nvlpubs.nist.gov/nistpubs/Legacy/TN/nbstechnicalnote270-3.pdf'},\n",
       "  {'label': 'NBS4',\n",
       "   'url': 'https://nvlpubs.nist.gov/nistpubs/Legacy/TN/nbstechnicalnote270-4.pdf'},\n",
       "  {'label': 'NBS5',\n",
       "   'url': 'https://nvlpubs.nist.gov/nistpubs/Legacy/TN/nbstechnicalnote270-5.pdf'},\n",
       "  {'label': 'NBS6',\n",
       "   'url': 'https://nvlpubs.nist.gov/nistpubs/Legacy/TN/nbstechnicalnote270-6.pdf'},\n",
       "  {'label': 'NBS7',\n",
       "   'url': 'https://nvlpubs.nist.gov/nistpubs/Legacy/TN/nbstechnicalnote270-7.pdf'},\n",
       "  {'label': 'NBS8',\n",
       "   'url': 'https://nvlpubs.nist.gov/nistpubs/Legacy/TN/nbstechnicalnote270-8.pdf'},\n",
       "  {'label': 'Pourbaix',\n",
       "   'url': 'https://www.worldcat.org/title/atlas-of-electrochemical-equilibria-in-aqueous-solutions/oclc/563921897'}],\n",
       " 'other': {'ΔGᶠ': 'Gibbs free energy of formation of the aqueous species from the elements',\n",
       "  'RefSolid': 'Solid compound to which the aqueous species energy is referenced',\n",
       "  'ΔGᶠRefSolid': 'Gibbs free energy of formation of the reference solid compound',\n",
       "  'formula': 'Chemical formula of the aqueous species',\n",
       "  'charge': 'Charge on the aqueous species',\n",
       "  'MajElements': 'Elements contained in the aqueous species'},\n",
       " 'columns': [{'path': 'data.charge', 'min': -5.0, 'max': 7.0, 'unit': ''},\n",
       "  {'path': 'data.ΔGᶠ', 'min': -7724.6, 'max': 429.79, 'unit': 'kJ/mol'},\n",
       "  {'path': 'data.MajElements', 'min': nan, 'max': nan, 'unit': 'NaN'},\n",
       "  {'path': 'data.RefSolid', 'min': nan, 'max': nan, 'unit': 'NaN'},\n",
       "  {'path': 'data.ΔGᶠRefSolid', 'min': -3370.0, 'max': 113.7, 'unit': 'kJ/mol'},\n",
       "  {'path': 'data.reference', 'min': nan, 'max': nan, 'unit': 'NaN'}]}"
      ]
     },
     "execution_count": 3,
     "metadata": {},
     "output_type": "execute_result"
    }
   ],
   "source": [
    "client.get_project(name)"
   ]
  },
  {
   "cell_type": "markdown",
   "metadata": {},
   "source": [
    "### Submit to MPContribs"
   ]
  },
  {
   "cell_type": "code",
   "execution_count": 22,
   "metadata": {},
   "outputs": [
    {
     "data": {
      "application/vnd.jupyter.widget-view+json": {
       "model_id": "6256d0961e3a4c219a8b6c4c5303e6fd",
       "version_major": 2,
       "version_minor": 0
      },
      "text/plain": [
       "HBox(children=(FloatProgress(value=0.0, max=362.0), HTML(value='')))"
      ]
     },
     "metadata": {},
     "output_type": "display_data"
    },
    {
     "name": "stdout",
     "output_type": "stream",
     "text": [
      "\n"
     ]
    },
    {
     "data": {
      "application/vnd.jupyter.widget-view+json": {
       "model_id": "ebddc6edcead4a098109de2c44399792",
       "version_major": 2,
       "version_minor": 0
      },
      "text/plain": [
       "HBox(children=(FloatProgress(value=0.0, max=362.0), HTML(value='')))"
      ]
     },
     "metadata": {},
     "output_type": "display_data"
    },
    {
     "name": "stdout",
     "output_type": "stream",
     "text": [
      "\n"
     ]
    }
   ],
   "source": [
    "# need to delete contributions first due to unique_identifiers=False\n",
    "client.delete_contributions(name)\n",
    "client.submit_contributions(ion_contribs, per_page=10, skip_dupe_check=True)\n",
    "#client.contributions.create_entries(contributions=ion_contribs[0:100]).result()"
   ]
  },
  {
   "cell_type": "markdown",
   "metadata": {},
   "source": [
    "### Appendix\n",
    "----"
   ]
  },
  {
   "cell_type": "code",
   "execution_count": 27,
   "metadata": {},
   "outputs": [
    {
     "ename": "SyntaxError",
     "evalue": "'break' outside loop (<ipython-input-27-6aaf1f276005>, line 1)",
     "output_type": "error",
     "traceback": [
      "\u001b[0;36m  File \u001b[0;32m\"<ipython-input-27-6aaf1f276005>\"\u001b[0;36m, line \u001b[0;32m1\u001b[0m\n\u001b[0;31m    break\u001b[0m\n\u001b[0m    ^\u001b[0m\n\u001b[0;31mSyntaxError\u001b[0m\u001b[0;31m:\u001b[0m 'break' outside loop\n"
     ]
    }
   ],
   "source": [
    "break"
   ]
  },
  {
   "cell_type": "markdown",
   "metadata": {},
   "source": [
    "### Note that `Ion.reduced_formula` generates the same formula for a few distinct entries in the database, e.g. \"Fe2(OH)2[4+]\" vs. \"FeOH[2+]\""
   ]
  },
  {
   "cell_type": "code",
   "execution_count": 20,
   "metadata": {},
   "outputs": [
    {
     "data": {
      "text/plain": [
       "['Fe[2+]',\n",
       " 'Fe[3+]',\n",
       " 'FeO2[2-]',\n",
       " 'FeOH[+]',\n",
       " 'FeOH[2+]',\n",
       " 'HFeO2[-]',\n",
       " 'Fe(OH)2[+]',\n",
       " 'Fe(OH)3(aq)',\n",
       " 'Fe2(OH)2[4+]',\n",
       " 'FeO2[-]',\n",
       " 'FeO4[2-]']"
      ]
     },
     "execution_count": 20,
     "metadata": {},
     "output_type": "execute_result"
    }
   ],
   "source": [
    "[e[\"Name\"] for e in ion_ref_data if \"Fe\" in e[\"Name\"]]"
   ]
  },
  {
   "cell_type": "code",
   "execution_count": 21,
   "metadata": {},
   "outputs": [
    {
     "data": {
      "text/plain": [
       "['Fe[2+]',\n",
       " 'Fe[3+]',\n",
       " 'FeO2[2-]',\n",
       " 'FeHO[+]',\n",
       " 'FeHO[2+]',\n",
       " 'FeHO2[-]',\n",
       " 'Fe(HO)2[+]',\n",
       " 'Fe(HO)3(aq)',\n",
       " 'FeHO[2+]',\n",
       " 'FeO2[-]',\n",
       " 'FeO4[2-]']"
      ]
     },
     "execution_count": 21,
     "metadata": {},
     "output_type": "execute_result"
    }
   ],
   "source": [
    "[Ion.from_formula(e[\"Name\"]).reduced_formula for e in ion_ref_data if \"Fe\" in e[\"Name\"]]"
   ]
  },
  {
   "cell_type": "code",
   "execution_count": 22,
   "metadata": {},
   "outputs": [
    {
     "data": {
      "text/plain": [
       "[{'Major_Elements': ['Fe'],\n",
       "  'Source': 'D. D. Wagman et al., Selected values of chemical thermodynamic properties, NBS Technical note 270, Washington; 1968-1971',\n",
       "  'Reference Solid': 'Fe2O3',\n",
       "  'Reference solid energy': -7.685050670886141,\n",
       "  'Energy': -4.84285,\n",
       "  'Name': 'Fe2(OH)2[4+]'}]"
      ]
     },
     "execution_count": 22,
     "metadata": {},
     "output_type": "execute_result"
    }
   ],
   "source": [
    "[e for e in ion_ref_data if e[\"Name\"] == \"Fe2(OH)2[4+]\"]"
   ]
  },
  {
   "cell_type": "code",
   "execution_count": 23,
   "metadata": {},
   "outputs": [
    {
     "data": {
      "text/plain": [
       "[{'Major_Elements': ['Fe'],\n",
       "  'Source': 'D. D. Wagman et al., Selected values of chemical thermodynamic properties, NBS Technical note 270, Washington; 1968-1971',\n",
       "  'Reference Solid': 'Fe2O3',\n",
       "  'Reference solid energy': -7.685050670886141,\n",
       "  'Energy': -2.37954,\n",
       "  'Name': 'FeOH[2+]'}]"
      ]
     },
     "execution_count": 23,
     "metadata": {},
     "output_type": "execute_result"
    }
   ],
   "source": [
    "[e for e in ion_ref_data if e[\"Name\"] == \"FeOH[2+]\"]"
   ]
  },
  {
   "cell_type": "code",
   "execution_count": null,
   "metadata": {},
   "outputs": [],
   "source": []
  }
 ],
 "metadata": {
  "kernelspec": {
   "display_name": "mp2: Python 3.8",
   "language": "python",
   "name": "mp2"
  },
  "language_info": {
   "codemirror_mode": {
    "name": "ipython",
    "version": 3
   },
   "file_extension": ".py",
   "mimetype": "text/x-python",
   "name": "python",
   "nbconvert_exporter": "python",
   "pygments_lexer": "ipython3",
   "version": "3.8.1"
  },
  "widgets": {
   "application/vnd.jupyter.widget-state+json": {
    "state": {},
    "version_major": 2,
    "version_minor": 0
   }
  }
 },
 "nbformat": 4,
 "nbformat_minor": 4
}
