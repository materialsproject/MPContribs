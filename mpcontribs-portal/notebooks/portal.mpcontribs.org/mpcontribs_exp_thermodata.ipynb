{
 "cells": [
  {
   "cell_type": "markdown",
   "metadata": {},
   "source": [
    "# Move Thermo data from MP Thermo to an MPContribs project"
   ]
  },
  {
   "cell_type": "markdown",
   "metadata": {},
   "source": [
    "---\n",
    "## Header"
   ]
  },
  {
   "cell_type": "markdown",
   "metadata": {},
   "source": [
    "#### Global variables"
   ]
  },
  {
   "cell_type": "code",
   "execution_count": 1,
   "metadata": {},
   "outputs": [],
   "source": [
    "PROJECT = 'Corrections'"
   ]
  },
  {
   "cell_type": "markdown",
   "metadata": {},
   "source": [
    "#### Imports"
   ]
  },
  {
   "cell_type": "code",
   "execution_count": 2,
   "metadata": {},
   "outputs": [],
   "source": [
    "import os\n",
    "from pprint import pprint\n",
    "from pathlib import Path\n",
    "import re\n",
    "from tqdm import tqdm\n",
    "import numpy as np\n",
    "import xlrd\n",
    "from monty.serialization import loadfn, dumpfn"
   ]
  },
  {
   "cell_type": "markdown",
   "metadata": {},
   "source": [
    "#### Set Working Directory"
   ]
  },
  {
   "cell_type": "code",
   "execution_count": 3,
   "metadata": {},
   "outputs": [],
   "source": [
    "workdir = Path(re.sub(r\"(?<={})[\\w\\W]*\".format(PROJECT), \"\", str(Path.cwd())))\n",
    "os.chdir(workdir)\n",
    "\n",
    "data_dir = workdir / '2_raw data'\n",
    "pipeline_dir = workdir / '3_data analysis' / '2_pipeline'\n",
    "output_dir = workdir / '3_data analysis' / '3_output'"
   ]
  },
  {
   "cell_type": "markdown",
   "metadata": {},
   "source": [
    "---\n",
    "## Main Code"
   ]
  },
  {
   "cell_type": "markdown",
   "metadata": {},
   "source": [
    "## Set up the project"
   ]
  },
  {
   "cell_type": "code",
   "execution_count": 4,
   "metadata": {},
   "outputs": [
    {
     "name": "stderr",
     "output_type": "stream",
     "text": [
      "/Users/ryan/pymatgen/pymatgen/ext/matproj.py:454: DeprecationWarning: __init__ is deprecated\n",
      "MaterialsProjectCompatibility will be updated with new correction classes as well as new values of corrections and uncertainties in 2020\n",
      "  def get_pourbaix_entries(self, chemsys, solid_compat=MaterialsProjectCompatibility(), use_gibbs=False):\n",
      "/Users/ryan/miniconda3/envs/mp2/lib/python3.8/site-packages/bravado/fido_client.py:127: builtins.DeprecationWarning: Unlimited timeouts are deprecated.\n"
     ]
    }
   ],
   "source": [
    "from mpcontribs.client import Client\n",
    "name = 'experimental_thermo' # this should be your project, see from the project URL\n",
    "client = Client() # uses MPCONTRIBS_API_KEY envvar"
   ]
  },
  {
   "cell_type": "code",
   "execution_count": 5,
   "metadata": {},
   "outputs": [
    {
     "data": {
      "text/plain": [
       "{'other': {'ΔHᶠ': 'Enthalpy of formation from the elements. Polynomial: H° − H°298.15= A*t + B*t^2/2 + C*t^3/3 + D*t^4/4 − E/t + F − H',\n",
       "  'ΔGᶠ': 'Gibbs free energy of formation from the elements.',\n",
       "  'S': 'Absolute entropy. Polynomial: S° = A*ln(t) + B*t + C*t^2/2 + D*t^3/3 − E/(2*t^2) + G',\n",
       "  'Cₚ': 'Specific heat capacity. Polynomial: Cp° = A + B*t + C*t^2 + D*t^3 + E/t^2',\n",
       "  'polynomial': 'Coefficients for polynomials used to calculate temperature-dependent values of ΔHᶠ, S, or Cₚ.',\n",
       "  'ΔT': 'Range of temperatures over which polynomial coefficients are valid.',\n",
       "  'composition': 'String representation of pymatgen Composition of the material.',\n",
       "  'phase': \"Material phase, e.g. 'gas', 'liquid', 'solid', 'monoclinic', etc.\"}}"
      ]
     },
     "execution_count": 5,
     "metadata": {},
     "output_type": "execute_result"
    }
   ],
   "source": [
    "client.projects.update_entry(\n",
    "    pk=\"experimental_thermo\", project={\"other\": \n",
    "                                         {\"ΔHᶠ\": \"Enthalpy of formation from the elements. Polynomial: H° − H°298.15= A*t + B*t^2/2 + C*t^3/3 + D*t^4/4 − E/t + F − H\",\n",
    "                                          \"ΔGᶠ\": \"Gibbs free energy of formation from the elements.\",\n",
    "                                         \"S\": \"Absolute entropy. Polynomial: S° = A*ln(t) + B*t + C*t^2/2 + D*t^3/3 − E/(2*t^2) + G\",\n",
    "                                          \"Cₚ\": \"Specific heat capacity. Polynomial: Cp° = A + B*t + C*t^2 + D*t^3 + E/t^2\",\n",
    "                                         \"polynomial\": \"Coefficients for polynomials used to calculate temperature-dependent values of ΔHᶠ, S, or Cₚ.\",\n",
    "                                          \"ΔT\": \"Range of temperatures over which polynomial coefficients are valid.\",\n",
    "                                          \"composition\": \"String representation of pymatgen Composition of the material.\",\n",
    "                                          \"phase\": \"Material phase, e.g. 'gas', 'liquid', 'solid', 'monoclinic', etc.\"\n",
    "                                         }\n",
    "                                        }\n",
    ").result()"
   ]
  },
  {
   "cell_type": "code",
   "execution_count": 6,
   "metadata": {},
   "outputs": [
    {
     "data": {
      "text/plain": [
       "{'authors': 'Various authors (see references). Data compiled by the Materials Project team.'}"
      ]
     },
     "execution_count": 6,
     "metadata": {},
     "output_type": "execute_result"
    }
   ],
   "source": [
    "client.projects.update_entry(\n",
    "    pk=\"experimental_thermo\", project={\"authors\": \"Various authors (see references). Data compiled by the Materials Project team.\"\n",
    "                                        }\n",
    ").result()"
   ]
  },
  {
   "cell_type": "code",
   "execution_count": 7,
   "metadata": {},
   "outputs": [
    {
     "data": {
      "text/plain": [
       "{'title': 'Thermochemistry Data'}"
      ]
     },
     "execution_count": 7,
     "metadata": {},
     "output_type": "execute_result"
    }
   ],
   "source": [
    "client.projects.update_entry(\n",
    "    pk=\"experimental_thermo\", project={\"title\": \"Thermochemistry Data\"\n",
    "                                        }\n",
    ").result()"
   ]
  },
  {
   "cell_type": "code",
   "execution_count": 8,
   "metadata": {},
   "outputs": [
    {
     "data": {
      "text/plain": [
       "{'unique_identifiers': True}"
      ]
     },
     "execution_count": 8,
     "metadata": {},
     "output_type": "execute_result"
    }
   ],
   "source": [
    "client.projects.update_entry(\n",
    "    pk=\"experimental_thermo\", project={\"unique_identifiers\": True\n",
    "                                        }\n",
    ").result()"
   ]
  },
  {
   "cell_type": "code",
   "execution_count": 9,
   "metadata": {},
   "outputs": [
    {
     "data": {
      "text/plain": [
       "{'references': [{'label': 'Kubaschewski',\n",
       "   'url': 'https://www.worldcat.org/title/materials-thermochemistry/oclc/26724109'},\n",
       "  {'label': 'NIST', 'url': 'https://janaf.nist.gov/'}]}"
      ]
     },
     "execution_count": 9,
     "metadata": {},
     "output_type": "execute_result"
    }
   ],
   "source": [
    "client.projects.update_entry(\n",
    "    pk=\"experimental_thermo\", project={\"references\": [\n",
    "    {\"label\":\"Kubaschewski\", \"url\":\"https://www.worldcat.org/title/materials-thermochemistry/oclc/26724109\"},\n",
    "    {\"label\":\"NIST\", \"url\":\"https://janaf.nist.gov/\"},]}\n",
    ").result()"
   ]
  },
  {
   "cell_type": "markdown",
   "metadata": {},
   "source": [
    "### Set the column order for display"
   ]
  },
  {
   "cell_type": "code",
   "execution_count": 53,
   "metadata": {},
   "outputs": [
    {
     "data": {
      "text/plain": [
       "{'columns': [{'path': 'data.phase', 'min': nan, 'max': nan, 'unit': 'NaN'},\n",
       "  {'path': 'data.composition', 'min': nan, 'max': nan, 'unit': 'NaN'},\n",
       "  {'path': 'data.compound', 'min': nan, 'max': nan, 'unit': 'NaN'},\n",
       "  {'path': 'data.0K.ΔHᶠ', 'min': nan, 'max': nan, 'unit': 'kJ/mol'},\n",
       "  {'path': 'data.0K.ΔGᶠ', 'min': nan, 'max': nan, 'unit': 'kJ/mol'},\n",
       "  {'path': 'data.0K.S', 'min': nan, 'max': nan, 'unit': 'J/degK/mol'},\n",
       "  {'path': 'data.0K.Cₚ', 'min': nan, 'max': nan, 'unit': 'J/degK/mol'},\n",
       "  {'path': 'data.298K.ΔHᶠ', 'min': nan, 'max': nan, 'unit': 'kJ/mol'},\n",
       "  {'path': 'data.298K.ΔGᶠ', 'min': nan, 'max': nan, 'unit': 'kJ/mol'},\n",
       "  {'path': 'data.298K.S', 'min': nan, 'max': nan, 'unit': 'J/degK/mol'},\n",
       "  {'path': 'data.298K.Cₚ', 'min': nan, 'max': nan, 'unit': 'J/degK/mol'},\n",
       "  {'path': 'data.polynomial.A', 'min': nan, 'max': nan, 'unit': 'NaN'},\n",
       "  {'path': 'data.polynomial.B', 'min': nan, 'max': nan, 'unit': 'NaN'},\n",
       "  {'path': 'data.polynomial.C', 'min': nan, 'max': nan, 'unit': 'NaN'},\n",
       "  {'path': 'data.polynomial.D', 'min': nan, 'max': nan, 'unit': 'NaN'},\n",
       "  {'path': 'data.polynomial.E', 'min': nan, 'max': nan, 'unit': 'NaN'},\n",
       "  {'path': 'data.polynomial.F', 'min': nan, 'max': nan, 'unit': 'NaN'},\n",
       "  {'path': 'data.polynomial.G', 'min': nan, 'max': nan, 'unit': 'NaN'},\n",
       "  {'path': 'data.polynomial.H', 'min': nan, 'max': nan, 'unit': 'NaN'},\n",
       "  {'path': 'data.ΔT.A.min', 'min': nan, 'max': nan, 'unit': 'degK'},\n",
       "  {'path': 'data.ΔT.B.min', 'min': nan, 'max': nan, 'unit': 'degK'},\n",
       "  {'path': 'data.ΔT.C.min', 'min': nan, 'max': nan, 'unit': 'degK'},\n",
       "  {'path': 'data.ΔT.D.min', 'min': nan, 'max': nan, 'unit': 'degK'},\n",
       "  {'path': 'data.ΔT.E.min', 'min': nan, 'max': nan, 'unit': 'degK'},\n",
       "  {'path': 'data.ΔT.F.min', 'min': nan, 'max': nan, 'unit': 'degK'},\n",
       "  {'path': 'data.ΔT.G.min', 'min': nan, 'max': nan, 'unit': 'degK'},\n",
       "  {'path': 'data.ΔT.H.min', 'min': nan, 'max': nan, 'unit': 'degK'},\n",
       "  {'path': 'data.ΔT.A.max', 'min': nan, 'max': nan, 'unit': 'degK'},\n",
       "  {'path': 'data.ΔT.B.max', 'min': nan, 'max': nan, 'unit': 'degK'},\n",
       "  {'path': 'data.ΔT.C.max', 'min': nan, 'max': nan, 'unit': 'degK'},\n",
       "  {'path': 'data.ΔT.D.max', 'min': nan, 'max': nan, 'unit': 'degK'},\n",
       "  {'path': 'data.ΔT.E.max', 'min': nan, 'max': nan, 'unit': 'degK'},\n",
       "  {'path': 'data.ΔT.F.max', 'min': nan, 'max': nan, 'unit': 'degK'},\n",
       "  {'path': 'data.ΔT.G.max', 'min': nan, 'max': nan, 'unit': 'degK'},\n",
       "  {'path': 'data.ΔT.H.max', 'min': nan, 'max': nan, 'unit': 'degK'},\n",
       "  {'path': 'data.method', 'min': nan, 'max': nan, 'unit': 'kJ/mol'},\n",
       "  {'path': 'data.reference', 'min': nan, 'max': nan, 'unit': 'kJ/mol'}]}"
      ]
     },
     "execution_count": 53,
     "metadata": {},
     "output_type": "execute_result"
    }
   ],
   "source": [
    "# set order of columns and their desired units\n",
    "columns = [\n",
    "    {\"path\": \"data.phase\"},\n",
    "    {\"path\": \"data.composition\"},\n",
    "    {\"path\": \"data.compound\"},\n",
    "    {\"path\": \"data.0K.ΔHᶠ\", \"unit\": \"kJ/mol\"},\n",
    "    {\"path\": \"data.0K.ΔGᶠ\", \"unit\": \"kJ/mol\"},\n",
    "    {\"path\": \"data.0K.S\", \"unit\": \"J/degK/mol\"},\n",
    "    {\"path\": \"data.0K.Cₚ\", \"unit\": \"J/degK/mol\"},\n",
    "    {\"path\": \"data.298K.ΔHᶠ\", \"unit\": \"kJ/mol\"},\n",
    "    {\"path\": \"data.298K.ΔGᶠ\", \"unit\": \"kJ/mol\"},\n",
    "    {\"path\": \"data.298K.S\", \"unit\": \"J/degK/mol\"},\n",
    "    {\"path\": \"data.298K.Cₚ\", \"unit\": \"J/degK/mol\"},\n",
    "    {\"path\": \"data.polynomial.A\"},\n",
    "    {\"path\": \"data.polynomial.B\"},\n",
    "    {\"path\": \"data.polynomial.C\"},\n",
    "    {\"path\": \"data.polynomial.D\"},\n",
    "    {\"path\": \"data.polynomial.E\"},\n",
    "    {\"path\": \"data.polynomial.F\"},\n",
    "    {\"path\": \"data.polynomial.G\"},\n",
    "    {\"path\": \"data.polynomial.H\"},\n",
    "    {\"path\": \"data.ΔT.A.min\", \"unit\": \"degK\"},\n",
    "    {\"path\": \"data.ΔT.B.min\", \"unit\": \"degK\"},\n",
    "    {\"path\": \"data.ΔT.C.min\", \"unit\": \"degK\"},\n",
    "    {\"path\": \"data.ΔT.D.min\", \"unit\": \"degK\"},\n",
    "    {\"path\": \"data.ΔT.E.min\", \"unit\": \"degK\"},\n",
    "    {\"path\": \"data.ΔT.F.min\", \"unit\": \"degK\"},\n",
    "    {\"path\": \"data.ΔT.G.min\", \"unit\": \"degK\"},\n",
    "    {\"path\": \"data.ΔT.H.min\", \"unit\": \"degK\"},\n",
    "    {\"path\": \"data.ΔT.A.max\", \"unit\": \"degK\"},\n",
    "    {\"path\": \"data.ΔT.B.max\", \"unit\": \"degK\"},\n",
    "    {\"path\": \"data.ΔT.C.max\", \"unit\": \"degK\"},\n",
    "    {\"path\": \"data.ΔT.D.max\", \"unit\": \"degK\"},\n",
    "    {\"path\": \"data.ΔT.E.max\", \"unit\": \"degK\"},\n",
    "    {\"path\": \"data.ΔT.F.max\", \"unit\": \"degK\"},\n",
    "    {\"path\": \"data.ΔT.G.max\", \"unit\": \"degK\"},\n",
    "    {\"path\": \"data.ΔT.H.max\", \"unit\": \"degK\"},\n",
    "    {\"path\": \"data.method\", \"unit\": \"kJ/mol\"},\n",
    "    {\"path\": \"data.reference\", \"unit\": \"kJ/mol\"},  \n",
    "]\n",
    "client.projects.update_entry(\n",
    "    pk=name, project={\"columns\": columns}\n",
    ").result()"
   ]
  },
  {
   "cell_type": "code",
   "execution_count": 11,
   "metadata": {},
   "outputs": [
    {
     "data": {
      "text/plain": [
       "{'name': 'experimental_thermo',\n",
       " 'is_public': False,\n",
       " 'title': 'Thermochemistry Data',\n",
       " 'owner': 'RKingsbury@lbl.gov',\n",
       " 'is_approved': True,\n",
       " 'unique_identifiers': True,\n",
       " 'long_title': 'Experimental Thermochemistry Database',\n",
       " 'authors': 'Various authors (see references). Data compiled by the Materials Project team.',\n",
       " 'description': 'This project contains experimental thermochemical data for solids',\n",
       " 'references': [{'label': 'Kubaschewski',\n",
       "   'url': 'https://www.worldcat.org/title/materials-thermochemistry/oclc/26724109'},\n",
       "  {'label': 'NIST', 'url': 'https://janaf.nist.gov/'}],\n",
       " 'other': {'Cₚ': 'Specific heat capacity. Polynomial: Cp° = A + B*t + C*t^2 + D*t^3 + E/t^2',\n",
       "  'S': 'Absolute entropy. Polynomial: S° = A*ln(t) + B*t + C*t^2/2 + D*t^3/3 − E/(2*t^2) + G',\n",
       "  'T': 'Temperature',\n",
       "  'polynomial': 'Coefficients for polynomials used to calculate temperature-dependent values of ΔHᶠ, S, or Cₚ.',\n",
       "  'ΔHᶠ': 'Enthalpy of formation from the elements. Polynomial: H° − H°298.15= A*t + B*t^2/2 + C*t^3/3 + D*t^4/4 − E/t + F − H',\n",
       "  'ΔGᶠ': 'Gibbs free energy of formation from the elements.',\n",
       "  'composition': 'String representation of pymatgen Composition of the material.',\n",
       "  'ΔT': 'Range of temperatures over which polynomial coefficients are valid.',\n",
       "  'phase': \"Material phase, e.g. 'gas', 'liquid', 'solid', 'monoclinic', etc.\"},\n",
       " 'columns': [{'path': 'data.phase', 'min': nan, 'max': nan, 'unit': 'NaN'},\n",
       "  {'path': 'data.composition', 'min': nan, 'max': nan, 'unit': 'NaN'},\n",
       "  {'path': 'data.compound', 'min': nan, 'max': nan, 'unit': 'NaN'},\n",
       "  {'path': 'data.0K.ΔHᶠ', 'min': nan, 'max': nan, 'unit': 'kJ/mol'},\n",
       "  {'path': 'data.0K.ΔGᶠ', 'min': nan, 'max': nan, 'unit': 'kJ/mol'},\n",
       "  {'path': 'data.0K.S', 'min': nan, 'max': nan, 'unit': 'J/degK/mol'},\n",
       "  {'path': 'data.0K.Cₚ', 'min': nan, 'max': nan, 'unit': 'J/degK/mol'},\n",
       "  {'path': 'data.298K.ΔHᶠ', 'min': nan, 'max': nan, 'unit': 'kJ/mol'},\n",
       "  {'path': 'data.298K.ΔGᶠ', 'min': nan, 'max': nan, 'unit': 'kJ/mol'},\n",
       "  {'path': 'data.298K.S', 'min': nan, 'max': nan, 'unit': 'J/degK/mol'},\n",
       "  {'path': 'data.298K.Cₚ', 'min': nan, 'max': nan, 'unit': 'J/degK/mol'},\n",
       "  {'path': 'data.polynomial.A', 'min': nan, 'max': nan, 'unit': 'NaN'},\n",
       "  {'path': 'data.polynomial.B', 'min': nan, 'max': nan, 'unit': 'NaN'},\n",
       "  {'path': 'data.polynomial.C', 'min': nan, 'max': nan, 'unit': 'NaN'},\n",
       "  {'path': 'data.polynomial.D', 'min': nan, 'max': nan, 'unit': 'NaN'},\n",
       "  {'path': 'data.polynomial.E', 'min': nan, 'max': nan, 'unit': 'NaN'},\n",
       "  {'path': 'data.polynomial.F', 'min': nan, 'max': nan, 'unit': 'NaN'},\n",
       "  {'path': 'data.polynomial.G', 'min': nan, 'max': nan, 'unit': 'NaN'},\n",
       "  {'path': 'data.polynomial.H', 'min': nan, 'max': nan, 'unit': 'NaN'},\n",
       "  {'path': 'data.ΔT.A.min', 'min': nan, 'max': nan, 'unit': 'degK'},\n",
       "  {'path': 'data.ΔT.B.min', 'min': nan, 'max': nan, 'unit': 'degK'},\n",
       "  {'path': 'data.ΔT.C.min', 'min': nan, 'max': nan, 'unit': 'degK'},\n",
       "  {'path': 'data.ΔT.D.min', 'min': nan, 'max': nan, 'unit': 'degK'},\n",
       "  {'path': 'data.ΔT.E.min', 'min': nan, 'max': nan, 'unit': 'degK'},\n",
       "  {'path': 'data.ΔT.F.min', 'min': nan, 'max': nan, 'unit': 'degK'},\n",
       "  {'path': 'data.ΔT.G.min', 'min': nan, 'max': nan, 'unit': 'degK'},\n",
       "  {'path': 'data.ΔT.H.min', 'min': nan, 'max': nan, 'unit': 'degK'},\n",
       "  {'path': 'data.ΔT.A.max', 'min': nan, 'max': nan, 'unit': 'degK'},\n",
       "  {'path': 'data.ΔT.B.max', 'min': nan, 'max': nan, 'unit': 'degK'},\n",
       "  {'path': 'data.ΔT.C.max', 'min': nan, 'max': nan, 'unit': 'degK'},\n",
       "  {'path': 'data.ΔT.D.max', 'min': nan, 'max': nan, 'unit': 'degK'},\n",
       "  {'path': 'data.ΔT.E.max', 'min': nan, 'max': nan, 'unit': 'degK'},\n",
       "  {'path': 'data.ΔT.F.max', 'min': nan, 'max': nan, 'unit': 'degK'},\n",
       "  {'path': 'data.ΔT.G.max', 'min': nan, 'max': nan, 'unit': 'degK'},\n",
       "  {'path': 'data.ΔT.H.max', 'min': nan, 'max': nan, 'unit': 'degK'},\n",
       "  {'path': 'data.method', 'min': nan, 'max': nan, 'unit': 'kJ/mol'},\n",
       "  {'path': 'data.reference', 'min': nan, 'max': nan, 'unit': 'kJ/mol'}]}"
      ]
     },
     "execution_count": 11,
     "metadata": {},
     "output_type": "execute_result"
    }
   ],
   "source": [
    "client.get_project(name)"
   ]
  },
  {
   "cell_type": "markdown",
   "metadata": {},
   "source": [
    "## Collect the MP Thermochemical Data\n",
    "\n",
    "Use the `MPRester()` to retrieve all thermochemical data currently hosted on materialsproject.org"
   ]
  },
  {
   "cell_type": "markdown",
   "metadata": {},
   "source": [
    "### Get a list of all unique formulas in MP"
   ]
  },
  {
   "cell_type": "code",
   "execution_count": null,
   "metadata": {},
   "outputs": [],
   "source": [
    "binaries = knowhere_mats.distinct(\"pretty_formula\", {\"nelements\": {\"$lte\": 2}})"
   ]
  },
  {
   "cell_type": "code",
   "execution_count": null,
   "metadata": {},
   "outputs": [],
   "source": [
    "ternary_plus = knowhere_mats.distinct(\"pretty_formula\", {\"nelements\": {\"$gte\": 3}})"
   ]
  },
  {
   "cell_type": "markdown",
   "metadata": {},
   "source": [
    "### Pull `ThermoData` objects from MPRester"
   ]
  },
  {
   "cell_type": "code",
   "execution_count": null,
   "metadata": {},
   "outputs": [],
   "source": [
    "all_thermo = []\n",
    "with MPRester() as a:\n",
    "    for f in tqdm(binaries):\n",
    "        try:\n",
    "            all_thermo.extend(a.get_exp_thermo_data(f))\n",
    "        except:\n",
    "            continue"
   ]
  },
  {
   "cell_type": "code",
   "execution_count": null,
   "metadata": {},
   "outputs": [],
   "source": [
    "len(all_thermo)"
   ]
  },
  {
   "cell_type": "code",
   "execution_count": null,
   "metadata": {},
   "outputs": [],
   "source": [
    "type(all_thermo[9549])"
   ]
  },
  {
   "cell_type": "code",
   "execution_count": null,
   "metadata": {},
   "outputs": [],
   "source": [
    "all_thermo = []\n",
    "with MPRester() as a:\n",
    "    for f in tqdm(ternaries):\n",
    "        try:\n",
    "            all_thermo.extend(a.get_exp_thermo_data(f))\n",
    "        except:\n",
    "            continue"
   ]
  },
  {
   "cell_type": "code",
   "execution_count": null,
   "metadata": {},
   "outputs": [],
   "source": [
    "#all_thermo = []\n",
    "with MPRester() as a:\n",
    "    for f in tqdm(ternary_plus):\n",
    "        all_thermo.extend(a.get_exp_thermo_data(f))"
   ]
  },
  {
   "cell_type": "code",
   "execution_count": null,
   "metadata": {},
   "outputs": [],
   "source": [
    "dumpfn(all_thermo, output_dir / '2020-08-07 all MP Thermo data.json')"
   ]
  },
  {
   "cell_type": "code",
   "execution_count": 12,
   "metadata": {},
   "outputs": [],
   "source": [
    "all_thermo = loadfn(output_dir / '2020-08-07 all MP Thermo data.json')"
   ]
  },
  {
   "cell_type": "markdown",
   "metadata": {},
   "source": [
    "### Convert `ThermoData` into a pandas dataframe"
   ]
  },
  {
   "cell_type": "code",
   "execution_count": 13,
   "metadata": {},
   "outputs": [
    {
     "data": {
      "text/plain": [
       "{'@module': 'pymatgen.analysis.thermochemistry',\n",
       " '@class': 'ThermoData',\n",
       " 'type': 'S',\n",
       " 'formula': 'Zr',\n",
       " 'compound_name': 'Zr',\n",
       " 'phaseinfo': 'hcp',\n",
       " 'value': 0.039,\n",
       " 'temp_range': [298, 298],\n",
       " 'method': '',\n",
       " 'ref': 'O. Kubaschewski, C. Alcock, P. Spencer, Materials Thermochemistry, 6th ed., Oxford, Pergamom Press, 1993.',\n",
       " 'uncertainty': 0.0}"
      ]
     },
     "execution_count": 13,
     "metadata": {},
     "output_type": "execute_result"
    }
   ],
   "source": [
    "all_thermo[0].as_dict()"
   ]
  },
  {
   "cell_type": "code",
   "execution_count": 14,
   "metadata": {},
   "outputs": [],
   "source": [
    "import pandas as pd\n",
    "mpthermo_df = pd.DataFrame([t.as_dict() for t in all_thermo])"
   ]
  },
  {
   "cell_type": "code",
   "execution_count": 15,
   "metadata": {},
   "outputs": [],
   "source": [
    "# drop the unneeded columns\n",
    "mpthermo_df = mpthermo_df.drop('@module', axis=1)\n",
    "mpthermo_df = mpthermo_df.drop('@class', axis=1)"
   ]
  },
  {
   "cell_type": "code",
   "execution_count": 16,
   "metadata": {},
   "outputs": [
    {
     "data": {
      "text/html": [
       "<div>\n",
       "<style scoped>\n",
       "    .dataframe tbody tr th:only-of-type {\n",
       "        vertical-align: middle;\n",
       "    }\n",
       "\n",
       "    .dataframe tbody tr th {\n",
       "        vertical-align: top;\n",
       "    }\n",
       "\n",
       "    .dataframe thead th {\n",
       "        text-align: right;\n",
       "    }\n",
       "</style>\n",
       "<table border=\"1\" class=\"dataframe\">\n",
       "  <thead>\n",
       "    <tr style=\"text-align: right;\">\n",
       "      <th></th>\n",
       "      <th>type</th>\n",
       "      <th>formula</th>\n",
       "      <th>compound_name</th>\n",
       "      <th>phaseinfo</th>\n",
       "      <th>value</th>\n",
       "      <th>temp_range</th>\n",
       "      <th>method</th>\n",
       "      <th>ref</th>\n",
       "      <th>uncertainty</th>\n",
       "    </tr>\n",
       "  </thead>\n",
       "  <tbody>\n",
       "    <tr>\n",
       "      <th>355</th>\n",
       "      <td>fH</td>\n",
       "      <td>Ag</td>\n",
       "      <td>Ag</td>\n",
       "      <td>fcc</td>\n",
       "      <td>-0.000000</td>\n",
       "      <td>[298, 298]</td>\n",
       "      <td></td>\n",
       "      <td>O. Kubaschewski, C. Alcock, P. Spencer, Materi...</td>\n",
       "      <td>0.0</td>\n",
       "    </tr>\n",
       "    <tr>\n",
       "      <th>356</th>\n",
       "      <td>D</td>\n",
       "      <td>Ag</td>\n",
       "      <td>Ag</td>\n",
       "      <td>fcc</td>\n",
       "      <td>0.000000</td>\n",
       "      <td>[298, 298]</td>\n",
       "      <td></td>\n",
       "      <td>O. Kubaschewski, C. Alcock, P. Spencer, Materi...</td>\n",
       "      <td>NaN</td>\n",
       "    </tr>\n",
       "    <tr>\n",
       "      <th>357</th>\n",
       "      <td>fH</td>\n",
       "      <td>Ag</td>\n",
       "      <td>Ag</td>\n",
       "      <td>gas</td>\n",
       "      <td>284.900000</td>\n",
       "      <td>[298, 298]</td>\n",
       "      <td></td>\n",
       "      <td>O. Kubaschewski, C. Alcock, P. Spencer, Materi...</td>\n",
       "      <td>0.0</td>\n",
       "    </tr>\n",
       "    <tr>\n",
       "      <th>358</th>\n",
       "      <td>C</td>\n",
       "      <td>Ag</td>\n",
       "      <td>Ag</td>\n",
       "      <td>gas</td>\n",
       "      <td>0.000000</td>\n",
       "      <td>[298, 298]</td>\n",
       "      <td></td>\n",
       "      <td>O. Kubaschewski, C. Alcock, P. Spencer, Materi...</td>\n",
       "      <td>NaN</td>\n",
       "    </tr>\n",
       "    <tr>\n",
       "      <th>359</th>\n",
       "      <td>D</td>\n",
       "      <td>Ag</td>\n",
       "      <td>Ag</td>\n",
       "      <td>gas</td>\n",
       "      <td>0.000000</td>\n",
       "      <td>[298, 298]</td>\n",
       "      <td></td>\n",
       "      <td>O. Kubaschewski, C. Alcock, P. Spencer, Materi...</td>\n",
       "      <td>NaN</td>\n",
       "    </tr>\n",
       "    <tr>\n",
       "      <th>360</th>\n",
       "      <td>S</td>\n",
       "      <td>Ag</td>\n",
       "      <td>Ag</td>\n",
       "      <td>fcc</td>\n",
       "      <td>0.042600</td>\n",
       "      <td>[298, 298]</td>\n",
       "      <td></td>\n",
       "      <td>O. Kubaschewski, C. Alcock, P. Spencer, Materi...</td>\n",
       "      <td>0.0</td>\n",
       "    </tr>\n",
       "    <tr>\n",
       "      <th>361</th>\n",
       "      <td>A</td>\n",
       "      <td>Ag</td>\n",
       "      <td>Ag</td>\n",
       "      <td>fcc</td>\n",
       "      <td>0.021300</td>\n",
       "      <td>[298, 298]</td>\n",
       "      <td></td>\n",
       "      <td>O. Kubaschewski, C. Alcock, P. Spencer, Materi...</td>\n",
       "      <td>NaN</td>\n",
       "    </tr>\n",
       "    <tr>\n",
       "      <th>362</th>\n",
       "      <td>B</td>\n",
       "      <td>Ag</td>\n",
       "      <td>Ag</td>\n",
       "      <td>fcc</td>\n",
       "      <td>0.000009</td>\n",
       "      <td>[298, 298]</td>\n",
       "      <td></td>\n",
       "      <td>O. Kubaschewski, C. Alcock, P. Spencer, Materi...</td>\n",
       "      <td>NaN</td>\n",
       "    </tr>\n",
       "    <tr>\n",
       "      <th>363</th>\n",
       "      <td>C</td>\n",
       "      <td>Ag</td>\n",
       "      <td>Ag</td>\n",
       "      <td>fcc</td>\n",
       "      <td>1.510000</td>\n",
       "      <td>[298, 298]</td>\n",
       "      <td></td>\n",
       "      <td>O. Kubaschewski, C. Alcock, P. Spencer, Materi...</td>\n",
       "      <td>NaN</td>\n",
       "    </tr>\n",
       "    <tr>\n",
       "      <th>364</th>\n",
       "      <td>S</td>\n",
       "      <td>Ag</td>\n",
       "      <td>Ag</td>\n",
       "      <td>gas</td>\n",
       "      <td>0.172900</td>\n",
       "      <td>[298, 298]</td>\n",
       "      <td></td>\n",
       "      <td>O. Kubaschewski, C. Alcock, P. Spencer, Materi...</td>\n",
       "      <td>0.0</td>\n",
       "    </tr>\n",
       "    <tr>\n",
       "      <th>365</th>\n",
       "      <td>A</td>\n",
       "      <td>Ag</td>\n",
       "      <td>Ag</td>\n",
       "      <td>gas</td>\n",
       "      <td>0.020790</td>\n",
       "      <td>[298, 298]</td>\n",
       "      <td></td>\n",
       "      <td>O. Kubaschewski, C. Alcock, P. Spencer, Materi...</td>\n",
       "      <td>NaN</td>\n",
       "    </tr>\n",
       "    <tr>\n",
       "      <th>366</th>\n",
       "      <td>B</td>\n",
       "      <td>Ag</td>\n",
       "      <td>Ag</td>\n",
       "      <td>gas</td>\n",
       "      <td>0.000000</td>\n",
       "      <td>[298, 298]</td>\n",
       "      <td></td>\n",
       "      <td>O. Kubaschewski, C. Alcock, P. Spencer, Materi...</td>\n",
       "      <td>NaN</td>\n",
       "    </tr>\n",
       "    <tr>\n",
       "      <th>367</th>\n",
       "      <td>fH</td>\n",
       "      <td>Ag</td>\n",
       "      <td>Silver</td>\n",
       "      <td>gas</td>\n",
       "      <td>284.900000</td>\n",
       "      <td>[298, 298]</td>\n",
       "      <td>Review</td>\n",
       "      <td>Cox, Wagman, et al., 1984Cox, J.D.; Wagman, D....</td>\n",
       "      <td>NaN</td>\n",
       "    </tr>\n",
       "    <tr>\n",
       "      <th>368</th>\n",
       "      <td>S</td>\n",
       "      <td>Ag</td>\n",
       "      <td>Silver</td>\n",
       "      <td>gas</td>\n",
       "      <td>0.172997</td>\n",
       "      <td>[298, 298]</td>\n",
       "      <td>Review</td>\n",
       "      <td>Cox, Wagman, et al., 1984Cox, J.D.; Wagman, D....</td>\n",
       "      <td>NaN</td>\n",
       "    </tr>\n",
       "    <tr>\n",
       "      <th>369</th>\n",
       "      <td>S</td>\n",
       "      <td>Ag</td>\n",
       "      <td>Silver</td>\n",
       "      <td>solid</td>\n",
       "      <td>0.042550</td>\n",
       "      <td>[298, 298]</td>\n",
       "      <td>Review</td>\n",
       "      <td>Cox, Wagman, et al., 1984Cox, J.D.; Wagman, D....</td>\n",
       "      <td>NaN</td>\n",
       "    </tr>\n",
       "  </tbody>\n",
       "</table>\n",
       "</div>"
      ],
      "text/plain": [
       "    type formula compound_name phaseinfo       value  temp_range  method  \\\n",
       "355   fH      Ag            Ag       fcc   -0.000000  [298, 298]           \n",
       "356    D      Ag            Ag       fcc    0.000000  [298, 298]           \n",
       "357   fH      Ag            Ag       gas  284.900000  [298, 298]           \n",
       "358    C      Ag            Ag       gas    0.000000  [298, 298]           \n",
       "359    D      Ag            Ag       gas    0.000000  [298, 298]           \n",
       "360    S      Ag            Ag       fcc    0.042600  [298, 298]           \n",
       "361    A      Ag            Ag       fcc    0.021300  [298, 298]           \n",
       "362    B      Ag            Ag       fcc    0.000009  [298, 298]           \n",
       "363    C      Ag            Ag       fcc    1.510000  [298, 298]           \n",
       "364    S      Ag            Ag       gas    0.172900  [298, 298]           \n",
       "365    A      Ag            Ag       gas    0.020790  [298, 298]           \n",
       "366    B      Ag            Ag       gas    0.000000  [298, 298]           \n",
       "367   fH      Ag        Silver       gas  284.900000  [298, 298]  Review   \n",
       "368    S      Ag        Silver       gas    0.172997  [298, 298]  Review   \n",
       "369    S      Ag        Silver     solid    0.042550  [298, 298]  Review   \n",
       "\n",
       "                                                   ref  uncertainty  \n",
       "355  O. Kubaschewski, C. Alcock, P. Spencer, Materi...          0.0  \n",
       "356  O. Kubaschewski, C. Alcock, P. Spencer, Materi...          NaN  \n",
       "357  O. Kubaschewski, C. Alcock, P. Spencer, Materi...          0.0  \n",
       "358  O. Kubaschewski, C. Alcock, P. Spencer, Materi...          NaN  \n",
       "359  O. Kubaschewski, C. Alcock, P. Spencer, Materi...          NaN  \n",
       "360  O. Kubaschewski, C. Alcock, P. Spencer, Materi...          0.0  \n",
       "361  O. Kubaschewski, C. Alcock, P. Spencer, Materi...          NaN  \n",
       "362  O. Kubaschewski, C. Alcock, P. Spencer, Materi...          NaN  \n",
       "363  O. Kubaschewski, C. Alcock, P. Spencer, Materi...          NaN  \n",
       "364  O. Kubaschewski, C. Alcock, P. Spencer, Materi...          0.0  \n",
       "365  O. Kubaschewski, C. Alcock, P. Spencer, Materi...          NaN  \n",
       "366  O. Kubaschewski, C. Alcock, P. Spencer, Materi...          NaN  \n",
       "367  Cox, Wagman, et al., 1984Cox, J.D.; Wagman, D....          NaN  \n",
       "368  Cox, Wagman, et al., 1984Cox, J.D.; Wagman, D....          NaN  \n",
       "369  Cox, Wagman, et al., 1984Cox, J.D.; Wagman, D....          NaN  "
      ]
     },
     "execution_count": 16,
     "metadata": {},
     "output_type": "execute_result"
    }
   ],
   "source": [
    "mpthermo_df[mpthermo_df[\"formula\"] == \"Ag\"]"
   ]
  },
  {
   "cell_type": "markdown",
   "metadata": {},
   "source": [
    "### Each unique type of data needs to be a column"
   ]
  },
  {
   "cell_type": "code",
   "execution_count": 17,
   "metadata": {},
   "outputs": [
    {
     "data": {
      "text/plain": [
       "array(['S', 'fH', 'A', 'B', 'C', 'D', 'E', 'F', 'G', 'H', 'cH'],\n",
       "      dtype=object)"
      ]
     },
     "execution_count": 17,
     "metadata": {},
     "output_type": "execute_result"
    }
   ],
   "source": [
    "# what unique types of data do we have?\n",
    "mpthermo_df.type.unique()"
   ]
  },
  {
   "cell_type": "markdown",
   "metadata": {},
   "source": [
    "### Each unique phase needs to be nested under formula"
   ]
  },
  {
   "cell_type": "code",
   "execution_count": 18,
   "metadata": {},
   "outputs": [
    {
     "data": {
      "text/plain": [
       "array(['hcp', 'gas', 'liquid', 'orth', 'solid', 'hex', 'bcc', 'tetrag',\n",
       "       'rhomb', 'cubic', 'graph', 'diam', 'fcc', 'beta', '', 'white',\n",
       "       'red', 'liq', 'alpha', 'ps.hex', 'monocl', 'orth./1', 'cryst',\n",
       "       'a -qtz', 'a -cris', 'rutile', 'anatas', 'pyrite', 'trigon',\n",
       "       'hemat', 'amorph', 'ortho', 'cement', 'magnet', 'trig', 'gas.',\n",
       "       'bctet', 'a', 'r.tet', 'tetr', '#-qtz', 'wollas', 'ps.wol',\n",
       "       'tet/cu', 'sider', 'clino', 'scheel', 'calcit', 'tricl', 'spinel',\n",
       "       'olivin', 'larnit', 'rhodon', 'forst', 'celest', 'tricli', 'fayal',\n",
       "       'magnes', 'baryte', 'hexag', 'kyanit', 'andal', 'sillim', 'rankin',\n",
       "       'nit.ba', 'dolom'], dtype=object)"
      ]
     },
     "execution_count": 18,
     "metadata": {},
     "output_type": "execute_result"
    }
   ],
   "source": [
    "# what unique types of data do we have?\n",
    "mpthermo_df.phaseinfo.unique()"
   ]
  },
  {
   "cell_type": "markdown",
   "metadata": {},
   "source": [
    "### Create a pandas `Series` object with a multiindex and a dict of the data we need"
   ]
  },
  {
   "cell_type": "code",
   "execution_count": 19,
   "metadata": {},
   "outputs": [],
   "source": [
    "from pymatgen import Composition\n",
    "\n",
    "def create_dict(data):\n",
    "    ret = {}\n",
    "    comp = Composition(data.formula.unique()[0])\n",
    "    \n",
    "    ret[\"project\"] = name\n",
    "    ret[\"is_public\"] = False\n",
    "    ret[\"identifier\"] = comp.reduced_formula\n",
    "    ret[\"data\"] = {}\n",
    "    ret[\"data\"][\"compound\"] = data.compound_name.unique()[0]\n",
    "    ret[\"data\"][\"composition\"] = str(comp)\n",
    "    ret[\"data\"][\"phase\"] = data.phaseinfo.unique()[0]\n",
    "    ret[\"data\"][\"reference\"] = data.ref.unique()[0]\n",
    "    \n",
    "    for t in data.type.unique():\n",
    "        \n",
    "        # set the base dictionary key\n",
    "        if t in [\"A\", \"B\", \"C\", \"D\", \"E\", \"F\", \"G\", \"H\"]:\n",
    "            if not ret[\"data\"].get(\"polynomial\"):\n",
    "                ret[\"data\"][\"polynomial\"] = {}\n",
    "            \n",
    "            if not ret[\"data\"].get(\"ΔT\"):\n",
    "                ret[\"data\"][\"ΔT\"] = {}\n",
    "\n",
    "            base_dict = ret[\"data\"][\"polynomial\"]\n",
    "            col = t\n",
    "            unit = \"dimensionless\"\n",
    "            base_dict[col] = {}\n",
    "            ret[\"data\"][\"ΔT\"][col] = {\"min\": \"{} K\".format(data[data[\"type\"]==t][\"temp_range\"].values[0][0]),\n",
    "                                   \"max\": \"{} K\".format(data[data[\"type\"]==t][\"temp_range\"].values[0][1])}\n",
    "            \n",
    "        else:\n",
    "            if data[data[\"type\"]==t][\"temp_range\"].values[0] == [298, 298]:\n",
    "                if not ret[\"data\"].get(\"298K\"):\n",
    "                    ret[\"data\"][\"298K\"]= {}\n",
    "                base_dict = ret[\"data\"][\"298K\"]\n",
    "            else:\n",
    "                print(\"Type: {}, T: {}\".format(t, data[data[\"type\"]==t][\"temp_range\"].values[0]))\n",
    "                       \n",
    "            if t == \"S\":\n",
    "                unit = 'kJ/degK/mol'\n",
    "                col = \"S\"\n",
    "            elif t ==\"fH\":\n",
    "                col = \"ΔHᶠ\"\n",
    "                unit = \"kJ/mol\"\n",
    "            else:\n",
    "                col = t\n",
    "                unit = \"dimensionless\"\n",
    "            \n",
    "            base_dict[col] = {}\n",
    "\n",
    "        # find value, uncertainty, method, unit\n",
    "        base_dict[col]= \"{:0.5g} {}\".format(data[data[\"type\"]==t][\"value\"].values[0], unit)\n",
    "        \n",
    "        if data[data[\"type\"]==t][\"method\"].values[0] != \"\":\n",
    "            if not ret[\"data\"].get(\"method\"):\n",
    "                ret[\"data\"][\"method\"] = {}\n",
    "            ret[\"data\"][\"method\"][col] = data[data[\"type\"]==t][\"method\"].values[0]\n",
    "            \n",
    "#         if not np.isnan(data[data[\"type\"]==t][\"uncertainty\"].values[0]):\n",
    "#             base_dict[col][\"uncertainty\"] = data[data[\"type\"]==t][\"uncertainty\"].values[0]\n",
    "        \n",
    "        \n",
    "            \n",
    "#         if t in [\"S\", \"fH\"]:\n",
    "#             base_dict[col][\"units\"] = unit\n",
    "\n",
    "    \n",
    "    return ret\n",
    "    \n",
    "\n",
    "new_df = mpthermo_df.groupby([\"formula\",\"compound_name\",\"phaseinfo\",\"ref\"]).apply(create_dict)\n",
    "mpthermo_contribs = list(new_df)"
   ]
  },
  {
   "cell_type": "code",
   "execution_count": 20,
   "metadata": {},
   "outputs": [
    {
     "data": {
      "text/plain": [
       "{'project': 'experimental_thermo',\n",
       " 'is_public': False,\n",
       " 'identifier': 'Ag',\n",
       " 'data': {'compound': 'Ag',\n",
       "  'composition': 'Ag1',\n",
       "  'phase': 'fcc',\n",
       "  'reference': 'O. Kubaschewski, C. Alcock, P. Spencer, Materials Thermochemistry, 6th ed., Oxford, Pergamom Press, 1993.',\n",
       "  '298K': {'ΔHᶠ': '-0 kJ/mol', 'S': '0.0426 kJ/degK/mol'},\n",
       "  'polynomial': {'D': '0 dimensionless',\n",
       "   'A': '0.0213 dimensionless',\n",
       "   'B': '8.54e-06 dimensionless',\n",
       "   'C': '1.51 dimensionless'},\n",
       "  'ΔT': {'D': {'min': '298 K', 'max': '298 K'},\n",
       "   'A': {'min': '298 K', 'max': '298 K'},\n",
       "   'B': {'min': '298 K', 'max': '298 K'},\n",
       "   'C': {'min': '298 K', 'max': '298 K'}}}}"
      ]
     },
     "execution_count": 20,
     "metadata": {},
     "output_type": "execute_result"
    }
   ],
   "source": [
    "mpthermo_contribs[0]"
   ]
  },
  {
   "cell_type": "markdown",
   "metadata": {},
   "source": [
    "#### Reshape the dict so that data is nested under a key for each phase"
   ]
  },
  {
   "cell_type": "code",
   "execution_count": 21,
   "metadata": {},
   "outputs": [],
   "source": [
    "reshaped = []\n",
    "\n",
    "from itertools import groupby\n",
    "\n",
    "for formula, group in groupby(mpthermo_contribs, key=lambda d: d[\"identifier\"]):\n",
    "    new_dict ={}\n",
    "    new_dict[\"project\"] = name\n",
    "    new_dict[\"is_public\"] = False\n",
    "    new_dict[\"identifier\"] = formula\n",
    "    new_dict[\"data\"] = {}\n",
    "    \n",
    "    for d in group:\n",
    "        if not new_dict.get(\"composition\"):\n",
    "            new_dict[\"composition\"] = d[\"data\"][\"composition\"]\n",
    "        \n",
    "        del d[\"data\"][\"composition\"]\n",
    "\n",
    "        phase = d[\"data\"].get(\"phase\", \"n/a\")\n",
    "        if phase == \"\":\n",
    "            phase = \"n/a\"\n",
    "\n",
    "        new_dict[\"data\"][phase] = d[\"data\"]\n",
    "        if phase != \"n/a\":\n",
    "            del new_dict[\"data\"][phase][\"phase\"]\n",
    "\n",
    "    reshaped.append(new_dict)"
   ]
  },
  {
   "cell_type": "code",
   "execution_count": 22,
   "metadata": {},
   "outputs": [
    {
     "name": "stdout",
     "output_type": "stream",
     "text": [
      "{'composition': 'Ag1',\n",
      " 'data': {'fcc': {'298K': {'S': '0.0426 kJ/degK/mol', 'ΔHᶠ': '-0 kJ/mol'},\n",
      "                  'compound': 'Ag',\n",
      "                  'polynomial': {'A': '0.0213 dimensionless',\n",
      "                                 'B': '8.54e-06 dimensionless',\n",
      "                                 'C': '1.51 dimensionless',\n",
      "                                 'D': '0 dimensionless'},\n",
      "                  'reference': 'O. Kubaschewski, C. Alcock, P. Spencer, '\n",
      "                               'Materials Thermochemistry, 6th ed., Oxford, '\n",
      "                               'Pergamom Press, 1993.',\n",
      "                  'ΔT': {'A': {'max': '298 K', 'min': '298 K'},\n",
      "                         'B': {'max': '298 K', 'min': '298 K'},\n",
      "                         'C': {'max': '298 K', 'min': '298 K'},\n",
      "                         'D': {'max': '298 K', 'min': '298 K'}}},\n",
      "          'gas': {'298K': {'S': '0.173 kJ/degK/mol', 'ΔHᶠ': '284.9 kJ/mol'},\n",
      "                  'compound': 'Silver',\n",
      "                  'method': {'S': 'Review', 'ΔHᶠ': 'Review'},\n",
      "                  'reference': 'Cox, Wagman, et al., 1984Cox, J.D.; Wagman, '\n",
      "                               'D.D.; Medvedev, V.A.,CODATA Key Values for '\n",
      "                               'Thermodynamics, Hemisphere Publishing Corp., '\n",
      "                               'New York, 1984, 1.  CODATA Review value'},\n",
      "          'solid': {'298K': {'S': '0.04255 kJ/degK/mol'},\n",
      "                    'compound': 'Silver',\n",
      "                    'method': {'S': 'Review'},\n",
      "                    'reference': 'Cox, Wagman, et al., 1984Cox, J.D.; Wagman, '\n",
      "                                 'D.D.; Medvedev, V.A.,CODATA Key Values for '\n",
      "                                 'Thermodynamics, Hemisphere Publishing Corp., '\n",
      "                                 'New York, 1984, 1.  CODATA Review value'}},\n",
      " 'identifier': 'Ag',\n",
      " 'is_public': False,\n",
      " 'project': 'experimental_thermo'}\n"
     ]
    }
   ],
   "source": [
    "import pprint\n",
    "pprint.pprint(reshaped[0])"
   ]
  },
  {
   "cell_type": "markdown",
   "metadata": {},
   "source": [
    "## NIST JANAF Data"
   ]
  },
  {
   "cell_type": "markdown",
   "metadata": {},
   "source": [
    "#### Load the JANAF data from a CSV file"
   ]
  },
  {
   "cell_type": "code",
   "execution_count": 23,
   "metadata": {},
   "outputs": [],
   "source": [
    "import pandas\n",
    "janaf_df= pandas.read_csv(data_dir / \"2020-08-10 JANAF data from Ayush/mpcontribs_janaf_thermo.csv\")"
   ]
  },
  {
   "cell_type": "code",
   "execution_count": 24,
   "metadata": {},
   "outputs": [
    {
     "data": {
      "text/html": [
       "<div>\n",
       "<style scoped>\n",
       "    .dataframe tbody tr th:only-of-type {\n",
       "        vertical-align: middle;\n",
       "    }\n",
       "\n",
       "    .dataframe tbody tr th {\n",
       "        vertical-align: top;\n",
       "    }\n",
       "\n",
       "    .dataframe thead th {\n",
       "        text-align: right;\n",
       "    }\n",
       "</style>\n",
       "<table border=\"1\" class=\"dataframe\">\n",
       "  <thead>\n",
       "    <tr style=\"text-align: right;\">\n",
       "      <th></th>\n",
       "      <th>Unnamed: 0</th>\n",
       "      <th>Formula</th>\n",
       "      <th>Name</th>\n",
       "      <th>Phase</th>\n",
       "      <th>Link</th>\n",
       "      <th>Cp_0</th>\n",
       "      <th>Cp_298</th>\n",
       "      <th>S_0</th>\n",
       "      <th>S_298</th>\n",
       "      <th>DeltaH_0</th>\n",
       "      <th>DeltaH_298</th>\n",
       "      <th>DeltaG_0</th>\n",
       "      <th>DeltaG_298</th>\n",
       "    </tr>\n",
       "  </thead>\n",
       "  <tbody>\n",
       "    <tr>\n",
       "      <th>0</th>\n",
       "      <td>0</td>\n",
       "      <td>Al</td>\n",
       "      <td>Aluminum</td>\n",
       "      <td>ref</td>\n",
       "      <td>https://janaf.nist.gov/tables/Al-001.txt</td>\n",
       "      <td>0.0</td>\n",
       "      <td>24.209</td>\n",
       "      <td>0.0</td>\n",
       "      <td>28.275</td>\n",
       "      <td>0.0</td>\n",
       "      <td>0.0</td>\n",
       "      <td>0.0</td>\n",
       "      <td>0.0</td>\n",
       "    </tr>\n",
       "    <tr>\n",
       "      <th>1</th>\n",
       "      <td>1</td>\n",
       "      <td>Al</td>\n",
       "      <td>Aluminum</td>\n",
       "      <td>cr</td>\n",
       "      <td>https://janaf.nist.gov/tables/Al-002.txt</td>\n",
       "      <td>0.0</td>\n",
       "      <td>24.209</td>\n",
       "      <td>0.0</td>\n",
       "      <td>28.275</td>\n",
       "      <td>0.0</td>\n",
       "      <td>0.0</td>\n",
       "      <td>0.0</td>\n",
       "      <td>0.0</td>\n",
       "    </tr>\n",
       "    <tr>\n",
       "      <th>2</th>\n",
       "      <td>2</td>\n",
       "      <td>Al</td>\n",
       "      <td>Aluminum</td>\n",
       "      <td>cr,l</td>\n",
       "      <td>https://janaf.nist.gov/tables/Al-004.txt</td>\n",
       "      <td>0.0</td>\n",
       "      <td>24.209</td>\n",
       "      <td>0.0</td>\n",
       "      <td>28.275</td>\n",
       "      <td>0.0</td>\n",
       "      <td>0.0</td>\n",
       "      <td>0.0</td>\n",
       "      <td>0.0</td>\n",
       "    </tr>\n",
       "    <tr>\n",
       "      <th>3</th>\n",
       "      <td>3</td>\n",
       "      <td>AlBr3</td>\n",
       "      <td>Aluminum Bromide</td>\n",
       "      <td>cr</td>\n",
       "      <td>https://janaf.nist.gov/tables/Al-010.txt</td>\n",
       "      <td>0.0</td>\n",
       "      <td>100.578</td>\n",
       "      <td>0.0</td>\n",
       "      <td>180.216</td>\n",
       "      <td>-491896.0</td>\n",
       "      <td>-511285.0</td>\n",
       "      <td>-491896.0</td>\n",
       "      <td>-488515.0</td>\n",
       "    </tr>\n",
       "    <tr>\n",
       "      <th>4</th>\n",
       "      <td>4</td>\n",
       "      <td>AlBr3</td>\n",
       "      <td>Aluminum Bromide</td>\n",
       "      <td>cr,l</td>\n",
       "      <td>https://janaf.nist.gov/tables/Al-012.txt</td>\n",
       "      <td>0.0</td>\n",
       "      <td>100.578</td>\n",
       "      <td>0.0</td>\n",
       "      <td>180.216</td>\n",
       "      <td>-491896.0</td>\n",
       "      <td>-511285.0</td>\n",
       "      <td>-491896.0</td>\n",
       "      <td>-488515.0</td>\n",
       "    </tr>\n",
       "    <tr>\n",
       "      <th>5</th>\n",
       "      <td>5</td>\n",
       "      <td>AlClO</td>\n",
       "      <td>Aluminum Chloride Oxide</td>\n",
       "      <td>cr</td>\n",
       "      <td>https://janaf.nist.gov/tables/Al-019.txt</td>\n",
       "      <td>NaN</td>\n",
       "      <td>56.902</td>\n",
       "      <td>NaN</td>\n",
       "      <td>54.392</td>\n",
       "      <td>NaN</td>\n",
       "      <td>-793286.0</td>\n",
       "      <td>NaN</td>\n",
       "      <td>-737235.0</td>\n",
       "    </tr>\n",
       "    <tr>\n",
       "      <th>6</th>\n",
       "      <td>6</td>\n",
       "      <td>AlCl3</td>\n",
       "      <td>Aluminum Chloride</td>\n",
       "      <td>cr</td>\n",
       "      <td>https://janaf.nist.gov/tables/Al-025.txt</td>\n",
       "      <td>0.0</td>\n",
       "      <td>91.128</td>\n",
       "      <td>0.0</td>\n",
       "      <td>109.286</td>\n",
       "      <td>-704300.0</td>\n",
       "      <td>-705632.0</td>\n",
       "      <td>-704300.0</td>\n",
       "      <td>-630018.0</td>\n",
       "    </tr>\n",
       "    <tr>\n",
       "      <th>7</th>\n",
       "      <td>7</td>\n",
       "      <td>AlCl3</td>\n",
       "      <td>Aluminum Chloride</td>\n",
       "      <td>cr,l</td>\n",
       "      <td>https://janaf.nist.gov/tables/Al-027.txt</td>\n",
       "      <td>0.0</td>\n",
       "      <td>91.128</td>\n",
       "      <td>0.0</td>\n",
       "      <td>109.286</td>\n",
       "      <td>-704300.0</td>\n",
       "      <td>-705632.0</td>\n",
       "      <td>-704300.0</td>\n",
       "      <td>-630018.0</td>\n",
       "    </tr>\n",
       "    <tr>\n",
       "      <th>8</th>\n",
       "      <td>8</td>\n",
       "      <td>AlCl4K</td>\n",
       "      <td>Potassium Tetrachloroaluminate</td>\n",
       "      <td>cr</td>\n",
       "      <td>https://janaf.nist.gov/tables/Al-029.txt</td>\n",
       "      <td>NaN</td>\n",
       "      <td>156.482</td>\n",
       "      <td>NaN</td>\n",
       "      <td>196.648</td>\n",
       "      <td>NaN</td>\n",
       "      <td>-1196624.0</td>\n",
       "      <td>NaN</td>\n",
       "      <td>-1094521.0</td>\n",
       "    </tr>\n",
       "    <tr>\n",
       "      <th>9</th>\n",
       "      <td>9</td>\n",
       "      <td>AlCl4Na</td>\n",
       "      <td>Sodium Tetrachloroaluminate</td>\n",
       "      <td>cr</td>\n",
       "      <td>https://janaf.nist.gov/tables/Al-030.txt</td>\n",
       "      <td>NaN</td>\n",
       "      <td>154.975</td>\n",
       "      <td>NaN</td>\n",
       "      <td>188.280</td>\n",
       "      <td>NaN</td>\n",
       "      <td>-1142232.0</td>\n",
       "      <td>NaN</td>\n",
       "      <td>-996454.0</td>\n",
       "    </tr>\n",
       "    <tr>\n",
       "      <th>10</th>\n",
       "      <td>10</td>\n",
       "      <td>AlCl6K3</td>\n",
       "      <td>Potassium Hexachloroaluminate</td>\n",
       "      <td>cr</td>\n",
       "      <td>https://janaf.nist.gov/tables/Al-031.txt</td>\n",
       "      <td>NaN</td>\n",
       "      <td>248.906</td>\n",
       "      <td>NaN</td>\n",
       "      <td>376.560</td>\n",
       "      <td>NaN</td>\n",
       "      <td>-2092000.0</td>\n",
       "      <td>NaN</td>\n",
       "      <td>-1938463.0</td>\n",
       "    </tr>\n",
       "    <tr>\n",
       "      <th>11</th>\n",
       "      <td>11</td>\n",
       "      <td>AlCl6Na3</td>\n",
       "      <td>Sodium Hexachloroaluminate</td>\n",
       "      <td>cr</td>\n",
       "      <td>https://janaf.nist.gov/tables/Al-032.txt</td>\n",
       "      <td>NaN</td>\n",
       "      <td>244.136</td>\n",
       "      <td>NaN</td>\n",
       "      <td>347.272</td>\n",
       "      <td>NaN</td>\n",
       "      <td>-1979032.0</td>\n",
       "      <td>NaN</td>\n",
       "      <td>-1828584.0</td>\n",
       "    </tr>\n",
       "    <tr>\n",
       "      <th>12</th>\n",
       "      <td>12</td>\n",
       "      <td>AlF3</td>\n",
       "      <td>Aluminum Fluoride</td>\n",
       "      <td>cr</td>\n",
       "      <td>https://janaf.nist.gov/tables/Al-041.txt</td>\n",
       "      <td>0.0</td>\n",
       "      <td>75.132</td>\n",
       "      <td>0.0</td>\n",
       "      <td>66.484</td>\n",
       "      <td>-1504272.0</td>\n",
       "      <td>-1510424.0</td>\n",
       "      <td>-1504272.0</td>\n",
       "      <td>-1431123.0</td>\n",
       "    </tr>\n",
       "    <tr>\n",
       "      <th>13</th>\n",
       "      <td>13</td>\n",
       "      <td>AlF3</td>\n",
       "      <td>Aluminum Fluoride</td>\n",
       "      <td>cr,l</td>\n",
       "      <td>https://janaf.nist.gov/tables/Al-043.txt</td>\n",
       "      <td>0.0</td>\n",
       "      <td>75.132</td>\n",
       "      <td>0.0</td>\n",
       "      <td>66.484</td>\n",
       "      <td>-1504272.0</td>\n",
       "      <td>-1510424.0</td>\n",
       "      <td>-1504272.0</td>\n",
       "      <td>-1431123.0</td>\n",
       "    </tr>\n",
       "    <tr>\n",
       "      <th>14</th>\n",
       "      <td>14</td>\n",
       "      <td>AlF6K3</td>\n",
       "      <td>Potassium Hexafluoraluminate</td>\n",
       "      <td>cr</td>\n",
       "      <td>https://janaf.nist.gov/tables/Al-048.txt</td>\n",
       "      <td>NaN</td>\n",
       "      <td>222.798</td>\n",
       "      <td>NaN</td>\n",
       "      <td>284.512</td>\n",
       "      <td>NaN</td>\n",
       "      <td>-3326280.0</td>\n",
       "      <td>NaN</td>\n",
       "      <td>-3163447.0</td>\n",
       "    </tr>\n",
       "    <tr>\n",
       "      <th>15</th>\n",
       "      <td>15</td>\n",
       "      <td>AlF6Li3</td>\n",
       "      <td>Lithium Hexafluoroaluminate</td>\n",
       "      <td>cr</td>\n",
       "      <td>https://janaf.nist.gov/tables/Al-049.txt</td>\n",
       "      <td>0.0</td>\n",
       "      <td>202.506</td>\n",
       "      <td>0.0</td>\n",
       "      <td>187.891</td>\n",
       "      <td>-3370866.0</td>\n",
       "      <td>-3383601.0</td>\n",
       "      <td>-3370866.0</td>\n",
       "      <td>-3223790.0</td>\n",
       "    </tr>\n",
       "    <tr>\n",
       "      <th>16</th>\n",
       "      <td>16</td>\n",
       "      <td>AlF6Li3</td>\n",
       "      <td>Lithium Hexafluoroaluminate</td>\n",
       "      <td>cr,l</td>\n",
       "      <td>https://janaf.nist.gov/tables/Al-051.txt</td>\n",
       "      <td>0.0</td>\n",
       "      <td>202.506</td>\n",
       "      <td>0.0</td>\n",
       "      <td>187.891</td>\n",
       "      <td>-3370866.0</td>\n",
       "      <td>-3383601.0</td>\n",
       "      <td>-3370866.0</td>\n",
       "      <td>-3223790.0</td>\n",
       "    </tr>\n",
       "    <tr>\n",
       "      <th>17</th>\n",
       "      <td>17</td>\n",
       "      <td>AlF6Na3</td>\n",
       "      <td>Cryolite, Alpha</td>\n",
       "      <td>cr</td>\n",
       "      <td>https://janaf.nist.gov/tables/Al-052.txt</td>\n",
       "      <td>0.0</td>\n",
       "      <td>215.727</td>\n",
       "      <td>0.0</td>\n",
       "      <td>238.467</td>\n",
       "      <td>-3304649.0</td>\n",
       "      <td>-3316908.0</td>\n",
       "      <td>-3304649.0</td>\n",
       "      <td>-3152168.0</td>\n",
       "    </tr>\n",
       "    <tr>\n",
       "      <th>18</th>\n",
       "      <td>18</td>\n",
       "      <td>AlF6Na3</td>\n",
       "      <td>Cryolite, Beta</td>\n",
       "      <td>cr</td>\n",
       "      <td>https://janaf.nist.gov/tables/Al-053.txt</td>\n",
       "      <td>NaN</td>\n",
       "      <td>194.723</td>\n",
       "      <td>NaN</td>\n",
       "      <td>284.881</td>\n",
       "      <td>NaN</td>\n",
       "      <td>-3288781.0</td>\n",
       "      <td>NaN</td>\n",
       "      <td>-3137880.0</td>\n",
       "    </tr>\n",
       "    <tr>\n",
       "      <th>19</th>\n",
       "      <td>19</td>\n",
       "      <td>AlF6Na3</td>\n",
       "      <td>Cryolite</td>\n",
       "      <td>cr,l</td>\n",
       "      <td>https://janaf.nist.gov/tables/Al-055.txt</td>\n",
       "      <td>0.0</td>\n",
       "      <td>215.727</td>\n",
       "      <td>0.0</td>\n",
       "      <td>238.467</td>\n",
       "      <td>-3304649.0</td>\n",
       "      <td>-3316908.0</td>\n",
       "      <td>-3304649.0</td>\n",
       "      <td>-3152168.0</td>\n",
       "    </tr>\n",
       "  </tbody>\n",
       "</table>\n",
       "</div>"
      ],
      "text/plain": [
       "    Unnamed: 0   Formula                            Name Phase  \\\n",
       "0            0        Al                        Aluminum   ref   \n",
       "1            1        Al                        Aluminum    cr   \n",
       "2            2        Al                        Aluminum  cr,l   \n",
       "3            3     AlBr3                Aluminum Bromide    cr   \n",
       "4            4     AlBr3                Aluminum Bromide  cr,l   \n",
       "5            5     AlClO         Aluminum Chloride Oxide    cr   \n",
       "6            6     AlCl3               Aluminum Chloride    cr   \n",
       "7            7     AlCl3               Aluminum Chloride  cr,l   \n",
       "8            8    AlCl4K  Potassium Tetrachloroaluminate    cr   \n",
       "9            9   AlCl4Na     Sodium Tetrachloroaluminate    cr   \n",
       "10          10   AlCl6K3   Potassium Hexachloroaluminate    cr   \n",
       "11          11  AlCl6Na3      Sodium Hexachloroaluminate    cr   \n",
       "12          12      AlF3               Aluminum Fluoride    cr   \n",
       "13          13      AlF3               Aluminum Fluoride  cr,l   \n",
       "14          14    AlF6K3    Potassium Hexafluoraluminate    cr   \n",
       "15          15   AlF6Li3     Lithium Hexafluoroaluminate    cr   \n",
       "16          16   AlF6Li3     Lithium Hexafluoroaluminate  cr,l   \n",
       "17          17   AlF6Na3                 Cryolite, Alpha    cr   \n",
       "18          18   AlF6Na3                  Cryolite, Beta    cr   \n",
       "19          19   AlF6Na3                        Cryolite  cr,l   \n",
       "\n",
       "                                        Link  Cp_0   Cp_298  S_0    S_298  \\\n",
       "0   https://janaf.nist.gov/tables/Al-001.txt   0.0   24.209  0.0   28.275   \n",
       "1   https://janaf.nist.gov/tables/Al-002.txt   0.0   24.209  0.0   28.275   \n",
       "2   https://janaf.nist.gov/tables/Al-004.txt   0.0   24.209  0.0   28.275   \n",
       "3   https://janaf.nist.gov/tables/Al-010.txt   0.0  100.578  0.0  180.216   \n",
       "4   https://janaf.nist.gov/tables/Al-012.txt   0.0  100.578  0.0  180.216   \n",
       "5   https://janaf.nist.gov/tables/Al-019.txt   NaN   56.902  NaN   54.392   \n",
       "6   https://janaf.nist.gov/tables/Al-025.txt   0.0   91.128  0.0  109.286   \n",
       "7   https://janaf.nist.gov/tables/Al-027.txt   0.0   91.128  0.0  109.286   \n",
       "8   https://janaf.nist.gov/tables/Al-029.txt   NaN  156.482  NaN  196.648   \n",
       "9   https://janaf.nist.gov/tables/Al-030.txt   NaN  154.975  NaN  188.280   \n",
       "10  https://janaf.nist.gov/tables/Al-031.txt   NaN  248.906  NaN  376.560   \n",
       "11  https://janaf.nist.gov/tables/Al-032.txt   NaN  244.136  NaN  347.272   \n",
       "12  https://janaf.nist.gov/tables/Al-041.txt   0.0   75.132  0.0   66.484   \n",
       "13  https://janaf.nist.gov/tables/Al-043.txt   0.0   75.132  0.0   66.484   \n",
       "14  https://janaf.nist.gov/tables/Al-048.txt   NaN  222.798  NaN  284.512   \n",
       "15  https://janaf.nist.gov/tables/Al-049.txt   0.0  202.506  0.0  187.891   \n",
       "16  https://janaf.nist.gov/tables/Al-051.txt   0.0  202.506  0.0  187.891   \n",
       "17  https://janaf.nist.gov/tables/Al-052.txt   0.0  215.727  0.0  238.467   \n",
       "18  https://janaf.nist.gov/tables/Al-053.txt   NaN  194.723  NaN  284.881   \n",
       "19  https://janaf.nist.gov/tables/Al-055.txt   0.0  215.727  0.0  238.467   \n",
       "\n",
       "     DeltaH_0  DeltaH_298   DeltaG_0  DeltaG_298  \n",
       "0         0.0         0.0        0.0         0.0  \n",
       "1         0.0         0.0        0.0         0.0  \n",
       "2         0.0         0.0        0.0         0.0  \n",
       "3   -491896.0   -511285.0  -491896.0   -488515.0  \n",
       "4   -491896.0   -511285.0  -491896.0   -488515.0  \n",
       "5         NaN   -793286.0        NaN   -737235.0  \n",
       "6   -704300.0   -705632.0  -704300.0   -630018.0  \n",
       "7   -704300.0   -705632.0  -704300.0   -630018.0  \n",
       "8         NaN  -1196624.0        NaN  -1094521.0  \n",
       "9         NaN  -1142232.0        NaN   -996454.0  \n",
       "10        NaN  -2092000.0        NaN  -1938463.0  \n",
       "11        NaN  -1979032.0        NaN  -1828584.0  \n",
       "12 -1504272.0  -1510424.0 -1504272.0  -1431123.0  \n",
       "13 -1504272.0  -1510424.0 -1504272.0  -1431123.0  \n",
       "14        NaN  -3326280.0        NaN  -3163447.0  \n",
       "15 -3370866.0  -3383601.0 -3370866.0  -3223790.0  \n",
       "16 -3370866.0  -3383601.0 -3370866.0  -3223790.0  \n",
       "17 -3304649.0  -3316908.0 -3304649.0  -3152168.0  \n",
       "18        NaN  -3288781.0        NaN  -3137880.0  \n",
       "19 -3304649.0  -3316908.0 -3304649.0  -3152168.0  "
      ]
     },
     "execution_count": 24,
     "metadata": {},
     "output_type": "execute_result"
    }
   ],
   "source": [
    "janaf_df.head(20)"
   ]
  },
  {
   "cell_type": "markdown",
   "metadata": {},
   "source": [
    "### Create a list of dicts for the contributions in the JANAF dataframe"
   ]
  },
  {
   "cell_type": "code",
   "execution_count": 25,
   "metadata": {},
   "outputs": [
    {
     "name": "stderr",
     "output_type": "stream",
     "text": [
      "/Users/ryan/pymatgen/pymatgen/core/periodic_table.py:438: builtins.UserWarning: No electronegativity for Ar. Setting to NaN. This has no physical meaning, and is mainly done to avoid errors caused by the code expecting a float.\n",
      "/Users/ryan/pymatgen/pymatgen/core/periodic_table.py:438: builtins.UserWarning: No electronegativity for He. Setting to NaN. This has no physical meaning, and is mainly done to avoid errors caused by the code expecting a float.\n",
      "/Users/ryan/pymatgen/pymatgen/core/periodic_table.py:438: builtins.UserWarning: No electronegativity for Ne. Setting to NaN. This has no physical meaning, and is mainly done to avoid errors caused by the code expecting a float.\n"
     ]
    },
    {
     "name": "stdout",
     "output_type": "stream",
     "text": [
      "problem\n"
     ]
    }
   ],
   "source": [
    "def create_dict(data):\n",
    "    \n",
    "    ret = {}\n",
    "    ret[\"project\"] = name\n",
    "    ret[\"is_public\"] = False    \n",
    "    ret[\"data\"] = {}\n",
    "    \n",
    "    try:\n",
    "        comp = Composition(data.Formula.unique()[0])\n",
    "        ret[\"identifier\"] = comp.reduced_formula\n",
    "        ret[\"data\"][\"composition\"] = str(comp)\n",
    "    except:\n",
    "        print('problem')\n",
    "        ret[\"identifier\"] = data.Formula.unique()[0]\n",
    "        ret[\"data\"][\"composition\"] = data.Formula.unique()[0]\n",
    "        \n",
    "    ret[\"data\"][\"compound\"] = data.Name.unique()[0]\n",
    "    ret[\"data\"][\"phase\"] = data.Phase.unique()[0]\n",
    "    ret[\"data\"][\"reference\"] = data.Link.unique()[0].replace('txt','html')\n",
    "    \n",
    "    ret[\"data\"][\"0K\"] = {\"ΔHᶠ\": \"{:0.6g} {}\".format(data[\"DeltaH_0\"].values[0]/1000, \"kJ/mol\"),\n",
    "                          \"ΔGᶠ\": \"{:0.6g} {}\".format(data[\"DeltaG_0\"].values[0]/1000, \"kJ/mol\"),\n",
    "                         \"S\": \"{:0.6g} {}\".format(data[\"S_0\"].values[0], \"J/degK/mol\"),\n",
    "                          \"Cₚ\": \"{:0.6g} {}\".format(data[\"Cp_0\"].values[0], \"J/degK/mol\"),\n",
    "                         }\n",
    "    \n",
    "    ret[\"data\"][\"298K\"] = {\"ΔHᶠ\": \"{:0.6g} {}\".format(data[\"DeltaH_298\"].values[0]/1000, \"kJ/mol\"),\n",
    "                          \"ΔGᶠ\": \"{:0.6g} {}\".format(data[\"DeltaG_298\"].values[0]/1000, \"kJ/mol\"),\n",
    "                         \"S\": \"{:0.6g} {}\".format(data[\"S_298\"].values[0], \"J/degK/mol\"),\n",
    "                          \"Cₚ\": \"{:0.6g} {}\".format(data[\"Cp_298\"].values[0], \"J/degK/mol\"),\n",
    "                         }\n",
    "\n",
    "    return ret\n",
    "    \n",
    "\n",
    "new_df = janaf_df.groupby([\"Formula\",\"Name\",\"Phase\"]).apply(create_dict)\n",
    "janaf_contribs = list(new_df)"
   ]
  },
  {
   "cell_type": "code",
   "execution_count": 26,
   "metadata": {},
   "outputs": [
    {
     "name": "stdout",
     "output_type": "stream",
     "text": [
      "{'data': {'0K': {'Cₚ': 'nan J/degK/mol',\n",
      "                 'S': 'nan J/degK/mol',\n",
      "                 'ΔGᶠ': 'nan kJ/mol',\n",
      "                 'ΔHᶠ': 'nan kJ/mol'},\n",
      "          '298K': {'Cₚ': '81.385 J/degK/mol',\n",
      "                   'S': '50.626 J/degK/mol',\n",
      "                   'ΔGᶠ': '-1572.97 kJ/mol',\n",
      "                   'ΔHᶠ': '-1666.49 kJ/mol'},\n",
      "          'composition': 'Al2 O3',\n",
      "          'compound': 'Aluminum Oxide, Delta',\n",
      "          'phase': 'cr',\n",
      "          'reference': 'https://janaf.nist.gov/tables/Al-097.html'},\n",
      " 'identifier': 'Al2O3',\n",
      " 'is_public': False,\n",
      " 'project': 'experimental_thermo'}\n"
     ]
    }
   ],
   "source": [
    "pprint.pprint(janaf_contribs[10])"
   ]
  },
  {
   "cell_type": "markdown",
   "metadata": {},
   "source": [
    "#### Reshape the dict so that data is nested under a key for each phase"
   ]
  },
  {
   "cell_type": "code",
   "execution_count": 27,
   "metadata": {},
   "outputs": [],
   "source": [
    "reshaped_janaf = []\n",
    "\n",
    "from itertools import groupby\n",
    "\n",
    "for formula, group in groupby(janaf_contribs, key=lambda d: d[\"identifier\"]):\n",
    "    new_dict ={}\n",
    "    new_dict[\"project\"] = name\n",
    "    new_dict[\"is_public\"] = False\n",
    "    new_dict[\"identifier\"] = formula\n",
    "    new_dict[\"data\"] = {}\n",
    "    \n",
    "    for d in group:\n",
    "        if not new_dict.get(\"composition\"):\n",
    "            new_dict[\"composition\"] = d[\"data\"][\"composition\"]\n",
    "        \n",
    "                \n",
    "        del d[\"data\"][\"composition\"]\n",
    "            \n",
    "        phase = d[\"data\"].get(\"phase\", \"n/a\")\n",
    "        if phase == \"\":\n",
    "            phase = \"n/a\"\n",
    "\n",
    "        new_dict[\"data\"][phase] = d[\"data\"]\n",
    "        if phase != \"n/a\":\n",
    "            del new_dict[\"data\"][phase][\"phase\"]\n",
    "        \n",
    "    reshaped_janaf.append(new_dict)"
   ]
  },
  {
   "cell_type": "code",
   "execution_count": 28,
   "metadata": {},
   "outputs": [
    {
     "name": "stdout",
     "output_type": "stream",
     "text": [
      "{'composition': 'Al1',\n",
      " 'data': {'cr': {'0K': {'Cₚ': '0 J/degK/mol',\n",
      "                        'S': '0 J/degK/mol',\n",
      "                        'ΔGᶠ': '0 kJ/mol',\n",
      "                        'ΔHᶠ': '0 kJ/mol'},\n",
      "                 '298K': {'Cₚ': '24.209 J/degK/mol',\n",
      "                          'S': '28.275 J/degK/mol',\n",
      "                          'ΔGᶠ': '0 kJ/mol',\n",
      "                          'ΔHᶠ': '0 kJ/mol'},\n",
      "                 'compound': 'Aluminum',\n",
      "                 'reference': 'https://janaf.nist.gov/tables/Al-002.html'},\n",
      "          'cr,l': {'0K': {'Cₚ': '0 J/degK/mol',\n",
      "                          'S': '0 J/degK/mol',\n",
      "                          'ΔGᶠ': '0 kJ/mol',\n",
      "                          'ΔHᶠ': '0 kJ/mol'},\n",
      "                   '298K': {'Cₚ': '24.209 J/degK/mol',\n",
      "                            'S': '28.275 J/degK/mol',\n",
      "                            'ΔGᶠ': '0 kJ/mol',\n",
      "                            'ΔHᶠ': '0 kJ/mol'},\n",
      "                   'compound': 'Aluminum',\n",
      "                   'reference': 'https://janaf.nist.gov/tables/Al-004.html'},\n",
      "          'ref': {'0K': {'Cₚ': '0 J/degK/mol',\n",
      "                         'S': '0 J/degK/mol',\n",
      "                         'ΔGᶠ': '0 kJ/mol',\n",
      "                         'ΔHᶠ': '0 kJ/mol'},\n",
      "                  '298K': {'Cₚ': '24.209 J/degK/mol',\n",
      "                           'S': '28.275 J/degK/mol',\n",
      "                           'ΔGᶠ': '0 kJ/mol',\n",
      "                           'ΔHᶠ': '0 kJ/mol'},\n",
      "                  'compound': 'Aluminum',\n",
      "                  'reference': 'https://janaf.nist.gov/tables/Al-001.html'}},\n",
      " 'identifier': 'Al',\n",
      " 'is_public': False,\n",
      " 'project': 'experimental_thermo'}\n"
     ]
    }
   ],
   "source": [
    "import pprint\n",
    "pprint.pprint(reshaped_janaf[0])"
   ]
  },
  {
   "cell_type": "code",
   "execution_count": 29,
   "metadata": {},
   "outputs": [
    {
     "name": "stdout",
     "output_type": "stream",
     "text": [
      "{'composition': 'Ag1',\n",
      " 'data': {'fcc': {'298K': {'S': '0.0426 kJ/degK/mol', 'ΔHᶠ': '-0 kJ/mol'},\n",
      "                  'compound': 'Ag',\n",
      "                  'polynomial': {'A': '0.0213 dimensionless',\n",
      "                                 'B': '8.54e-06 dimensionless',\n",
      "                                 'C': '1.51 dimensionless',\n",
      "                                 'D': '0 dimensionless'},\n",
      "                  'reference': 'O. Kubaschewski, C. Alcock, P. Spencer, '\n",
      "                               'Materials Thermochemistry, 6th ed., Oxford, '\n",
      "                               'Pergamom Press, 1993.',\n",
      "                  'ΔT': {'A': {'max': '298 K', 'min': '298 K'},\n",
      "                         'B': {'max': '298 K', 'min': '298 K'},\n",
      "                         'C': {'max': '298 K', 'min': '298 K'},\n",
      "                         'D': {'max': '298 K', 'min': '298 K'}}},\n",
      "          'gas': {'298K': {'S': '0.173 kJ/degK/mol', 'ΔHᶠ': '284.9 kJ/mol'},\n",
      "                  'compound': 'Silver',\n",
      "                  'method': {'S': 'Review', 'ΔHᶠ': 'Review'},\n",
      "                  'reference': 'Cox, Wagman, et al., 1984Cox, J.D.; Wagman, '\n",
      "                               'D.D.; Medvedev, V.A.,CODATA Key Values for '\n",
      "                               'Thermodynamics, Hemisphere Publishing Corp., '\n",
      "                               'New York, 1984, 1.  CODATA Review value'},\n",
      "          'solid': {'298K': {'S': '0.04255 kJ/degK/mol'},\n",
      "                    'compound': 'Silver',\n",
      "                    'method': {'S': 'Review'},\n",
      "                    'reference': 'Cox, Wagman, et al., 1984Cox, J.D.; Wagman, '\n",
      "                                 'D.D.; Medvedev, V.A.,CODATA Key Values for '\n",
      "                                 'Thermodynamics, Hemisphere Publishing Corp., '\n",
      "                                 'New York, 1984, 1.  CODATA Review value'}},\n",
      " 'identifier': 'Ag',\n",
      " 'is_public': False,\n",
      " 'project': 'experimental_thermo'}\n"
     ]
    }
   ],
   "source": [
    "import pprint\n",
    "pprint.pprint(reshaped[0])"
   ]
  },
  {
   "cell_type": "markdown",
   "metadata": {},
   "source": [
    "### Merge the JANAF data with the MP Thermo data"
   ]
  },
  {
   "cell_type": "code",
   "execution_count": 30,
   "metadata": {},
   "outputs": [
    {
     "name": "stdout",
     "output_type": "stream",
     "text": [
      "Skipped 0 duplicate entries\n"
     ]
    }
   ],
   "source": [
    "all_contribs = reshaped[:]\n",
    "\n",
    "count=0\n",
    "for d in reshaped_janaf:\n",
    "    # is this identifier already in mp thermo?\n",
    "    if d[\"identifier\"] in [e[\"identifier\"] for e in reshaped]:\n",
    "        # add the new NIST phases\n",
    "        target_entry = [e for e in reshaped if e[\"identifier\"] == d[\"identifier\"]][0]\n",
    "        for k,v in d[\"data\"].items():\n",
    "            if target_entry[\"data\"].get(k):\n",
    "                print(\"Warning: phase {} already exists for id {} in MP Thermo data! Skipping.\".format(k, d[\"identifier\"]))\n",
    "                count+=1\n",
    "                continue\n",
    "            target_entry[\"data\"][k] = v\n",
    "    else:\n",
    "        all_contribs.append(d)\n",
    "\n",
    "print(\"Skipped {} duplicate entries\".format(count))"
   ]
  },
  {
   "cell_type": "code",
   "execution_count": 31,
   "metadata": {},
   "outputs": [
    {
     "name": "stdout",
     "output_type": "stream",
     "text": [
      "{'composition': 'Ag1',\n",
      " 'data': {'fcc': {'298K': {'S': '0.0426 kJ/degK/mol', 'ΔHᶠ': '-0 kJ/mol'},\n",
      "                  'compound': 'Ag',\n",
      "                  'polynomial': {'A': '0.0213 dimensionless',\n",
      "                                 'B': '8.54e-06 dimensionless',\n",
      "                                 'C': '1.51 dimensionless',\n",
      "                                 'D': '0 dimensionless'},\n",
      "                  'reference': 'O. Kubaschewski, C. Alcock, P. Spencer, '\n",
      "                               'Materials Thermochemistry, 6th ed., Oxford, '\n",
      "                               'Pergamom Press, 1993.',\n",
      "                  'ΔT': {'A': {'max': '298 K', 'min': '298 K'},\n",
      "                         'B': {'max': '298 K', 'min': '298 K'},\n",
      "                         'C': {'max': '298 K', 'min': '298 K'},\n",
      "                         'D': {'max': '298 K', 'min': '298 K'}}},\n",
      "          'gas': {'298K': {'S': '0.173 kJ/degK/mol', 'ΔHᶠ': '284.9 kJ/mol'},\n",
      "                  'compound': 'Silver',\n",
      "                  'method': {'S': 'Review', 'ΔHᶠ': 'Review'},\n",
      "                  'reference': 'Cox, Wagman, et al., 1984Cox, J.D.; Wagman, '\n",
      "                               'D.D.; Medvedev, V.A.,CODATA Key Values for '\n",
      "                               'Thermodynamics, Hemisphere Publishing Corp., '\n",
      "                               'New York, 1984, 1.  CODATA Review value'},\n",
      "          'solid': {'298K': {'S': '0.04255 kJ/degK/mol'},\n",
      "                    'compound': 'Silver',\n",
      "                    'method': {'S': 'Review'},\n",
      "                    'reference': 'Cox, Wagman, et al., 1984Cox, J.D.; Wagman, '\n",
      "                                 'D.D.; Medvedev, V.A.,CODATA Key Values for '\n",
      "                                 'Thermodynamics, Hemisphere Publishing Corp., '\n",
      "                                 'New York, 1984, 1.  CODATA Review value'}},\n",
      " 'identifier': 'Ag',\n",
      " 'is_public': False,\n",
      " 'project': 'experimental_thermo'}\n"
     ]
    }
   ],
   "source": [
    "pprint.pprint(all_contribs[0])"
   ]
  },
  {
   "cell_type": "code",
   "execution_count": 32,
   "metadata": {},
   "outputs": [],
   "source": [
    "## Fix the position of the composition key\n",
    "for e in all_contribs:\n",
    "    e[\"data\"][\"composition\"] = e[\"composition\"]\n",
    "    del e[\"composition\"]"
   ]
  },
  {
   "cell_type": "markdown",
   "metadata": {},
   "source": [
    "#### Remap phase keys that contain punctuation"
   ]
  },
  {
   "cell_type": "code",
   "execution_count": 33,
   "metadata": {},
   "outputs": [],
   "source": [
    "replace = {\"#-qtz\":\"βqtz\",\n",
    "           \"a\": \"α\",\n",
    "           \"a -cris\":\"αcrys\",\n",
    "           \"a -qtz\":\"αqtz\",\n",
    "           \"nit.ba\": \"nitba\",\n",
    "           \"orth./1\":\"orth\",\n",
    "           \"ortho\":\"orth\",\n",
    "           \"r.tet\":\"rtet\",\n",
    "           \"tet/cu\":\"tetcu\",\n",
    "           \"n/a\":\"none\",\n",
    "           \"cr,l\":\"crl\"\n",
    "          }"
   ]
  },
  {
   "cell_type": "code",
   "execution_count": 34,
   "metadata": {},
   "outputs": [],
   "source": [
    "for e in all_contribs:\n",
    "    for k in replace.keys():\n",
    "        if e[\"data\"].get(k):\n",
    "            e[\"data\"][replace[k]] = e[\"data\"].pop(k)"
   ]
  },
  {
   "cell_type": "code",
   "execution_count": 35,
   "metadata": {},
   "outputs": [
    {
     "name": "stdout",
     "output_type": "stream",
     "text": [
      "{'data': {'composition': 'Ag1',\n",
      "          'fcc': {'298K': {'S': '0.0426 kJ/degK/mol', 'ΔHᶠ': '-0 kJ/mol'},\n",
      "                  'compound': 'Ag',\n",
      "                  'polynomial': {'A': '0.0213 dimensionless',\n",
      "                                 'B': '8.54e-06 dimensionless',\n",
      "                                 'C': '1.51 dimensionless',\n",
      "                                 'D': '0 dimensionless'},\n",
      "                  'reference': 'O. Kubaschewski, C. Alcock, P. Spencer, '\n",
      "                               'Materials Thermochemistry, 6th ed., Oxford, '\n",
      "                               'Pergamom Press, 1993.',\n",
      "                  'ΔT': {'A': {'max': '298 K', 'min': '298 K'},\n",
      "                         'B': {'max': '298 K', 'min': '298 K'},\n",
      "                         'C': {'max': '298 K', 'min': '298 K'},\n",
      "                         'D': {'max': '298 K', 'min': '298 K'}}},\n",
      "          'gas': {'298K': {'S': '0.173 kJ/degK/mol', 'ΔHᶠ': '284.9 kJ/mol'},\n",
      "                  'compound': 'Silver',\n",
      "                  'method': {'S': 'Review', 'ΔHᶠ': 'Review'},\n",
      "                  'reference': 'Cox, Wagman, et al., 1984Cox, J.D.; Wagman, '\n",
      "                               'D.D.; Medvedev, V.A.,CODATA Key Values for '\n",
      "                               'Thermodynamics, Hemisphere Publishing Corp., '\n",
      "                               'New York, 1984, 1.  CODATA Review value'},\n",
      "          'solid': {'298K': {'S': '0.04255 kJ/degK/mol'},\n",
      "                    'compound': 'Silver',\n",
      "                    'method': {'S': 'Review'},\n",
      "                    'reference': 'Cox, Wagman, et al., 1984Cox, J.D.; Wagman, '\n",
      "                                 'D.D.; Medvedev, V.A.,CODATA Key Values for '\n",
      "                                 'Thermodynamics, Hemisphere Publishing Corp., '\n",
      "                                 'New York, 1984, 1.  CODATA Review value'}},\n",
      " 'identifier': 'Ag',\n",
      " 'is_public': False,\n",
      " 'project': 'experimental_thermo'}\n"
     ]
    }
   ],
   "source": [
    "pprint.pprint(all_contribs[0])"
   ]
  },
  {
   "cell_type": "markdown",
   "metadata": {},
   "source": [
    "### Reshape data again so that each formula+phase is a unique contribution with a unique identifier"
   ]
  },
  {
   "cell_type": "code",
   "execution_count": 36,
   "metadata": {},
   "outputs": [],
   "source": [
    "new_contribs = []\n",
    "for d in all_contribs:\n",
    "    # unpack each identifier into unique identifiers with formula+phase\n",
    "    for k,v in d[\"data\"].items():\n",
    "        new_d={}\n",
    "        if k == 'composition':\n",
    "            continue\n",
    "        new_d[\"identifier\"] = str(d[\"identifier\"]+\"-\"+k)\n",
    "        new_d[\"formula\"] = d[\"identifier\"]\n",
    "        new_d[\"is_public\"] = True\n",
    "        new_d[\"project\"] = d[\"project\"]\n",
    "        new_d[\"data\"] = v\n",
    "        new_d[\"data\"][\"phase\"] = k\n",
    "        new_d[\"data\"][\"composition\"] = d[\"data\"][\"composition\"]\n",
    "        new_contribs.append(new_d)\n",
    "\n",
    "    "
   ]
  },
  {
   "cell_type": "code",
   "execution_count": 37,
   "metadata": {},
   "outputs": [
    {
     "name": "stdout",
     "output_type": "stream",
     "text": [
      "{'data': {'298K': {'S': '0.0426 kJ/degK/mol', 'ΔHᶠ': '-0 kJ/mol'},\n",
      "          'composition': 'Ag1',\n",
      "          'compound': 'Ag',\n",
      "          'phase': 'fcc',\n",
      "          'polynomial': {'A': '0.0213 dimensionless',\n",
      "                         'B': '8.54e-06 dimensionless',\n",
      "                         'C': '1.51 dimensionless',\n",
      "                         'D': '0 dimensionless'},\n",
      "          'reference': 'O. Kubaschewski, C. Alcock, P. Spencer, Materials '\n",
      "                       'Thermochemistry, 6th ed., Oxford, Pergamom Press, '\n",
      "                       '1993.',\n",
      "          'ΔT': {'A': {'max': '298 K', 'min': '298 K'},\n",
      "                 'B': {'max': '298 K', 'min': '298 K'},\n",
      "                 'C': {'max': '298 K', 'min': '298 K'},\n",
      "                 'D': {'max': '298 K', 'min': '298 K'}}},\n",
      " 'formula': 'Ag',\n",
      " 'identifier': 'Ag-fcc',\n",
      " 'is_public': True,\n",
      " 'project': 'experimental_thermo'}\n"
     ]
    }
   ],
   "source": [
    "pprint.pprint(new_contribs[0])"
   ]
  },
  {
   "cell_type": "code",
   "execution_count": 38,
   "metadata": {},
   "outputs": [
    {
     "name": "stdout",
     "output_type": "stream",
     "text": [
      "{'data': {'298K': {'S': '0.04255 kJ/degK/mol'},\n",
      "          'composition': 'Ag1',\n",
      "          'compound': 'Silver',\n",
      "          'method': {'S': 'Review'},\n",
      "          'phase': 'solid',\n",
      "          'reference': 'Cox, Wagman, et al., 1984Cox, J.D.; Wagman, D.D.; '\n",
      "                       'Medvedev, V.A.,CODATA Key Values for Thermodynamics, '\n",
      "                       'Hemisphere Publishing Corp., New York, 1984, 1.  '\n",
      "                       'CODATA Review value'},\n",
      " 'formula': 'Ag',\n",
      " 'identifier': 'Ag-solid',\n",
      " 'is_public': True,\n",
      " 'project': 'experimental_thermo'}\n"
     ]
    }
   ],
   "source": [
    "pprint.pprint(new_contribs[2])"
   ]
  },
  {
   "cell_type": "code",
   "execution_count": 39,
   "metadata": {},
   "outputs": [],
   "source": [
    "dumpfn(new_contribs, pipeline_dir / \"2020-08-31_new_thermo_contribs.json\")"
   ]
  },
  {
   "cell_type": "code",
   "execution_count": 46,
   "metadata": {},
   "outputs": [],
   "source": [
    "new_contribs = loadfn(pipeline_dir / \"2020-08-31_new_thermo_contribs.json\")"
   ]
  },
  {
   "cell_type": "markdown",
   "metadata": {},
   "source": [
    "### Clean `nan` out of the contribs"
   ]
  },
  {
   "cell_type": "code",
   "execution_count": 47,
   "metadata": {},
   "outputs": [
    {
     "name": "stdout",
     "output_type": "stream",
     "text": [
      "deleted Al2O3-cr\n",
      "deleted AlClO-cr\n",
      "deleted AlI3-cr\n",
      "deleted AlI3-crl\n",
      "deleted BHO2-cr\n",
      "deleted BaBr2-cr\n",
      "deleted BaBr2-crl\n",
      "deleted Be2C-cr\n",
      "deleted Be2C-crl\n",
      "deleted BeBr2-cr\n",
      "deleted BeI2-cr\n",
      "deleted BeI2-crl\n",
      "deleted BeO-cr\n",
      "deleted BeS-cr\n",
      "deleted BeSO4-cr\n",
      "deleted Ca-cr\n",
      "deleted CaBr2-cr\n",
      "deleted CaBr2-crl\n",
      "deleted CoF3-cr\n",
      "deleted Cr2N-cr\n",
      "deleted CsF-cr\n",
      "deleted CsF-crl\n",
      "deleted CsHO-cr\n",
      "deleted CsHO-crl\n",
      "deleted CuCl-cr\n",
      "deleted CuCl-crl\n",
      "deleted Fe-cr\n",
      "deleted Fe2(SO4)3-cr\n",
      "deleted FeBr2-cr\n",
      "deleted FeBr2-crl\n",
      "deleted H4IN-cr\n",
      "deleted Hf-cr\n",
      "deleted HgBr-cr\n",
      "deleted HgBr2-cr\n",
      "deleted HgBr2-crl\n",
      "deleted HgCl2-cr\n",
      "deleted HgCl2-crl\n",
      "deleted HgF-cr\n",
      "deleted HgF2-cr\n",
      "deleted HgF2-crl\n",
      "deleted HgI-cr\n",
      "deleted HgI-crl\n",
      "deleted HgI2-cr\n",
      "deleted HgI2-crl\n",
      "deleted K2B4O7-cr\n",
      "deleted K2B4O7-crl\n",
      "deleted K2O-cr\n",
      "deleted K2O2-cr\n",
      "deleted K2S-cr\n",
      "deleted K2S-crl\n",
      "deleted K2SO4-cr\n",
      "deleted K3AlF6-cr\n",
      "deleted KBF4-cr\n",
      "deleted KBF4-crl\n",
      "deleted KH-cr\n",
      "deleted Li2B4O7-cr\n",
      "deleted Li2B4O7-crl\n",
      "deleted Li2BeF4-cr\n",
      "deleted Li2BeF4-crl\n",
      "deleted Li2O2-cr\n",
      "deleted Li2SO4-cr\n",
      "deleted LiB3O5-cr\n",
      "deleted LiBr-cr\n",
      "deleted LiBr-crl\n",
      "deleted LiClO4-cr\n",
      "deleted LiClO4-crl\n",
      "deleted LiI-cr\n",
      "deleted LiI-crl\n",
      "deleted Mg2Si-cr\n",
      "deleted Mg2Si-crl\n",
      "deleted Mg3(PO4)2-cr\n",
      "deleted Mg3(PO4)2-crl\n",
      "deleted Mg3N2-cr\n",
      "deleted MgBr2-cr\n",
      "deleted MgBr2-crl\n",
      "deleted MgI2-cr\n",
      "deleted MgI2-crl\n",
      "deleted Mo2S3-cr\n",
      "deleted Mo2S3-crl\n",
      "deleted MoCl4-cr\n",
      "deleted MoCl5-cr\n",
      "deleted MoCl5-crl\n",
      "deleted MoCl6-cr\n",
      "deleted Na2S-cr\n",
      "deleted Na2S-crl\n",
      "deleted Na3AlF6-cr\n",
      "deleted NaAlCl4-cr\n",
      "deleted NaB3O5-cr\n",
      "deleted NaClO4-cr\n",
      "deleted NbBr5-cr\n",
      "deleted NbBr5-crl\n",
      "deleted NbCl5-cr\n",
      "deleted NbCl5-crl\n",
      "deleted NbO-cr\n",
      "deleted NbO-crl\n",
      "deleted Ni3S4-cr\n",
      "deleted P4S3-cr\n",
      "deleted P4S3-crl\n",
      "deleted PbCl2-cr\n",
      "deleted PbCl2-crl\n",
      "deleted PbF2-cr\n",
      "deleted PbF2-crl\n",
      "deleted Si3N4-cr\n",
      "deleted SiI4-cr\n",
      "deleted SiI4-crl\n",
      "deleted SiS2-cr\n",
      "deleted SiS2-crl\n",
      "deleted Sr-cr\n",
      "deleted TaCl5-cr\n",
      "deleted TaCl5-crl\n",
      "deleted Ti-cr\n",
      "deleted Ti3O5-cr\n",
      "deleted TiB-cr\n",
      "deleted TiBr2-cr\n",
      "deleted TiO-cr\n",
      "deleted WCl4-cr\n",
      "deleted WCl5-cr\n",
      "deleted WCl5-crl\n",
      "deleted WCl6-cr\n",
      "deleted WCl6-crl\n",
      "deleted WOF4-cr\n",
      "deleted WOF4-crl\n",
      "deleted Zr-cr\n",
      "deleted K3Al2Cl9-cr\n",
      "deleted KAlCl4-cr\n",
      "deleted K3AlCl6-cr\n",
      "deleted Na3AlCl6-cr\n",
      "deleted B10Pb2O17-cr\n",
      "deleted Be3(BO3)2-cr\n",
      "deleted B2PbO4-cr\n",
      "deleted BOF-cr\n",
      "deleted B4PbO7-cr\n",
      "deleted KB3O5-cr\n",
      "deleted B6PbO10-cr\n",
      "deleted K2B8O13-cr\n",
      "deleted K2B8O13-crl\n",
      "deleted Li2B8O13-cr\n",
      "deleted LiBeF3-cr\n",
      "deleted LiBeF3-crl\n",
      "deleted BeWO4-cr\n",
      "deleted MoBr2-cr\n",
      "deleted ZrBr2-cr\n",
      "deleted ZrBr2-crl\n",
      "deleted MoBr3-cr\n",
      "deleted MoBr4-cr\n",
      "deleted WBr5-cr\n",
      "deleted WBr5-crl\n",
      "deleted WBr6-cr\n",
      "deleted LiC-cr\n",
      "deleted MgC2-cr\n",
      "deleted Mg2C3-cr\n",
      "deleted W(ClO)2-cr\n",
      "deleted WCl2-cr\n",
      "deleted ZrCl2-cr\n",
      "deleted ZrCl2-crl\n",
      "deleted ZrCl3-cr\n",
      "deleted WCl4O-cr\n",
      "deleted WCl4O-crl\n",
      "deleted Cu2SO5-cr\n",
      "deleted CuF-cr\n",
      "deleted ZrF2-cr\n",
      "deleted ZrF2-crl\n",
      "deleted FeF3-cr\n",
      "deleted TiF3-cr\n",
      "deleted ZrF3-cr\n",
      "deleted FeI2-cr\n",
      "deleted FeI2-crl\n",
      "deleted FeO-cr\n",
      "deleted FeO-crl\n",
      "deleted Ba(HO)2-cr\n",
      "deleted Ba(HO)2-crl\n",
      "deleted Be(HO)2-cr\n",
      "deleted Cu(HO)2-cr\n",
      "deleted Fe(HO)2-cr\n",
      "deleted Sr(HO)2-cr\n",
      "deleted Sr(HO)2-crl\n",
      "deleted H2WO4-cr\n",
      "deleted BHO-cr\n",
      "deleted Fe(HO)3-cr\n",
      "deleted LiAlH4-cr\n",
      "deleted B(HO)2-cr\n",
      "deleted MoI2-cr\n",
      "deleted TiI2-cr\n",
      "deleted ZrI2-cr\n",
      "deleted ZrI2-crl\n",
      "deleted MoI3-cr\n",
      "deleted TiI3-cr\n",
      "deleted MoI4-cr\n",
      "deleted Li2Si2O5-cr\n",
      "deleted Li2Si2O5-crl\n",
      "deleted Mo1O2.75-cr\n",
      "deleted Mo1O2.875-cr\n",
      "deleted Mo1O2.889-cr\n",
      "deleted P3N5-cr\n",
      "deleted NaS-cr\n",
      "deleted NaS-crl\n",
      "deleted NiS2-cr\n",
      "deleted NiS2-crl\n",
      "deleted W1O2.72-cr\n",
      "deleted W1O2.9-cr\n",
      "deleted W1O2.96-cr\n",
      "deleted Ti4O7-cr\n",
      "deleted Ti4O7-crl\n"
     ]
    }
   ],
   "source": [
    "for d in new_contribs:\n",
    "    if d[\"data\"].get(\"0K\"):\n",
    "        if all([\"nan\" in v for k,v in d[\"data\"][\"0K\"].items()]):\n",
    "            del d[\"data\"][\"0K\"]\n",
    "            print(\"deleted {}\".format(d[\"identifier\"]))"
   ]
  },
  {
   "cell_type": "code",
   "execution_count": 48,
   "metadata": {},
   "outputs": [],
   "source": [
    "for d in new_contribs:\n",
    "    if d[\"data\"].get(\"298K\"):\n",
    "        if all([\"nan\" in v for k,v in d[\"data\"][\"298K\"].items()]):\n",
    "            del d[\"data\"][\"298K\"]\n",
    "            print(\"deleted {}\".format(d[\"identifier\"]))"
   ]
  },
  {
   "cell_type": "code",
   "execution_count": 49,
   "metadata": {},
   "outputs": [
    {
     "name": "stdout",
     "output_type": "stream",
     "text": [
      "deleted CCl3F-gas\n"
     ]
    }
   ],
   "source": [
    "for d in new_contribs:\n",
    "    if d[\"data\"].get(\"298K\"):\n",
    "        if all([\"nan\" in v or \"0 \" in v for k,v in d[\"data\"][\"298K\"].items()]):\n",
    "            del d[\"data\"][\"298K\"]\n",
    "            print(\"deleted {}\".format(d[\"identifier\"]))"
   ]
  },
  {
   "cell_type": "code",
   "execution_count": 50,
   "metadata": {},
   "outputs": [
    {
     "name": "stdout",
     "output_type": "stream",
     "text": [
      "deleted Al-cr\n",
      "deleted Al-ref\n",
      "deleted Al-crl\n",
      "deleted B-ref\n",
      "deleted B-cr\n",
      "deleted B-crl\n",
      "deleted Ba-cr\n",
      "deleted Ba-ref\n",
      "deleted Ba-crl\n",
      "deleted Be-cr\n",
      "deleted Be-ref\n",
      "deleted Be-crl\n",
      "deleted Br-ref\n",
      "deleted Br-crl\n",
      "deleted C-ref\n",
      "deleted Ca-ref\n",
      "deleted Ca-crl\n",
      "deleted Cl2-ref\n",
      "deleted Co-cr\n",
      "deleted Co-ref\n",
      "deleted Co-crl\n",
      "deleted Cr-cr\n",
      "deleted Cr-ref\n",
      "deleted Cr-crl\n",
      "deleted Cs-cr\n",
      "deleted Cs-ref\n",
      "deleted Cs-crl\n",
      "deleted Cu-cr\n",
      "deleted Cu-ref\n",
      "deleted Cu-crl\n",
      "deleted F2-ref\n",
      "deleted Fe-ref\n",
      "deleted Fe-crl\n",
      "deleted Ga-cr\n",
      "deleted Ga-ref\n",
      "deleted Ga-crl\n",
      "deleted H2-ref\n",
      "deleted Hf-ref\n",
      "deleted Hf-crl\n",
      "deleted Hg-ref\n",
      "deleted Hg-crl\n",
      "deleted I-cr\n",
      "deleted I-ref\n",
      "deleted I-crl\n",
      "deleted K-cr\n",
      "deleted K-ref\n",
      "deleted K-crl\n",
      "deleted Li-cr\n",
      "deleted Li-ref\n",
      "deleted Li-crl\n",
      "deleted Mg-cr\n",
      "deleted Mg-ref\n",
      "deleted Mg-crl\n",
      "deleted Mn-cr\n",
      "deleted Mn-ref\n",
      "deleted Mn-crl\n",
      "deleted Mo-cr\n",
      "deleted Mo-ref\n",
      "deleted Mo-crl\n",
      "deleted MoCl4-crl\n",
      "deleted N2-ref\n",
      "deleted Na-cr\n",
      "deleted Na-ref\n",
      "deleted Na-crl\n",
      "deleted Nb-cr\n",
      "deleted Nb-ref\n",
      "deleted Nb-crl\n",
      "deleted Ni-cr\n",
      "deleted Ni-ref\n",
      "deleted Ni-crl\n",
      "deleted O2-ref\n",
      "deleted P-ref\n",
      "deleted P-cr\n",
      "deleted P-crl\n",
      "deleted Pb-cr\n",
      "deleted Pb-ref\n",
      "deleted Pb-crl\n",
      "deleted Rb-cr\n",
      "deleted Rb-ref\n",
      "deleted Rb-crl\n",
      "deleted S-ref\n",
      "deleted S-cr\n",
      "deleted S-crl\n",
      "deleted Si-cr\n",
      "deleted Si-ref\n",
      "deleted Si-crl\n",
      "deleted Sr-ref\n",
      "deleted Sr-crl\n",
      "deleted Ta-cr\n",
      "deleted Ta-ref\n",
      "deleted Ta-crl\n",
      "deleted Ti-ref\n",
      "deleted Ti-crl\n",
      "deleted V-cr\n",
      "deleted V-ref\n",
      "deleted V-crl\n",
      "deleted W-cr\n",
      "deleted W-ref\n",
      "deleted W-crl\n",
      "deleted Zn-cr\n",
      "deleted Zn-ref\n",
      "deleted Zn-crl\n",
      "deleted Zr-ref\n",
      "deleted Zr-crl\n",
      "deleted Ar-ref\n",
      "deleted D-ref\n",
      "deleted He-ref\n",
      "deleted Kr-ref\n",
      "deleted Ne-ref\n",
      "deleted Rn-ref\n",
      "deleted Xe-ref\n"
     ]
    }
   ],
   "source": [
    "for d in new_contribs:\n",
    "    if d[\"data\"].get(\"0K\"):\n",
    "        if all([\"nan\" in v or \"0 \" in v for k,v in d[\"data\"][\"0K\"].items()]):\n",
    "            del d[\"data\"][\"0K\"]\n",
    "            print(\"deleted {}\".format(d[\"identifier\"]))"
   ]
  },
  {
   "cell_type": "markdown",
   "metadata": {},
   "source": [
    "### Fix `nan` values for the NIST electron gas"
   ]
  },
  {
   "cell_type": "code",
   "execution_count": 51,
   "metadata": {},
   "outputs": [],
   "source": [
    "for d in new_contribs:\n",
    "    if d[\"identifier\"] == \"e--ref\":\n",
    "        del d[\"data\"][\"0K\"][\"ΔGᶠ\"]\n",
    "        del d[\"data\"][\"0K\"][\"ΔHᶠ\"]\n",
    "        del d[\"data\"][\"0K\"][\"S\"]"
   ]
  },
  {
   "cell_type": "markdown",
   "metadata": {},
   "source": [
    "### Submit both datasets to MPContribs"
   ]
  },
  {
   "cell_type": "code",
   "execution_count": 85,
   "metadata": {},
   "outputs": [
    {
     "data": {
      "application/vnd.jupyter.widget-view+json": {
       "model_id": "fc760bf26c004f718211145420cdaa59",
       "version_major": 2,
       "version_minor": 0
      },
      "text/plain": [
       "HBox(children=(FloatProgress(value=0.0, max=2100.0), HTML(value='')))"
      ]
     },
     "metadata": {},
     "output_type": "display_data"
    },
    {
     "name": "stdout",
     "output_type": "stream",
     "text": [
      "\n"
     ]
    }
   ],
   "source": [
    "# need to delete contributions first due to unique_identifiers=False\n",
    "client.delete_contributions(name)\n",
    "#client.submit_contributions(new_contribs, per_page=10)#, skip_dupe_check=True)"
   ]
  },
  {
   "cell_type": "code",
   "execution_count": 78,
   "metadata": {},
   "outputs": [
    {
     "data": {
      "text/plain": [
       "2160"
      ]
     },
     "execution_count": 78,
     "metadata": {},
     "output_type": "execute_result"
    }
   ],
   "source": [
    "len(new_contribs)"
   ]
  },
  {
   "cell_type": "code",
   "execution_count": 86,
   "metadata": {},
   "outputs": [
    {
     "name": "stderr",
     "output_type": "stream",
     "text": [
      "216it [19:33,  5.43s/it]\n"
     ]
    }
   ],
   "source": [
    "def chunks(lst, n):\n",
    "    \"\"\"Yield successive n-sized chunks from lst.\"\"\"\n",
    "    for i in range(0, len(lst), n):\n",
    "        yield lst[i:i + n]\n",
    "\n",
    "for chunk in tqdm(chunks(new_contribs, 10, total=len(new_contribs)/10)):\n",
    "    try:\n",
    "        client.contributions.create_entries(contributions=chunk).result()\n",
    "    except:\n",
    "        print(chunk)\n",
    "        break"
   ]
  },
  {
   "cell_type": "markdown",
   "metadata": {},
   "source": [
    "### Appendix\n",
    "----"
   ]
  },
  {
   "cell_type": "code",
   "execution_count": null,
   "metadata": {},
   "outputs": [],
   "source": [
    "break"
   ]
  },
  {
   "cell_type": "code",
   "execution_count": null,
   "metadata": {},
   "outputs": [],
   "source": []
  }
 ],
 "metadata": {
  "kernelspec": {
   "display_name": "mp2: Python 3.8",
   "language": "python",
   "name": "mp2"
  },
  "language_info": {
   "codemirror_mode": {
    "name": "ipython",
    "version": 3
   },
   "file_extension": ".py",
   "mimetype": "text/x-python",
   "name": "python",
   "nbconvert_exporter": "python",
   "pygments_lexer": "ipython3",
   "version": "3.8.1"
  },
  "widgets": {
   "application/vnd.jupyter.widget-state+json": {
    "state": {},
    "version_major": 2,
    "version_minor": 0
   }
  }
 },
 "nbformat": 4,
 "nbformat_minor": 4
}
