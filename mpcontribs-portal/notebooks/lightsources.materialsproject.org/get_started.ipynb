{
 "cells": [
  {
   "cell_type": "code",
   "execution_count": null,
   "metadata": {},
   "outputs": [],
   "source": [
    "import os\n",
    "import json\n",
    "import gzip\n",
    "from zipfile import ZipFile\n",
    "from io import StringIO, BytesIO\n",
    "from numpy import where\n",
    "from scipy.interpolate import interp1d, interp2d\n",
    "from pandas import to_numeric, read_csv\n",
    "from mpcontribs.client import Client, Attachment\n",
    "from tqdm.notebook import tqdm\n",
    "from decimal import Decimal\n",
    "from pathlib import Path"
   ]
  },
  {
   "cell_type": "code",
   "execution_count": null,
   "metadata": {},
   "outputs": [],
   "source": [
    "# name = \"magmom_cobalt_copper_cerium\"\n",
    "# client = Client(host=\"lightsources-api.materialsproject.org\")\n",
    "name = \"sandbox\"\n",
    "client = Client()"
   ]
  },
  {
   "cell_type": "code",
   "execution_count": null,
   "metadata": {},
   "outputs": [],
   "source": [
    "# add sample info to project.other\n",
    "# client.projects.update_entry(pk=name, project={\n",
    "#     \"other\": {\n",
    "#         \"sample1\": {\"name\": \"CMSI-2-10_1\", \"description\": \"something about this sample\"},\n",
    "#         \"sample3\": {\"name\": \"CMSI-2-10_3\", \"description\": \"something about this sample\"}\n",
    "#     }\n",
    "# }).result()"
   ]
  },
  {
   "cell_type": "code",
   "execution_count": null,
   "metadata": {},
   "outputs": [],
   "source": [
    "# define columns to initilize them later with pre-determined order and units\n",
    "elements = [\"Co\", \"Cu\", \"Ce\"]\n",
    "columns = {f\"position.{axis}\": \"mm\" for axis in [\"x\", \"y\"]}\n",
    "columns.update({f\"composition.{element}\": \"%\" for element in elements})\n",
    "columns.update({\n",
    "    f\"{element}.{spectrum}.{m}\": \"\"\n",
    "    for element in elements\n",
    "    for spectrum in [\"XAS\", \"XMCD\"]\n",
    "    for m in [\"min\", \"max\"]\n",
    "})\n",
    "columns.update({\"tables\": None, \"attachments\": None})\n",
    "#columns"
   ]
  },
  {
   "cell_type": "code",
   "execution_count": null,
   "metadata": {},
   "outputs": [],
   "source": [
    "# result of an analysis run\n",
    "zip_path = \"/Users/patrick/GoogleDriveLBNL/MaterialsProject/gitrepos/mpcontribs-data/dataset.zip\"\n",
    "zip_file = ZipFile(zip_path, \"r\")"
   ]
  },
  {
   "cell_type": "code",
   "execution_count": null,
   "metadata": {},
   "outputs": [],
   "source": [
    "# composition/concentration table\n",
    "ctable = read_csv(StringIO(\"\"\"\n",
    "X,\t\tY,\t\tCo,\t\tCu,\t\tCe\n",
    "-8.5,\t37.6,\t46.2,\t5.3,\t39.3\n",
    "-8.5,\t107.8,\t70.0,\t8.9,\t15.5\n",
    "-7.2,\t37.9,\t61.2,\t4.3,\t34.1\n",
    "-7.2,\t107.0,\t88.2,\t6.5,\t12.3\n",
    "-6.3,\t37.9,\t66.0,\t20.2,\t14.89\n",
    "-6.3,\t107.9,\t88.7,\t2.7,\t9.5\n",
    "-6.1,\t35.4,\t66.0,\t20.2,\t14.89\n",
    "-6.1,\t105.4,\t88.7,\t2.7,\t9.5\n",
    "-5.7,\t34.8,\t48.3,\t12.5,\t39.3\n",
    "-5.7,\t104.8,\t54.9,\t19.1,\t15.5\n",
    "-5.0,\t37.1,\t48.8,\t8.7,\t43.7\n",
    "-5.0,\t107.1,\t64.8,\t16.9,\t19.2\n",
    "\"\"\".replace('\\t', '')))\n",
    "\n",
    "ctable[\"x/y position [mm]\"] = ctable[\"X\"].astype('str') + '/' + ctable[\"Y\"].astype('str')\n",
    "ctable.attrs[\"name\"] = \"Composition Table\"\n",
    "ctable.attrs[\"meta\"] = {\"X\": \"category\", \"Y\": \"continuous\"}  # for plotly\n",
    "ctable.attrs[\"labels\"] = {\"value\": \"composition [%]\"}\n",
    "ctable.set_index(\"x/y position [mm]\", inplace=True)\n",
    "ctable.columns.name = \"element\""
   ]
  },
  {
   "cell_type": "code",
   "execution_count": null,
   "metadata": {},
   "outputs": [],
   "source": [
    "def get_concentration_functions(composition_table):\n",
    "\n",
    "    meta = composition_table.attrs[\"meta\"]\n",
    "    elements = [col for col in composition_table.columns if col not in meta]\n",
    "    x = composition_table[\"X\"].values\n",
    "    y = composition_table[\"Y\"].values\n",
    "    cats = composition_table[\"X\"].unique()\n",
    "    concentration, conc, d, y_c, functions = {}, {}, {}, {}, {}\n",
    "\n",
    "    for el in elements:\n",
    "        concentration[el] = to_numeric(composition_table[el].values) / 100.0\n",
    "        conc[el], d[el], y_c[el] = {}, {}, {}\n",
    "\n",
    "        if meta[\"X\"] == \"category\":\n",
    "            for i in cats:\n",
    "                k = \"{:06.2f}\".format(float(i))\n",
    "                y_c[el][k] = to_numeric(y[where(x == i)])\n",
    "                conc[el][k] = to_numeric(concentration[el][where(x == i)])\n",
    "                d[el][k] = interp1d(y_c[el][k], conc[el][k])\n",
    "\n",
    "            functions[el] = lambda a, b, el=el: d[el][a](b)\n",
    "\n",
    "        else:\n",
    "            functions[el] = interp2d(float(x), float(y), concentration[el])\n",
    "\n",
    "    return functions\n",
    "\n",
    "conc_funcs = get_concentration_functions(ctable)\n",
    "del ctable[\"X\"]\n",
    "del ctable[\"Y\"]\n",
    "ctable"
   ]
  },
  {
   "cell_type": "code",
   "execution_count": null,
   "metadata": {},
   "outputs": [],
   "source": [
    "# paths to gzipped JSON files for attachments\n",
    "# global params attachment identical for every contribution / across project\n",
    "global_params = Attachment.from_data(\"files/global-params\", {\n",
    "    \"transfer_fields\": [\n",
    "        \"I_Norm0\", \"Magnet Field\", \"Energy\", \"Y\", \"Z\", \"filename_scannumber\"\n",
    "    ],\n",
    "    \"labelcols\": [\"Y\", \"Z\"]\n",
    "})\n",
    "\n",
    "# separate attachment of analysis params for each contribution and element\n",
    "def analysis_params(identifier, element):\n",
    "    name = f\"files/analysis-params__{identifier}__{element}\"\n",
    "    return Attachment.from_data(name, {\n",
    "        \"get_xas\": {\n",
    "            \"element\": element,\n",
    "            'pre_edge': (695, 701),\n",
    "            'post_edge': (730, 739),\n",
    "        },\n",
    "        \"get_xmcd\": {\n",
    "            'L3_range': (705, 710),\n",
    "            'L2_range': (718, 722),\n",
    "        },\n",
    "        \"Remove BG (polynomial)\": {\n",
    "            \"element\": element,\n",
    "            \"degree\": 1,\n",
    "            \"step\": 0,\n",
    "            \"xmcd_bg_subtract\": True,\n",
    "            \"scanindex_column\": \"XMCD Index\"\n",
    "        },\n",
    "        \"normalize_set\": {\n",
    "            \"element\": element,\n",
    "            \"scanindex_column\": \"XMCD Index\"\n",
    "        },\n",
    "        \"collapse_set\": {\n",
    "            \"columns_to_keep\": [\"Energy\",\"Y\",\"Z\"]\n",
    "        },\n",
    "        \"plot_spectrum\": {\n",
    "            \"element\": element,\n",
    "            'E_lower': 695,\n",
    "            'E_upper': 760\n",
    "        },\n",
    "        \"gather_final_op_param_values\": {\n",
    "            \"identifier\": identifier # added for testing to ensure different attachment contents\n",
    "        }\n",
    "    })"
   ]
  },
  {
   "cell_type": "code",
   "execution_count": null,
   "metadata": {},
   "outputs": [],
   "source": [
    "contributions = []\n",
    "\n",
    "for idx, info in enumerate(tqdm(zip_file.infolist())):\n",
    "    # file names for test data of format: <element>_<x>_<y>.csv\n",
    "    # TODO include sample or scan-id in filenames to deduce identifier?\n",
    "    # randomly assign fake sample id for testing here\n",
    "    fn = os.path.splitext(info.filename)[0]\n",
    "    element, x, y = fn.rsplit(\"_\", 4)\n",
    "    sample = f\"CMSI-2-10_{idx%5}\"\n",
    "    identifier = f\"{sample}__{x}_{y}\"\n",
    "\n",
    "    # tables and attachments for Co\n",
    "    # Cu/Ce added via update later - see below\n",
    "    csv = zip_file.read(info.filename)\n",
    "    df = read_csv(BytesIO(csv))\n",
    "    df = df[[\"Energy\", \"XAS\", \"XMCD\"]]\n",
    "    df.set_index(\"Energy\", inplace=True)\n",
    "    df.index.name = \"Energy [eV]\"\n",
    "    df.columns.name = \"spectral type\"\n",
    "    df.attrs[\"name\"] = f\"{element}-XAS/XMCD\"\n",
    "    df.attrs[\"title\"] = f\"XAS and XMCD Spectra for {element}\"\n",
    "    df.attrs[\"labels\"] = {\"value\": \"a.u.\"}    \n",
    "    params = analysis_params(identifier, element)\n",
    "\n",
    "    # build contribution\n",
    "    contrib = {\"project\": name, \"identifier\": identifier, \"is_public\": True, \"data\": {}}\n",
    "    # TODO auto-convert data.timestamp field in API to enable sorting/filtering\n",
    "    contrib[\"data\"][\"position\"] = {k: f\"{v} mm\" for k, v in zip([\"x\", \"y\"], [x, y])}\n",
    "    contrib[\"data\"][\"composition\"] = {}\n",
    "        \n",
    "    for el, f in conc_funcs.items():\n",
    "        try:\n",
    "            contrib[\"data\"][\"composition\"][el] = f\"{f(x, y) * 100.} %\"\n",
    "        except KeyError:\n",
    "            continue\n",
    "\n",
    "    if not contrib[\"data\"][\"composition\"]:\n",
    "        print(f\"Could not determine composition for {identifier}!\")\n",
    "        continue\n",
    "            \n",
    "    contrib[\"formula\"] = \"\".join([\n",
    "        \"{}{}\".format(el, int(round(Decimal(comp.split()[0]))))\n",
    "        for el, comp in contrib[\"data\"][\"composition\"].items()\n",
    "    ])\n",
    "\n",
    "    contrib[\"data\"][element] = {\n",
    "        y: {\"min\": df[y].min(), \"max\": df[y].max()}\n",
    "        for y in [\"XAS\", \"XMCD\"]\n",
    "    }\n",
    "    \n",
    "    # adding ctable and global_params to every contribution\n",
    "    # ctable could be the same for different subsets of contributions\n",
    "    contrib[\"tables\"] = [ctable, df]\n",
    "    contrib[\"attachments\"] = [global_params, params]\n",
    "    contributions.append(contrib)\n",
    "    \n",
    "#     if len(contributions) > 2:\n",
    "#         break\n",
    "    \n",
    "# len(contributions)\n",
    "#contributions"
   ]
  },
  {
   "cell_type": "code",
   "execution_count": null,
   "metadata": {},
   "outputs": [],
   "source": [
    "client.delete_contributions(name)\n",
    "client.init_columns(name, columns)\n",
    "client.submit_contributions(contributions[:5], ignore_dupes=True)"
   ]
  },
  {
   "cell_type": "code",
   "execution_count": null,
   "metadata": {},
   "outputs": [],
   "source": [
    "client.contributions.queryContributions(project=name, _fields=[\n",
    "    \"id\", \"identifier\", \"tables\", \"attachments\", \"notebook\"\n",
    "]).result()"
   ]
  },
  {
   "cell_type": "code",
   "execution_count": null,
   "metadata": {},
   "outputs": [],
   "source": [
    "ids = client.get_all_ids({\"project\": name})[name].get(\"ids\", set())\n",
    "cids = \",\".join(ids)\n",
    "url = f\"{client.url}/notebooks/build?cids={cids}\"\n",
    "!http \"$url\""
   ]
  },
  {
   "cell_type": "markdown",
   "metadata": {},
   "source": [
    "### Subsequent Analyses = Contribution Updates"
   ]
  },
  {
   "cell_type": "code",
   "execution_count": null,
   "metadata": {},
   "outputs": [],
   "source": [
    "# shift x-axis for spectra of other two elements to fake different spectra\n",
    "fake_tables = {}\n",
    "\n",
    "for contrib in contributions:\n",
    "    identifier = contrib[\"identifier\"]\n",
    "    fake_tables[identifier] = []\n",
    "    for idx, element in enumerate(elements[1:]):\n",
    "        df = contrib[\"tables\"][1].copy()\n",
    "        df.index = df.index.astype(\"float\") + (idx+1)*10\n",
    "        df.attrs[\"name\"] = f\"{element}-XAS/XMCD\"\n",
    "        df.attrs[\"title\"] = f\"XAS and XMCD Spectra for {element}\"\n",
    "        fake_tables[identifier].append(df)"
   ]
  },
  {
   "cell_type": "code",
   "execution_count": null,
   "metadata": {},
   "outputs": [],
   "source": [
    "# get mapping of identifier to contribution ID\n",
    "# list of identifiers could be a subset of contributions for which analysis is performed\n",
    "identifiers = [c[\"identifier\"] for c in contributions]\n",
    "\n",
    "resp = client.contributions.queryContributions(\n",
    "    project=name, identifier__in=identifiers[:5],\n",
    "    _fields=[\"id\", \"identifier\"]\n",
    ").result()\n",
    "\n",
    "mapping = {\n",
    "    c[\"identifier\"]: c[\"id\"]\n",
    "    for c in resp[\"data\"]\n",
    "}\n",
    "print(mapping)"
   ]
  },
  {
   "cell_type": "code",
   "execution_count": null,
   "metadata": {},
   "outputs": [],
   "source": [
    "# iteratively add spectra/tables for each element to contributions\n",
    "# example for a single identifier and element\n",
    "identifier = identifiers[0]\n",
    "element_index = 1\n",
    "component_index = element_index + 1 # index in contribution's component list\n",
    "element = elements[element_index]\n",
    "pk = mapping[identifier]\n",
    "df = fake_tables[identifier][element_index]\n",
    "params = analysis_params(identifier, element)\n",
    "\n",
    "contrib = {\n",
    "    \"id\": pk,\n",
    "    \"data\": {element: {\n",
    "        y: {\"min\": df[y].min(), \"max\": df[y].max()}\n",
    "        for y in [\"XAS\", \"XMCD\"]\n",
    "    }},    \n",
    "    \"tables\": [None] * component_index + [df],  # ensure correct index for update\n",
    "    \"attachments\": [None] * component_index + [params],\n",
    "}"
   ]
  },
  {
   "cell_type": "code",
   "execution_count": null,
   "metadata": {},
   "outputs": [],
   "source": [
    "client.submit_contributions([contrib])"
   ]
  },
  {
   "cell_type": "code",
   "execution_count": null,
   "metadata": {},
   "outputs": [],
   "source": [
    "client.get_contribution(pk)"
   ]
  },
  {
   "cell_type": "code",
   "execution_count": null,
   "metadata": {},
   "outputs": [],
   "source": [
    "client.get_table('608a5a1ddce158e132083323').display()"
   ]
  },
  {
   "cell_type": "code",
   "execution_count": null,
   "metadata": {},
   "outputs": [],
   "source": [
    "client.get_attachment(\"608a5a1edce158e132083329\").info()"
   ]
  }
 ],
 "metadata": {
  "kernelspec": {
   "display_name": "Python 3",
   "language": "python",
   "name": "python3"
  },
  "language_info": {
   "codemirror_mode": {
    "name": "ipython",
    "version": 3
   },
   "file_extension": ".py",
   "mimetype": "text/x-python",
   "name": "python",
   "nbconvert_exporter": "python",
   "pygments_lexer": "ipython3",
   "version": "3.9.1"
  }
 },
 "nbformat": 4,
 "nbformat_minor": 4
}
