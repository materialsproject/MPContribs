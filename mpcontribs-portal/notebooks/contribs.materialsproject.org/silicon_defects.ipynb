{
 "cells": [
  {
   "cell_type": "code",
   "execution_count": null,
   "id": "furnished-novelty",
   "metadata": {},
   "outputs": [],
   "source": [
    "import json\n",
    "from mpcontribs.client import Client, Attachment\n",
    "from pymatgen.core import Structure\n",
    "from pathlib import Path\n",
    "from flatten_dict import flatten, unflatten"
   ]
  },
  {
   "cell_type": "code",
   "execution_count": null,
   "id": "fatty-opinion",
   "metadata": {},
   "outputs": [],
   "source": [
    "client = Client(project=\"sandbox\")"
   ]
  },
  {
   "cell_type": "code",
   "execution_count": null,
   "id": "protecting-chicago",
   "metadata": {},
   "outputs": [],
   "source": [
    "input_file = Path(\"/Users/patrick/Downloads/sample_data.json\")"
   ]
  },
  {
   "cell_type": "code",
   "execution_count": null,
   "id": "vulnerable-launch",
   "metadata": {},
   "outputs": [],
   "source": [
    "with input_file.open() as f:\n",
    "    raw = json.load(f)"
   ]
  },
  {
   "cell_type": "code",
   "execution_count": null,
   "id": "selective-building",
   "metadata": {},
   "outputs": [],
   "source": [
    "# reorganize field names and set units\n",
    "excitation_reorg = {\n",
    "    \"mu\": {\"field\": \"mu\", \"unit\": \"\"},\n",
    "    \"spin\": {\"field\": \"spin\", \"unit\": \"\"},\n",
    "    \"ks_diff\": {\"field\": \"ks|diff\", \"unit\": \"\"},\n",
    "    \"hse0_ks_diff\": {\"field\": \"ks|diff\", \"unit\": \"\"}, # can map to same subkey\n",
    "    \"shuffle\": {\"field\": \"shuffle\", \"unit\": None},\n",
    "    \"in_band_transition\": {\"field\": \"transition\", \"unit\": None},\n",
    "    \"missing_vbm\": {\"field\": \"VBM|missing\", \"unit\": None},\n",
    "    \"initial_band\": {\"field\": \"band.initial\", \"unit\": \"\"},\n",
    "    \"final_band\": {\"field\": \"band.final\", \"unit\": \"\"},\n",
    "    \"inital_band_e\": {\"field\": \"band|e.initial\", \"unit\": \"\"}, # typo in data!\n",
    "    \"final_band_e\": {\"field\": \"band|e.final\", \"unit\": \"\"},\n",
    "    \"initial_ipr\": {\"field\": \"ipr.initial\", \"unit\": \"\"},\n",
    "    \"final_ipr\": {\"field\": \"ipr.final\", \"unit\": \"\"},\n",
    "    \"ipr_ratio\": {\"field\": \"ipr.ratio\", \"unit\": \"\"},\n",
    "}\n",
    "\n",
    "reorg = {\n",
    "    \"is_complex\": {\"field\": \"complex\", \"unit\": None}, # str\n",
    "    \"dopant\": {\"field\": \"dopant\", \"unit\": None},\n",
    "    \"charge\": {\"field\": \"charge\", \"unit\": \"\"}, # dimensionless\n",
    "    \"uncorrected_energy\": {\"field\": \"energy|uncorrected\", \"unit\": \"eV\"},\n",
    "    \"chemsys\": {\"field\": \"chemsys\", \"unit\": None},\n",
    "    \"space_group\": {\"field\": \"spacegroup\", \"unit\": None},\n",
    "    \"point_group\": {\"field\": \"pointgroup\", \"unit\": None},\n",
    "    \"relative_stability\": {\"field\": \"stability\", \"unit\": \"\"},\n",
    "    \"spin_state\": {\"field\": \"spin\", \"unit\": \"\"},\n",
    "    \"defect_type\": {\"field\": \"defect.type\", \"unit\": None},\n",
    "    \"defect_name\": {\"field\": \"defect.name\", \"unit\": None},\n",
    "    \"pbe_formability\": {\"field\": \"formability.PBE\", \"unit\": \"\"},\n",
    "    \"hse_formability\": {\"field\": \"formability.HSE\", \"unit\": \"\"},\n",
    "    \"kumagai_ks_correction\": {\"field\": \"correction.ks|kumagai\", \"unit\": \"\"},\n",
    "    \"wei_ks_correction\": {\"field\": \"correction.ks|wei\", \"unit\": \"\"},\n",
    "    \"dft_bright_up_excitation\": {\"field\": \"excitations.DFT.bright|up\"},\n",
    "    \"dft_bright_dw_excitation\": {\"field\": \"excitations.DFT.bright|dw\"},\n",
    "    \"dft_bright_excitation\": {\"field\": \"excitations.DFT.bright\"},\n",
    "    \"hse0_bright_up_excitation\": {\"field\": \"excitations.HSE0.bright|up\"},\n",
    "    \"hse0_bright_dw_excitation\": {\"field\": \"excitations.HSE0.bright|dw\"},\n",
    "    \"hse0_bright_excitation\": {\"field\": \"excitations.HSE0.bright\"},\n",
    "}\n",
    "\n",
    "for k, v in list(reorg.items()):\n",
    "    if not \"unit\" in v:\n",
    "        root_field = reorg.pop(k).get(\"field\")\n",
    "        \n",
    "        for kk, vv in excitation_reorg.items():\n",
    "            new_key = f\"{k}.{kk}\"\n",
    "            new_field = f\"{root_field}.{vv['field']}\"\n",
    "            reorg[new_key] = {\"field\": new_field, \"unit\": vv[\"unit\"]}\n",
    "            \n",
    "columns = {v[\"field\"]: v[\"unit\"] for k, v in reorg.items()}\n",
    "client.init_columns(columns)"
   ]
  },
  {
   "cell_type": "code",
   "execution_count": null,
   "id": "sticky-boating",
   "metadata": {},
   "outputs": [],
   "source": [
    "def convert(x, unit=None):\n",
    "    if isinstance(x, bool):\n",
    "        return \"Yes\" if x else \"No\"\n",
    "    \n",
    "    return x if not unit else f\"{x} {unit}\""
   ]
  },
  {
   "cell_type": "code",
   "execution_count": null,
   "id": "italian-painting",
   "metadata": {},
   "outputs": [],
   "source": [
    "contributions = []\n",
    "structure_keys = [\"initial_defect_structure\", \"final_defect_structure\"]\n",
    "attm_keys = [\n",
    "    'int_eigenvalues', 'raw_eigenvalues', 'ipr', 'defect_ipr', 'raw_tdm_entry',\n",
    "    'hse0_raw_eigenvalues', 'hse0_int_eigenvalues'\n",
    "]\n",
    "remove_keys = [\"_id\", \"defect_dir\"]\n",
    "id_key = \"entry_id\"\n",
    "formula_key = \"composition\"\n",
    "skip_keys = structure_keys + attm_keys + remove_keys + [id_key, formula_key]\n",
    "\n",
    "\n",
    "for r in raw:\n",
    "    contrib = {\n",
    "        \"identifier\": f\"entry-{r[id_key]}\", \"formula\": r[formula_key],\n",
    "        \"data\": {}, \"structures\": [], \"attachments\": []\n",
    "    }\n",
    "    \n",
    "    for k, v in flatten(r, reducer=\"dot\").items():\n",
    "        if k.split(\".\", 1)[0] not in skip_keys:\n",
    "            contrib[\"data\"][reorg[k][\"field\"]] = convert(v, unit=reorg[k][\"unit\"])\n",
    "    \n",
    "    for k in structure_keys:\n",
    "        s = Structure.from_dict(r[k])\n",
    "        s.name = k\n",
    "        contrib[\"structures\"].append(s)\n",
    "        \n",
    "    for k in attm_keys:\n",
    "        a = Attachment.from_data(k, json.loads(r[k]))\n",
    "        contrib[\"attachments\"].append(a)    \n",
    "        \n",
    "    contributions.append(contrib)\n",
    "\n",
    "len(contributions)"
   ]
  },
  {
   "cell_type": "code",
   "execution_count": null,
   "id": "biblical-victorian",
   "metadata": {},
   "outputs": [],
   "source": [
    "client.submit_contributions(contributions)"
   ]
  },
  {
   "cell_type": "code",
   "execution_count": null,
   "id": "beneficial-configuration",
   "metadata": {},
   "outputs": [],
   "source": [
    "client.query_contributions(fields=[\"id\", \"identifier\", \"data\"])\n",
    "# client.delete_contributions()"
   ]
  }
 ],
 "metadata": {
  "kernelspec": {
   "display_name": "Python 3",
   "language": "python",
   "name": "python3"
  },
  "language_info": {
   "codemirror_mode": {
    "name": "ipython",
    "version": 3
   },
   "file_extension": ".py",
   "mimetype": "text/x-python",
   "name": "python",
   "nbconvert_exporter": "python",
   "pygments_lexer": "ipython3",
   "version": "3.9.1"
  }
 },
 "nbformat": 4,
 "nbformat_minor": 5
}
