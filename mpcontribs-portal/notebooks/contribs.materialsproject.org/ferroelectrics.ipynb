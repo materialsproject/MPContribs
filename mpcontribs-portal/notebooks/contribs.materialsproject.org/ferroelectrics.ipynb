{
 "cells": [
  {
   "cell_type": "code",
   "execution_count": null,
   "id": "careful-fancy",
   "metadata": {
    "lines_to_next_cell": 2
   },
   "outputs": [],
   "source": [
    "import json\n",
    "import numpy as np\n",
    "from mpcontribs.client import Client, Attachment\n",
    "from pathlib import Path\n",
    "from flatten_dict import flatten, unflatten\n",
    "from pymatgen.core import Structure"
   ]
  },
  {
   "cell_type": "code",
   "execution_count": null,
   "id": "furnished-prefix",
   "metadata": {
    "lines_to_next_cell": 2
   },
   "outputs": [],
   "source": [
    "client = Client(project=\"ferroelectrics\")"
   ]
  },
  {
   "cell_type": "code",
   "execution_count": null,
   "id": "appointed-pencil",
   "metadata": {
    "lines_to_next_cell": 2
   },
   "outputs": [],
   "source": [
    "# client.update_project(update={\n",
    "#     \"references\": [\n",
    "#         {\"label\": \"SciData\", \"url\": \"https://doi.org/10.1038/s41597-020-0407-9\"},\n",
    "#         {\"label\": \"PyMatGen\", \"url\": \"https://github.com/materialsproject/pymatgen/tree/master/pymatgen/analysis/ferroelectricity\"},\n",
    "#         {\"label\": \"Atomate\", \"url\": \"https://github.com/hackingmaterials/atomate/blob/master/atomate/vasp/workflows/base/ferroelectric.py\"},\n",
    "#         {\"label\": \"Website\", \"url\": \"https://blondegeek.github.io/ferroelectric_search_site/\"},\n",
    "#         {\"label\": \"Figshare\", \"url\": \"https://dx.doi.org/10.6084/m9.figshare.6025634\"}\n",
    "#     ]\n",
    "# })"
   ]
  },
  {
   "cell_type": "code",
   "execution_count": null,
   "id": "innocent-above",
   "metadata": {
    "lines_to_next_cell": 2
   },
   "outputs": [],
   "source": [
    "datadir = Path(\"/Users/patrick/Downloads/6025634\")\n",
    "distortions_file = datadir / \"distortions.json\"\n",
    "workflow_data_file = datadir / \"workflow_data.json\"\n",
    "\n",
    "with distortions_file.open() as f:\n",
    "    distortions = json.load(f)\n",
    "    \n",
    "with workflow_data_file.open() as f:\n",
    "    workflow_data = json.load(f)"
   ]
  },
  {
   "cell_type": "code",
   "execution_count": null,
   "id": "aggressive-medication",
   "metadata": {
    "lines_to_next_cell": 2
   },
   "outputs": [],
   "source": [
    "columns = {\n",
    "    \"bilbao_nonpolar_spacegroup\": {\"name\": \"bilbao.spacegroup.nonpolar\", \"unit\": \"\"},\n",
    "    \"bilbao_polar_spacegroup\": {\"name\": \"bilbao.spacegroup.polar\", \"unit\": \"\"},\n",
    "    \"polarization_change_norm\": {\"name\": \"polarization.norm\", \"unit\": \"µC/cm²\"},\n",
    "    \"polarization_change\": {\"name\": \"polarization.vector\", \"unit\": \"µC/cm²\", \"fields\": [\"a\", \"b\", \"c\"]},\n",
    "    \"polarization_quanta\": {\"name\":\"polarization.quanta\", \"unit\":\"µC/cm²\", \"fields\": [\"a\", \"b\", \"c\"]},\n",
    "    \"energies\": {\"name\":\"energy|diff\", \"unit\":\"eV\"},\n",
    "    \"search_id\": {\"name\": \"workflow.id|search\", \"unit\": \"\"},\n",
    "    \"workflow_status\": {\"name\": \"workflow.status\",\"unit\":None},\n",
    "    \"category\": {\"name\": \"workflow.category\", \"unit\": None}, # dynamic\n",
    "    \"distortion.dmax\": {\"name\": \"distortion.dmax.before\", \"unit\": \"Å\"},\n",
    "    \"calculated_max_distance\": {\"name\": \"distortion.dmax.after\", \"unit\": \"Å\"},\n",
    "#     \"distortion.delta\": {\"name\": \"distortion.delta\", \"unit\": \"\"},\n",
    "#     \"distortion.dav\": {\"name\": \"distortion.dav\", \"unit\": \"\"},\n",
    "#     \"distortion.s\": {\"name\": \"distortion.s\", \"unit\": \"\"},\n",
    "    \"bandgaps\": {\"name\": \"bandgap\", \"unit\": \"eV\"},\n",
    "#     \"nonpolar_band_gap\": {\"name\": \"nonpolar.bandgap\", \"unit\": \"eV\"},\n",
    "    \"nonpolar_icsd\": {\"name\": \"nonpolar.icsd\", \"unit\": \"\"},\n",
    "    \"nonpolar_id\": {\"name\": \"nonpolar.mpid\", \"unit\": None},\n",
    "    \"nonpolar_spacegroup\": {\"name\": \"nonpolar.spacegroup\", \"unit\": \"\"},\n",
    "#     \"polar_band_gap\": {\"name\": \"polar.bandgap\", \"unit\": \"eV\"},\n",
    "    \"polar_icsd\": {\"name\": \"polar.icsd\", \"unit\": \"\"},\n",
    "    \"polar_id\": {\"name\": \"polar.mpid\", \"unit\": None},\n",
    "    \"polar_spacegroup\": {\"name\": \"polar.spacegroup\", \"unit\": \"\"},    \n",
    "    \"energies_per_atom_max_spline_jumps\": {\"name\": \"energies.jumps|max\", \"unit\": \"eV/atom\"},\n",
    "    \"energies_per_atom_smoothness\": {\"name\": \"energies.smoothness\", \"unit\": \"eV/atom\"},\n",
    "    \"polarization_max_spline_jumps\": {\"name\": \"polarizations.jumps\", \"fields\": {\"max\": \"µC/cm²\", \"index\": \"\"}},\n",
    "    \"polarization_smoothness\": {\"name\": \"polarizations.smoothness\", \"fields\": {\"max\": \"µC/cm²\", \"index\": \"\"}},\n",
    "}"
   ]
  },
  {
   "cell_type": "code",
   "execution_count": null,
   "id": "abroad-thickness",
   "metadata": {},
   "outputs": [],
   "source": [
    "def get_category(wf):\n",
    "    if (wf['polarization_len'] == 10 and\n",
    "        'polarization_max_spline_jumps' in wf and\n",
    "        np.all(np.array(wf['polarization_max_spline_jumps']) <= 1) and\n",
    "        wf['energies_per_atom_max_spline_jumps'] <= 1e-2):\n",
    "        return \"smooth\"\n",
    "    \n",
    "    elif (wf['polarization_len'] == 10 and\n",
    "          'polarization_change_norm' in wf and\n",
    "          'polarization_max_spline_jumps' in wf and\n",
    "          (wf['energies_per_atom_max_spline_jumps'] > 1e-2 or\n",
    "           np.any(np.array(wf['polarization_max_spline_jumps']) > 1))):\n",
    "        return \"unsmooth\"\n",
    "    \n",
    "    elif (wf['static_len'] == 10 and\n",
    "          'polarization_change_norm' not in wf and\n",
    "          wf['workflow_status'] in (\"COMPLETED\",\"DEFUSED\")):\n",
    "        return \"static\"\n",
    "    \n",
    "    elif ((wf['polarization_len'] < 10 or 'polarization_change_norm' not in wf) and\n",
    "          ((wf['workflow_status'] == \"DEFUSED\" and wf['static_len'] < 10) or\n",
    "           wf['workflow_status'] in (\"FIZZLED\",\"RUNNING\"))):\n",
    "        return \"incomplete\""
   ]
  },
  {
   "cell_type": "code",
   "execution_count": null,
   "id": "restricted-influence",
   "metadata": {
    "lines_to_next_cell": 2
   },
   "outputs": [],
   "source": [
    "contribs_distortions = {}\n",
    "\n",
    "for distortion in distortions:\n",
    "    k1, k2 = distortion[\"nonpolar_id\"], distortion[\"polar_id\"]\n",
    "    key = f\"{k1}_{k2}\"\n",
    "    contribs_distortions[key] = {\"data\": {}}#, \"structures\": [], \"attachments\": []}\n",
    "    \n",
    "    for k, v in flatten(distortion, reducer=\"dot\", max_flatten_depth=2).items():\n",
    "        if k.endswith(\"_pre\") or k.startswith(\"_id\"):\n",
    "            continue \n",
    "        elif not isinstance(v, (dict, list)):\n",
    "            conf = columns.get(k)\n",
    "            if conf:\n",
    "                name, unit = conf[\"name\"], conf[\"unit\"]\n",
    "                dec = conf.get('dec', '')\n",
    "                contribs_distortions[key][\"data\"][name] = f\"{float(v):{dec}} {unit}\" if unit else v\n",
    "#       elif isinstance(v, dict) and \"@class\" in v and v[\"@class\"] == \"Structure\":\n",
    "#           structure = Structure.from_dict(v)\n",
    "#           structure.name = k\n",
    "#           contribs_distortions[key][\"structures\"].append(structure)\n",
    "            \n",
    "#     attm = Attachment.from_data(\"distortion\", distortion)\n",
    "#     contribs_distortions[key][\"attachments\"].append(attm)"
   ]
  },
  {
   "cell_type": "code",
   "execution_count": null,
   "id": "sealed-adelaide",
   "metadata": {},
   "outputs": [],
   "source": [
    "# get map of identifier to contribution ID to prep update\n",
    "ids = {k: v[\"id\"] for k, v in client.get_all_ids(fmt=\"map\")[client.project].items()}\n",
    "len(ids)"
   ]
  },
  {
   "cell_type": "code",
   "execution_count": null,
   "id": "mediterranean-appointment",
   "metadata": {
    "lines_to_next_cell": 2
   },
   "outputs": [],
   "source": [
    "contributions = []\n",
    "structure_keys = (\"orig_nonpolar_structure\", \"orig_polar_structure\")\n",
    "\n",
    "for wf in workflow_data:\n",
    "    k1, k2 = wf[\"nonpolar_id\"], wf[\"polar_id\"]\n",
    "    key = f\"{k1}_{k2}\" # NOTE could also use search_id for this\n",
    "    distortion = contribs_distortions[key]\n",
    "    contrib = {\n",
    "        \"identifier\": wf[\"wfid\"], \"formula\": wf[\"pretty_formula\"],\n",
    "        \"data\": contribs_distortions[key][\"data\"],\n",
    "#         \"structures\": contribs_distortions[key][\"structures\"],\n",
    "#         \"attachments\": contribs_distortions[key][\"attachments\"]\n",
    "    }\n",
    "    contrib['data']['workflow.category'] = get_category(wf)\n",
    "    if ids and wf[\"wfid\"] in ids:\n",
    "        contrib[\"id\"] = ids[wf[\"wfid\"]]\n",
    "    \n",
    "#     for k in structure_keys:\n",
    "#         if k in wf:\n",
    "#             structure = Structure.from_dict(wf[k])\n",
    "#             structure.name = k\n",
    "#             contrib[\"structures\"].append(structure)\n",
    "    \n",
    "    for k, v in flatten(wf, reducer=\"dot\").items():\n",
    "        conf = columns.get(k)\n",
    "        if conf and k.startswith('polarization') and isinstance(v, list):\n",
    "            name, fields = conf[\"name\"], conf[\"fields\"]\n",
    "            contrib[\"data\"].setdefault(name, {})\n",
    "            if not \"unit\" in conf:\n",
    "                vmax, unit = max(v), fields[\"max\"]\n",
    "                contrib[\"data\"][name]['max'] = f\"{round(vmax, 3)} {unit}\" if unit else v\n",
    "                contrib[\"data\"][name]['index'] = v.index(vmax)\n",
    "            else:\n",
    "                unit = conf[\"unit\"]\n",
    "                contrib[\"data\"][name] = {\n",
    "                    i: f\"{j} {unit}\"\n",
    "                    for i, j in zip(conf[\"fields\"], v[0])\n",
    "                }\n",
    "        elif conf and k == 'energies_per_atom':\n",
    "            name, unit = conf[\"name\"], conf[\"unit\"]\n",
    "            ediff = v[0] - v[-1]\n",
    "            contrib[\"data\"][name] = f\"{ediff:.3g} {unit}\"              \n",
    "        elif conf and k == 'bandgaps':\n",
    "            name, unit = conf[\"name\"], conf[\"unit\"]\n",
    "            contrib[\"data\"].setdefault(name, {})\n",
    "            contrib[\"data\"][name][\"nonpolar\"] = f\"{v[0]:.3g} {unit}\"\n",
    "            contrib[\"data\"][name][\"polar\"] = f\"{v[-1]:.3g} {unit}\"\n",
    "        elif k.startswith((\"_id\", \"cid\")) or isinstance(v, list) or k.startswith(structure_keys):\n",
    "            continue\n",
    "        elif conf:\n",
    "            name, unit = conf[\"name\"], conf[\"unit\"]\n",
    "            if name == \"polarization.norm\":\n",
    "                contrib[\"data\"][name] = f\"{v:.1g} {unit}\" if unit else v\n",
    "            else:\n",
    "                contrib[\"data\"][name] = f\"{v:.3g} {unit}\" if unit else v\n",
    "        \n",
    "#     attm = Attachment.from_data(\"workflow\", wf)\n",
    "#     contrib[\"attachments\"].append(attm)\n",
    "    contrib[\"data\"] = unflatten(contrib[\"data\"], splitter=\"dot\")\n",
    "    contributions.append(contrib)\n",
    "    \n",
    "len(contributions)"
   ]
  },
  {
   "cell_type": "code",
   "execution_count": null,
   "id": "unauthorized-mirror",
   "metadata": {
    "lines_to_next_cell": 2
   },
   "outputs": [],
   "source": [
    "columns_map = {}\n",
    "\n",
    "for k, v in columns.items():\n",
    "    name = v[\"name\"]\n",
    "    if \"fields\" in v:\n",
    "        if isinstance(v[\"fields\"], list):\n",
    "            for f in v[\"fields\"]:\n",
    "                columns_map[f\"{name}.{f}\"] = v[\"unit\"]\n",
    "        elif isinstance(v[\"fields\"], dict):\n",
    "            for f, unit in v[\"fields\"].items():\n",
    "                columns_map[f\"{name}.{f}\"] = unit\n",
    "    elif \"unit\" in v:\n",
    "        columns_map[v[\"name\"]] = v[\"unit\"]\n",
    "\n",
    "columns_map"
   ]
  },
  {
   "cell_type": "code",
   "execution_count": null,
   "id": "elect-darkness",
   "metadata": {},
   "outputs": [],
   "source": [
    "#client.delete_contributions()\n",
    "client.init_columns({})\n",
    "client.init_columns(columns_map)"
   ]
  },
  {
   "cell_type": "code",
   "execution_count": null,
   "id": "divine-mixer",
   "metadata": {
    "lines_to_next_cell": 2
   },
   "outputs": [],
   "source": [
    "client.submit_contributions(contributions, ignore_dupes=True)\n",
    "client.init_columns(columns_map)"
   ]
  },
  {
   "cell_type": "code",
   "execution_count": null,
   "id": "incorporated-earthquake",
   "metadata": {
    "lines_to_next_cell": 2
   },
   "outputs": [],
   "source": [
    "# client.make_public()"
   ]
  }
 ],
 "metadata": {
  "jupytext": {
   "cell_metadata_filter": "-all",
   "encoding": "# coding: utf-8",
   "executable": "/usr/bin/env python",
   "main_language": "python",
   "notebook_metadata_filter": "-all"
  },
  "kernelspec": {
   "display_name": "Python 3",
   "language": "python",
   "name": "python3"
  },
  "language_info": {
   "codemirror_mode": {
    "name": "ipython",
    "version": 3
   },
   "file_extension": ".py",
   "mimetype": "text/x-python",
   "name": "python",
   "nbconvert_exporter": "python",
   "pygments_lexer": "ipython3",
   "version": "3.9.1"
  }
 },
 "nbformat": 4,
 "nbformat_minor": 5
}
