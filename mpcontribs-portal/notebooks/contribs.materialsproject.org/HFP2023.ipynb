{
 "cells": [
  {
   "cell_type": "code",
   "execution_count": null,
   "id": "threatened-hawaiian",
   "metadata": {},
   "outputs": [],
   "source": [
    "%env MPRESTER_MUTE_PROGRESS_BARS 1\n",
    "# pip install mpcontribs-client mp_api pandas flatten_dict\n",
    "import os\n",
    "import gzip\n",
    "import json\n",
    "\n",
    "from pathlib import Path\n",
    "from mpcontribs.client import Client\n",
    "from mp_api.client import MPRester\n",
    "from pymatgen.core import Structure\n",
    "from pandas import read_csv\n",
    "from flatten_dict import flatten, unflatten"
   ]
  },
  {
   "cell_type": "code",
   "execution_count": null,
   "id": "smoking-modern",
   "metadata": {},
   "outputs": [],
   "source": [
    "# mpr = MPRester(api_key=os.environ[\"MPCONTRIBS_API_KEY\"])"
   ]
  },
  {
   "cell_type": "code",
   "execution_count": null,
   "id": "7bf789df-1db1-4ff9-b7ca-0811a2ea840c",
   "metadata": {},
   "outputs": [],
   "source": [
    "with open(\"/Users/patrick/Downloads/usf_formates_tasks.json\", \"r\") as f:\n",
    "    tasks = json.load(f)"
   ]
  },
  {
   "cell_type": "code",
   "execution_count": null,
   "id": "824df967-358b-4399-b24f-18b31a42c864",
   "metadata": {},
   "outputs": [],
   "source": [
    "lookup = {doc[\"formula_pretty\"] + \"_\" + str(doc[\"symmetry\"][\"number\"]): doc[\"task_id\"] for doc in tasks}"
   ]
  },
  {
   "cell_type": "code",
   "execution_count": null,
   "id": "numerical-failing",
   "metadata": {},
   "outputs": [],
   "source": [
    "drivedir = Path(\"/Users/patrick/GoogleDriveLBNL/My Drive/\")\n",
    "datadir = drivedir / \"MaterialsProject/gitrepos/mpcontribs-data/HFP2023\""
   ]
  },
  {
   "cell_type": "code",
   "execution_count": null,
   "id": "plastic-witch",
   "metadata": {},
   "outputs": [],
   "source": [
    "# function to search MP via its summary API endpoint\n",
    "# def search(formula=None, spacegroup_number=None, chemsys=None):\n",
    "#     return mpr.summary.search(\n",
    "#         formula=formula, chemsys=chemsys, spacegroup_number=spacegroup_number,\n",
    "#         fields=[\"material_id\"], sort_fields=\"energy_above_hull\"\n",
    "#     )"
   ]
  },
  {
   "cell_type": "code",
   "execution_count": null,
   "id": "micro-optics",
   "metadata": {},
   "outputs": [],
   "source": [
    "def make_gzip(p_in):\n",
    "    p_out = str(p_in) + \".gz\"\n",
    "    if not Path(p_out).exists():\n",
    "        with p_in.open('rb') as f_in, gzip.open(p_out, 'wb') as f_out:\n",
    "            f_out.writelines(f_in)"
   ]
  },
  {
   "cell_type": "code",
   "execution_count": null,
   "id": "active-statement",
   "metadata": {},
   "outputs": [],
   "source": [
    "columns = {\n",
    "    \"polarization\": {\n",
    "        \"v1\": \"C/m²\",\n",
    "        \"v2\": \"C/m²\",\n",
    "        \"v3\": \"C/m²\",\n",
    "        \"mag\": \"C/m²\"\n",
    "    },\n",
    "    \"mechanic\": {\n",
    "        \"moduli.bulk\": \"N/m²\",\n",
    "        \"moduli.young\": \"N/m²\",\n",
    "        \"moduli.shear\": \"N/m²\",\n",
    "        \"ratios.pugh\": \"\", # dimensionless number\n",
    "        \"ratios.poisson\": \"\",\n",
    "        \"compressibility\": \"m²/N\",\n",
    "        \"unknown\": \"\"\n",
    "    }\n",
    "}\n",
    "\n",
    "def make_data(key, vals):\n",
    "    cols = columns[key]\n",
    "    dct = {}\n",
    "    \n",
    "    for k, v in dict(zip(cols.keys(), vals)).items():\n",
    "        unit = cols[k]\n",
    "        dct[k] = f\"{v} {unit}\" if unit else v # 5.5 eV, 100 N/m2\n",
    "    \n",
    "    return unflatten(dct, splitter=\"dot\")\n",
    "\n",
    "\n",
    "contributions = []\n",
    "\n",
    "for subdir in datadir.glob('**/*'): # looping over subdirectories (DMP-Co)\n",
    "    if subdir.is_file():\n",
    "        continue\n",
    "    \n",
    "    identifier = subdir.name # default to subdir as identifier\n",
    "    cifs = list(subdir.glob(\"*.cif\"))\n",
    "\n",
    "    if cifs:\n",
    "        # assuming there's only one CIF per directory\n",
    "        structure = Structure.from_file(cifs[0])\n",
    "\n",
    "        # # try to match CIF against MP\n",
    "        # matching_mpids = mpr.find_structure(structure)\n",
    "\n",
    "        # if matching_mpids:\n",
    "        #     identifier = matching_mpids[0]\n",
    "        # else:\n",
    "        #     # structure not in MP (yet)\n",
    "        #     # get composition, formula, space group, and chemical system\n",
    "        #     composition = structure.composition\n",
    "        #     formula, _ = composition.get_reduced_formula_and_factor()\n",
    "        #     _, spacegroup_number = structure.get_space_group_info()\n",
    "        #     chemsys = composition.chemical_system\n",
    "\n",
    "        #     # 1) try formula and space group \n",
    "        #     docs = search(formula=formula, spacegroup_number=spacegroup_number)\n",
    "        #     if not docs:\n",
    "        #         # 2) try formula\n",
    "        #         docs = search(formula=formula)\n",
    "        #         if not docs:\n",
    "        #             # 3) try chemical system\n",
    "        #             docs = search(chemsys=chemsys)\n",
    "\n",
    "        #     if docs:\n",
    "        #         # always use material with lowest energy above hull\n",
    "        #         identifier = docs[0].material_id\n",
    "\n",
    "        composition = structure.composition\n",
    "        formula, _ = composition.get_reduced_formula_and_factor()\n",
    "        _, spacegroup_number = structure.get_space_group_info()\n",
    "        identifier = lookup[f\"{formula}_{spacegroup_number}\"]\n",
    "        print(identifier) # \"link to MP\"\n",
    "    \n",
    "    # make sure everything's gzipped\n",
    "    for p in subdir.glob(\"*.*\"):\n",
    "        if p.suffix in {\".txt\", \".vasp\", \".cif\"}:\n",
    "            make_gzip(p)\n",
    "    \n",
    "    # init contribution; add all files as attachments; add structure\n",
    "    contrib = {\n",
    "        \"identifier\": identifier, \"formula\": formula, \"data\": {},\n",
    "        \"attachments\": list(subdir.glob(\"*.gz\"))\n",
    "    }\n",
    "    if identifier.startswith(\"mp-\"):\n",
    "        contrib[\"structures\"] = [structure]\n",
    "\n",
    "    # load properties from polarization and stiffness tensor\n",
    "    for fn in [\"Polarization.txt\", \"Stiffness_tensor.txt\"]:\n",
    "        with (subdir / fn).open() as f:\n",
    "            values = f.readlines()[-1].split()\n",
    "            if len(values) == 4:\n",
    "                contrib[\"data\"][\"polarization\"] = make_data(\"polarization\", values)\n",
    "            elif len(values) == 7:\n",
    "                contrib[\"data\"][\"mechanic\"] = make_data(\"mechanic\", values)\n",
    "    \n",
    "#     # option to add tensors to `data`    \n",
    "#     for fn in subdir.glob(\"*.txt\"):\n",
    "#         stem = fn.stem.lower()\n",
    "#         if stem.endswith(\"_tensor\"):\n",
    "#             field = \".\".join(stem.split(\"_\")[:-1])\n",
    "#             df = read_csv(fn, sep=\"\\t\", header=0, names=range(1, 7))\n",
    "#             df.index = range(1,4)\n",
    "#             contrib[\"data\"][field] = df.T.to_dict()\n",
    "        \n",
    "    contributions.append(contrib)"
   ]
  },
  {
   "cell_type": "code",
   "execution_count": null,
   "id": "43104a49-3e15-4f27-a794-db2acfab11e0",
   "metadata": {},
   "outputs": [],
   "source": [
    "client = Client(project=\"HFP2023\")"
   ]
  },
  {
   "cell_type": "code",
   "execution_count": null,
   "id": "remarkable-abraham",
   "metadata": {},
   "outputs": [],
   "source": [
    "flat_columns = flatten(columns, reducer=\"dot\")\n",
    "client.delete_contributions()\n",
    "client.init_columns(columns)\n",
    "client.submit_contributions(contributions)\n",
    "# this shouldn't be necessary but need to re-init columns likely due to bug in API server\n",
    "client.init_columns(columns) "
   ]
  }
 ],
 "metadata": {
  "kernelspec": {
   "display_name": "Python 3",
   "language": "python",
   "name": "python3"
  },
  "language_info": {
   "codemirror_mode": {
    "name": "ipython",
    "version": 3
   },
   "file_extension": ".py",
   "mimetype": "text/x-python",
   "name": "python",
   "nbconvert_exporter": "python",
   "pygments_lexer": "ipython3",
   "version": "3.9.1"
  }
 },
 "nbformat": 4,
 "nbformat_minor": 5
}
