{
 "cells": [
  {
   "cell_type": "markdown",
   "metadata": {},
   "source": [
    "# MPContribs\n",
    "\n",
    "## Walkthrough\n",
    "\n",
    "- start with a [materials detail page](https://next-gen.materialsproject.org/materials/mp-2715) on MP with user contributions\n",
    "- navigate to https://mpcontribs.org and explore\n",
    "- apply for project on https://workshop-contribs.materialsproject.org/contribute (wait for approval by admins)"
   ]
  },
  {
   "cell_type": "code",
   "execution_count": null,
   "metadata": {},
   "outputs": [],
   "source": [
    "name = \"your-project-name\"\n",
    "apikey = \"your-api-key\"  # profile.materialsproject.org"
   ]
  },
  {
   "cell_type": "markdown",
   "metadata": {},
   "source": [
    "## Contribute data on Refractive Index\n",
    "\n",
    "We'll prepare [refractive index data](https://refractiveindex.info) for contribution to https://workshop-contribs.materialsproject.org using the [mpcontribs-client](https://pypi.org/project/mpcontribs-client/)."
   ]
  },
  {
   "cell_type": "code",
   "execution_count": null,
   "metadata": {},
   "outputs": [],
   "source": [
    "from mpcontribs.client import Client\n",
    "from mp_api.matproj import MPRester\n",
    "from refractivesqlite import dboperations as DB\n",
    "from pandas import DataFrame"
   ]
  },
  {
   "cell_type": "markdown",
   "metadata": {},
   "source": [
    "### Explore and extract refractive index data\n",
    "\n",
    "https://github.com/HugoGuillen/refractiveindex.info-sqlite/blob/master/Tutorial.ipynb"
   ]
  },
  {
   "cell_type": "code",
   "execution_count": null,
   "metadata": {},
   "outputs": [],
   "source": [
    "db = DB.Database(\"refractive.db\")\n",
    "#db.create_database_from_url()"
   ]
  },
  {
   "cell_type": "code",
   "execution_count": null,
   "metadata": {},
   "outputs": [],
   "source": [
    "db.search_pages(\"Au\", exact=True)"
   ]
  },
  {
   "cell_type": "code",
   "execution_count": null,
   "metadata": {},
   "outputs": [],
   "source": [
    "materials = db.search_custom(\n",
    "    'select * from pages where book=\"Au\" and hasrefractive=1 and hasextinction=1'\n",
    ")"
   ]
  },
  {
   "cell_type": "markdown",
   "metadata": {},
   "source": [
    "### Prepare a single contribution for testing"
   ]
  },
  {
   "cell_type": "markdown",
   "metadata": {},
   "source": [
    "Note that a contribution to a specific MP material contains 4 optional components:\n",
    "\n",
    "- simple (potentially nested) \"key-value\" `data`\n",
    "- `tables` as Pandas DataFrame objects (think spreadsheets and csv files)\n",
    "- `structures` as Pymatgen Structure objects (think CIF, POSCAR, ...)\n",
    "- `attachments` (think gzipped text files, PNG/JPG..)\n",
    "\n",
    "Example for a single contribution dictionary:\n",
    "\n",
    "```\n",
    "{\n",
    "    \"project\": \"sandbox\",\n",
    "    \"identifier\": \"mp-4\",\n",
    "    \"data\": {\n",
    "        \"a\": \"3 eV\",\n",
    "        \"b\": {\"c\": \"hello\", \"d\": 3},\n",
    "        \"d.e.f\": \"nest via dot-notation\"\n",
    "    },\n",
    "    \"structures\": [<pymatgen Structure>, ...],\n",
    "    \"tables\": [<pandas DataFrame>, ...],\n",
    "    \"attachments\": [<pathlib.Path>, <mpcontribs.client.Attachment>, ...]\n",
    "}\n",
    "```"
   ]
  },
  {
   "cell_type": "code",
   "execution_count": null,
   "metadata": {},
   "outputs": [],
   "source": [
    "page_id = materials[0][0]\n",
    "mat = db.get_material(page_id)"
   ]
  },
  {
   "cell_type": "code",
   "execution_count": null,
   "metadata": {},
   "outputs": [],
   "source": [
    "mpr = MPRester(apikey)"
   ]
  },
  {
   "cell_type": "code",
   "execution_count": null,
   "metadata": {},
   "outputs": [],
   "source": [
    "def get_contrib(mat):\n",
    "    info = mat.get_page_info()\n",
    "    formula = info[\"book\"]\n",
    "    mpid = mpr.get_materials_ids(formula)[0]\n",
    "\n",
    "    rmin, rmax = info['rangeMin']*1000, info['rangeMax']*1000\n",
    "    mid = (rmin + rmax) / 2\n",
    "    n = mat.get_refractiveindex(mid)\n",
    "    k = mat.get_extinctioncoefficient(mid)\n",
    "    \n",
    "    x = \"wavelength λ [μm]\"\n",
    "    refrac = DataFrame(mat.get_complete_refractive(), columns=[x, \"n\"])\n",
    "    refrac.set_index(x, inplace=True)\n",
    "    extinct = DataFrame(mat.get_complete_extinction(), columns=[x, \"k\"])\n",
    "    extinct.set_index(x, inplace=True)\n",
    "\n",
    "    df = refrac.join(extinct[\"k\"])\n",
    "    df.attrs[\"title\"] = f\"Complex refractive index (n+ik) for {formula}\"\n",
    "    df.attrs[\"labels\"] = {\n",
    "        \"value\": \"n, k\",  # y-axis label\n",
    "        \"variable\": \"Re/Im\" # legend name (= df.columns.name)\n",
    "    }\n",
    "    df.plot(**df.attrs)#.show()\n",
    "    df.attrs[\"name\"] = \"n,k(λ)\"\n",
    "    return {\n",
    "        \"project\": name,\n",
    "        \"identifier\": str(mpid),\n",
    "        \"data\": {\n",
    "            \"n\": float(n),\n",
    "            \"k\": float(k),\n",
    "            \"range.min\": f\"{rmin} nm\",\n",
    "            \"range.mid\": f\"{mid} nm\",\n",
    "            \"range.max\": f\"{rmax} nm\",\n",
    "            \"points\": info[\"points\"],\n",
    "            \"page\": info[\"page\"]\n",
    "        },\n",
    "        \"tables\": [df]\n",
    "    }"
   ]
  },
  {
   "cell_type": "code",
   "execution_count": null,
   "metadata": {},
   "outputs": [],
   "source": [
    "contrib = get_contrib(mat)"
   ]
  },
  {
   "cell_type": "markdown",
   "metadata": {},
   "source": [
    "### Retrieve and update project info\n",
    "\n",
    "Let's add the URL for the DB and also set `unique_identifiers` to `False`. This flag indicates that this project can contain multiple contributions (rows in the landing page's overview table) for the same MP material (`mp-id`). We also want to include descriptions of the `data` columns in the project's `other` field."
   ]
  },
  {
   "cell_type": "code",
   "execution_count": null,
   "metadata": {},
   "outputs": [],
   "source": [
    "client = Client(\n",
    "    host=\"workshop-contribs-api.materialsproject.org\",\n",
    "    apikey=apikey\n",
    ")"
   ]
  },
  {
   "cell_type": "code",
   "execution_count": null,
   "metadata": {},
   "outputs": [],
   "source": [
    "db.check_url_version()"
   ]
  },
  {
   "cell_type": "code",
   "execution_count": null,
   "metadata": {},
   "outputs": [],
   "source": [
    "update = {\n",
    "    'unique_identifiers': False,\n",
    "    'references': [\n",
    "        {'label': 'website', 'url': 'https://refractiveindex.info'},\n",
    "        {'label': 'source', 'url': \"https://refractiveindex.info/download/database/rii-database-2019-02-11.zip\"}\n",
    "    ],\n",
    "    \"other\": { # describe the root fields here to automatically include tooltips on MP\n",
    "        \"n\": \"real part of complex refractive index\",\n",
    "        \"k\": \"imaginary part of complex refractive index\",\n",
    "        \"range\": \"wavelength range for n,k in nm\",\n",
    "        \"points\": \"number of λ points in range\",\n",
    "        \"page\": \"reference to data source/publication\"\n",
    "    }\n",
    "}\n",
    "# could also update authors, title, long_title, description"
   ]
  },
  {
   "cell_type": "code",
   "execution_count": null,
   "metadata": {
    "scrolled": true,
    "tags": [
     "no-execute"
    ]
   },
   "outputs": [],
   "source": [
    "client.projects.update_entry(pk=name, project=update).result()"
   ]
  },
  {
   "cell_type": "markdown",
   "metadata": {},
   "source": [
    "Try searching for `refractive` in MPContribs browse page now"
   ]
  },
  {
   "cell_type": "markdown",
   "metadata": {},
   "source": [
    "### Initialize `data` columns"
   ]
  },
  {
   "cell_type": "code",
   "execution_count": null,
   "metadata": {},
   "outputs": [],
   "source": [
    "client.init_columns(name, {\n",
    "    \"n\": \"\", # dimensionless\n",
    "    \"k\": \"\",\n",
    "    \"range.min\": \"nm\",\n",
    "    \"range.mid\": \"nm\",\n",
    "    \"range.max\": \"nm\",\n",
    "    \"points\": \"\",\n",
    "    \"page\": None # text    \n",
    "})"
   ]
  },
  {
   "cell_type": "markdown",
   "metadata": {},
   "source": [
    "### Submit test contribution\n",
    "\n",
    "Simply provide your list of contributions as argument to the client's `submit_contributions` function to prepare and upload them to MPContribs. Duplicate checking will happen automatically if `unique_identifers` is set to `True` for the project (the default). If successful, the client will return the number of contributions submitted."
   ]
  },
  {
   "cell_type": "code",
   "execution_count": null,
   "metadata": {
    "tags": [
     "no-execute"
    ]
   },
   "outputs": [],
   "source": [
    "client.submit_contributions([contrib])"
   ]
  },
  {
   "cell_type": "markdown",
   "metadata": {},
   "source": [
    "Your first contribution should now show up in your project on https://workshop-contribs.materialsproject.org :)"
   ]
  },
  {
   "cell_type": "markdown",
   "metadata": {},
   "source": [
    "### Prepare and upload all contributions"
   ]
  },
  {
   "cell_type": "code",
   "execution_count": null,
   "metadata": {},
   "outputs": [],
   "source": [
    "contributions = []\n",
    "\n",
    "for material in materials:\n",
    "    page_id = material[0]\n",
    "    mat = db.get_material(page_id)\n",
    "    contrib = get_contrib(mat)\n",
    "    contributions.append(contrib)"
   ]
  },
  {
   "cell_type": "code",
   "execution_count": null,
   "metadata": {},
   "outputs": [],
   "source": [
    "contributions[10]"
   ]
  },
  {
   "cell_type": "code",
   "execution_count": null,
   "metadata": {},
   "outputs": [],
   "source": [
    "client.delete_contributions(name)\n",
    "client.submit_contributions(contributions, ignore_dupes=True)"
   ]
  },
  {
   "cell_type": "markdown",
   "metadata": {},
   "source": [
    "### Publish contributions"
   ]
  },
  {
   "cell_type": "code",
   "execution_count": null,
   "metadata": {},
   "outputs": [],
   "source": [
    "client.make_public(name)"
   ]
  },
  {
   "cell_type": "markdown",
   "metadata": {},
   "source": [
    "### Retrieve and query contributions"
   ]
  },
  {
   "cell_type": "code",
   "execution_count": null,
   "metadata": {},
   "outputs": [],
   "source": [
    "all_ids = client.get_all_ids(\n",
    "    {\"project\": name},\n",
    "    include=[\"tables\"],\n",
    "    data_id_fields={name: \"page\"},\n",
    "    fmt=\"map\"\n",
    ")"
   ]
  },
  {
   "cell_type": "markdown",
   "metadata": {},
   "source": [
    "Grab the table ID and retrieve it as Pandas DataFrame. Show a graph."
   ]
  },
  {
   "cell_type": "code",
   "execution_count": null,
   "metadata": {
    "tags": [
     "no-execute"
    ]
   },
   "outputs": [],
   "source": [
    "tid = all_ids[name][\"mp-81\"][\"Johnson\"][\"tables\"][\"n,k(λ)\"][\"id\"]\n",
    "client.get_table(tid).display()"
   ]
  },
  {
   "cell_type": "markdown",
   "metadata": {},
   "source": [
    "Finally, let's build up a more complicated query to reduce the list of contributions to the ones we might be interested in."
   ]
  },
  {
   "cell_type": "code",
   "execution_count": null,
   "metadata": {
    "tags": [
     "no-execute"
    ]
   },
   "outputs": [],
   "source": [
    "query = {\n",
    "    \"project\": name,\n",
    "    \"formula__contains\": \"Au\",\n",
    "    #\"identifier__in\": []\n",
    "\n",
    "    \"data__n__value__lt\": 200,\n",
    "    \"data__k__value__gte\": 7,\n",
    "\n",
    "    \"_sort\": \"-data__range__mid__value\",\n",
    "    \"_fields\": [\n",
    "        \"id\", \"identifier\", \"formula\",\n",
    "        \"data.range.mid.value\",\n",
    "        \"data.n.value\",\n",
    "        \"data.k.value\"\n",
    "    ]\n",
    "}\n",
    "\n",
    "print(client.get_totals(query))\n",
    "client.query_contributions(query=query)"
   ]
  },
  {
   "cell_type": "markdown",
   "metadata": {},
   "source": [
    "## Exercises\n",
    "\n",
    "\n",
    "- pick a different book/element and upload more refraction index data to your project\n",
    "- make yourself familiar with datasets available on MPContribs\n",
    "- use the `Search` tab to find interesting contributions and their MP detail page(s)\n",
    "- query the `carrier_transport` or another dataset of your choice\n",
    "- retrieve another table, display and plot it interactively\n",
    "- delete the refraction index data and start adding your own :)"
   ]
  }
 ],
 "metadata": {
  "kernelspec": {
   "display_name": "Python 3",
   "language": "python",
   "name": "python3"
  },
  "language_info": {
   "codemirror_mode": {
    "name": "ipython",
    "version": 3
   },
   "file_extension": ".py",
   "mimetype": "text/x-python",
   "name": "python",
   "nbconvert_exporter": "python",
   "pygments_lexer": "ipython3",
   "version": "3.9.1"
  }
 },
 "nbformat": 4,
 "nbformat_minor": 4
}
