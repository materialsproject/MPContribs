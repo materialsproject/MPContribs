{
 "cells": [
  {
   "cell_type": "code",
   "execution_count": null,
   "id": "2b8df3d4-47b7-47cb-b5d9-816c34199e5b",
   "metadata": {},
   "outputs": [],
   "source": [
    "import pandas as pd\n",
    "from mpcontribs.client import Client"
   ]
  },
  {
   "cell_type": "code",
   "execution_count": null,
   "id": "61bee6f4-a7e4-422f-9fc2-d6c7148d0538",
   "metadata": {},
   "outputs": [],
   "source": [
    "client = Client(project=\"ediffcrystalprediction\")"
   ]
  },
  {
   "cell_type": "code",
   "execution_count": null,
   "id": "bd3627a4-5385-4137-983c-31313e8021a7",
   "metadata": {},
   "outputs": [],
   "source": [
    "df = pd.read_csv(\"/Users/patrick/Downloads/mp-126_individual_bragg_peaks.csv\")"
   ]
  },
  {
   "cell_type": "code",
   "execution_count": null,
   "id": "60a6f00d-27b4-4c96-a41c-0c9ba4505782",
   "metadata": {},
   "outputs": [],
   "source": [
    "def convert_zone_axes(x):\n",
    "    return [float(s) for s in x[1:-1].split(\", \")]"
   ]
  },
  {
   "cell_type": "code",
   "execution_count": null,
   "id": "15b98b52-6ef6-4a16-b5c1-e9d4351ad762",
   "metadata": {},
   "outputs": [],
   "source": [
    "df_uniq = df[[\"thickness\", \"zone_axes\"]].drop_duplicates()"
   ]
  },
  {
   "cell_type": "code",
   "execution_count": null,
   "id": "0e5742d4-7c3e-4d9f-aca3-5e79254cb733",
   "metadata": {},
   "outputs": [],
   "source": [
    "df_red = pd.DataFrame([[t]+za for t, za in zip(\n",
    "    df_uniq[\"thickness\"].to_list(),\n",
    "    df_uniq[\"zone_axes\"].map(convert_zone_axes).to_list()\n",
    ")], columns=[\"thickness [nm]\", \"a [Å]\", \"b [Å]\", \"c [Å]\"])"
   ]
  },
  {
   "cell_type": "code",
   "execution_count": null,
   "id": "a199c86a-f0cf-48af-9fbb-13054812de80",
   "metadata": {},
   "outputs": [],
   "source": [
    "df_red.attrs[\"name\"] = \"options\""
   ]
  },
  {
   "cell_type": "code",
   "execution_count": null,
   "id": "b99a1a07-4ddb-4bf8-8c4f-479173f04bc7",
   "metadata": {},
   "outputs": [],
   "source": [
    "# TODO think of any columns to add in the `data` component\n",
    "# e.g. direct link to output directory or file/object in OpenData Browser, or\n",
    "# \"things\" that might be interesting for a general MP user to search across contributions\n",
    "contribs = [{\n",
    "    \"identifier\": \"mp-126\", \"formula\": \"Pt\",\n",
    "    \"data\": {\"url\": \"https://materialsproject-contribs.s3.amazonaws.com/index.html\"},\n",
    "    \"tables\": [df_red]\n",
    "}]"
   ]
  },
  {
   "cell_type": "code",
   "execution_count": null,
   "id": "710601db-3f5b-45a9-ad97-d774fb421b73",
   "metadata": {},
   "outputs": [],
   "source": [
    "client.delete_contributions()\n",
    "client.submit_contributions(contribs)"
   ]
  }
 ],
 "metadata": {
  "kernelspec": {
   "display_name": "Python 3",
   "language": "python",
   "name": "python3"
  },
  "language_info": {
   "codemirror_mode": {
    "name": "ipython",
    "version": 3
   },
   "file_extension": ".py",
   "mimetype": "text/x-python",
   "name": "python",
   "nbconvert_exporter": "python",
   "pygments_lexer": "ipython3",
   "version": "3.9.1"
  }
 },
 "nbformat": 4,
 "nbformat_minor": 5
}
