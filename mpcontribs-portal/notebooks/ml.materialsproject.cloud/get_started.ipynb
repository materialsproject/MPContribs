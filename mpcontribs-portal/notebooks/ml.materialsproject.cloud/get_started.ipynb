{
 "cells": [
  {
   "cell_type": "code",
   "execution_count": null,
   "metadata": {},
   "outputs": [],
   "source": [
    "import wget, json\n",
    "from pathlib import Path\n",
    "from string import capwords\n",
    "from pybtex.database import parse_string\n",
    "import pybtex.errors\n",
    "from mpcontribs.client import Client\n",
    "pybtex.errors.set_strict_mode(False)"
   ]
  },
  {
   "cell_type": "code",
   "execution_count": null,
   "metadata": {},
   "outputs": [],
   "source": [
    "client = Client(host='ml-api.materialsproject.cloud')"
   ]
  },
  {
   "cell_type": "code",
   "execution_count": null,
   "metadata": {},
   "outputs": [],
   "source": [
    "datadir = Path('/Users/patrick/gitrepos/mp/mpcontribs-data/')\n",
    "fn = Path('dataset_metadata.json')\n",
    "fp = datadir / fn\n",
    "if not fp.exists():\n",
    "    url = f'https://raw.githubusercontent.com/hackingmaterials/matminer/master/matminer/datasets/{fn}'\n",
    "    wget.download(url)\n",
    "    fn.rename(fp)"
   ]
  },
  {
   "cell_type": "code",
   "execution_count": null,
   "metadata": {},
   "outputs": [],
   "source": [
    "data = json.load(open(fp, 'r'))"
   ]
  },
  {
   "cell_type": "code",
   "execution_count": null,
   "metadata": {},
   "outputs": [],
   "source": [
    "for name, info in data.items():\n",
    "    if not name.startswith('matbench_'):\n",
    "        continue\n",
    "    \n",
    "    columns = {}\n",
    "    for col, text in info['columns'].items():\n",
    "        k = col.replace('_', '|').replace('-', '|').replace('(', ' ').replace(')', '')\n",
    "        k = capwords(k).replace(' ', '')\n",
    "        columns[k] = text\n",
    "        \n",
    "    project = {\n",
    "        'name': name,\n",
    "        'is_public': True,\n",
    "        'owner': 'ardunn@lbl.gov',\n",
    "        'title': name, # TODO update and set long_title\n",
    "        'authors': 'A. Dunn, A. Jain',\n",
    "        'description': info['description'],\n",
    "        'other': {\n",
    "            'columns': columns,\n",
    "            'entries': info['num_entries']\n",
    "        },\n",
    "        'references': [\n",
    "            {'label': 'FigShare', 'url': info['url']}\n",
    "        ]\n",
    "    }\n",
    "    \n",
    "    print(name)\n",
    "    for ref in info['bibtex_refs']:\n",
    "        if name == \"matbench_phonons\":\n",
    "            ref = ref.replace(\n",
    "                \"petretto_dwaraknath_miranda_winston_giantomassi_rignanese_van setten_gonze_persson_hautier_2018\",\n",
    "                \"petretto2018\"\n",
    "            )\n",
    "            \n",
    "        bib = parse_string(ref, 'bibtex')\n",
    "        for key, entry in bib.entries.items():\n",
    "            key_is_doi = key.startswith('doi:')\n",
    "            url = 'https://doi.org/' + key.split(':', 1)[-1] if key_is_doi else entry.fields.get('url')\n",
    "            k = 'Zhuo2018' if key_is_doi else capwords(key.replace('_', ''))\n",
    "            if k.startswith('C2'):\n",
    "                k = 'Castelli2012'\n",
    "            elif k.startswith('Landolt'):\n",
    "                k = 'LB1997'\n",
    "            elif k == 'Citrine':\n",
    "                url = 'https://www.citrination.com'\n",
    "            \n",
    "            if len(k) > 8:\n",
    "                k = k[:4] + k[-4:]\n",
    "            project['references'].append(\n",
    "                {'label': k, 'url': url}\n",
    "            )\n",
    "\n",
    "    try:\n",
    "        print(client.projects.create_entry(project=project).result())\n",
    "    except Exception as ex:\n",
    "        print(ex)  # TODO should use get_entry to check existence -> use update_entry if project exists"
   ]
  }
 ],
 "metadata": {
  "kernelspec": {
   "display_name": "Python 3",
   "language": "python",
   "name": "python3"
  },
  "language_info": {
   "codemirror_mode": {
    "name": "ipython",
    "version": 3
   },
   "file_extension": ".py",
   "mimetype": "text/x-python",
   "name": "python",
   "nbconvert_exporter": "python",
   "pygments_lexer": "ipython3",
   "version": "3.8.3"
  }
 },
 "nbformat": 4,
 "nbformat_minor": 2
}
